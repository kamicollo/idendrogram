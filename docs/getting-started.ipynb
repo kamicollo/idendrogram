{
 "cells": [
  {
   "cell_type": "code",
   "execution_count": 1,
   "metadata": {
    "tags": [
     "remove"
    ]
   },
   "outputs": [],
   "source": [
    "import os, sys\n",
    "sys.path.insert(1, os.path.join(sys.path[0], '..'))\n",
    "from sklearn.datasets import load_iris\n",
    "import altair as alt\n",
    "alt.renderers.set_embed_options(actions=False)\n",
    "data = load_iris(as_frame=True)"
   ]
  },
  {
   "attachments": {},
   "cell_type": "markdown",
   "metadata": {},
   "source": [
    "# Getting started\n",
    "\n",
    "IDendro integrates seamlessly with outputs from your favorite hierarchical clustering library, with one-line drop-ins for SciPy, HDBScan and Scikit-learn agglomerative clustering, while dendrograms can be visualized in Plotly, Altair and Matplotlib (limited support). Switching visualization frontends is as simple as passing an argument to the `plot()` function.\n",
    "\n",
    "## Basic usage"
   ]
  },
  {
   "cell_type": "code",
   "execution_count": 9,
   "metadata": {},
   "outputs": [
    {
     "data": {
      "text/html": [
       "\n",
       "<div id=\"altair-viz-3be53ee81e514177ac7eaf67ca36210e\"></div>\n",
       "<script type=\"text/javascript\">\n",
       "  var VEGA_DEBUG = (typeof VEGA_DEBUG == \"undefined\") ? {} : VEGA_DEBUG;\n",
       "  (function(spec, embedOpt){\n",
       "    let outputDiv = document.currentScript.previousElementSibling;\n",
       "    if (outputDiv.id !== \"altair-viz-3be53ee81e514177ac7eaf67ca36210e\") {\n",
       "      outputDiv = document.getElementById(\"altair-viz-3be53ee81e514177ac7eaf67ca36210e\");\n",
       "    }\n",
       "    const paths = {\n",
       "      \"vega\": \"https://cdn.jsdelivr.net/npm//vega@5?noext\",\n",
       "      \"vega-lib\": \"https://cdn.jsdelivr.net/npm//vega-lib?noext\",\n",
       "      \"vega-lite\": \"https://cdn.jsdelivr.net/npm//vega-lite@4.17.0?noext\",\n",
       "      \"vega-embed\": \"https://cdn.jsdelivr.net/npm//vega-embed@6?noext\",\n",
       "    };\n",
       "\n",
       "    function maybeLoadScript(lib, version) {\n",
       "      var key = `${lib.replace(\"-\", \"\")}_version`;\n",
       "      return (VEGA_DEBUG[key] == version) ?\n",
       "        Promise.resolve(paths[lib]) :\n",
       "        new Promise(function(resolve, reject) {\n",
       "          var s = document.createElement('script');\n",
       "          document.getElementsByTagName(\"head\")[0].appendChild(s);\n",
       "          s.async = true;\n",
       "          s.onload = () => {\n",
       "            VEGA_DEBUG[key] = version;\n",
       "            return resolve(paths[lib]);\n",
       "          };\n",
       "          s.onerror = () => reject(`Error loading script: ${paths[lib]}`);\n",
       "          s.src = paths[lib];\n",
       "        });\n",
       "    }\n",
       "\n",
       "    function showError(err) {\n",
       "      outputDiv.innerHTML = `<div class=\"error\" style=\"color:red;\">${err}</div>`;\n",
       "      throw err;\n",
       "    }\n",
       "\n",
       "    function displayChart(vegaEmbed) {\n",
       "      vegaEmbed(outputDiv, spec, embedOpt)\n",
       "        .catch(err => showError(`Javascript Error: ${err.message}<br>This usually means there's a typo in your chart specification. See the javascript console for the full traceback.`));\n",
       "    }\n",
       "\n",
       "    if(typeof define === \"function\" && define.amd) {\n",
       "      requirejs.config({paths});\n",
       "      require([\"vega-embed\"], displayChart, err => showError(`Error loading script: ${err.message}`));\n",
       "    } else {\n",
       "      maybeLoadScript(\"vega\", \"5\")\n",
       "        .then(() => maybeLoadScript(\"vega-lite\", \"4.17.0\"))\n",
       "        .then(() => maybeLoadScript(\"vega-embed\", \"6\"))\n",
       "        .catch(showError)\n",
       "        .then(() => displayChart(vegaEmbed));\n",
       "    }\n",
       "  })({\"layer\": [{\"data\": {\"name\": \"data-ed32322410ddee3c250136b1d1abcd9d\"}, \"mark\": \"line\", \"encoding\": {\"color\": {\"field\": \"fillcolor\", \"legend\": null, \"scale\": null, \"type\": \"nominal\"}, \"detail\": {\"field\": \"index\", \"type\": \"quantitative\"}, \"order\": {\"field\": \"_order_helper\", \"type\": \"quantitative\"}, \"strokeDash\": {\"field\": \"strokedash\", \"legend\": null, \"scale\": null, \"type\": \"nominal\"}, \"strokeOpacity\": {\"field\": \"strokeopacity\", \"legend\": null, \"scale\": null, \"type\": \"quantitative\"}, \"strokeWidth\": {\"field\": \"strokewidth\", \"legend\": null, \"scale\": null, \"type\": \"quantitative\"}, \"x\": {\"axis\": {\"grid\": false, \"labelAngle\": 0, \"labelExpr\": \"datum.value == 5.0 ? '1' : datum.value == 15.0 ? '1' : datum.value == 25.0 ? '1' : datum.value == 35.0 ? '1' : datum.value == 45.0 ? '1' : datum.value == 55.0 ? '1' : datum.value == 65.0 ? '1' : datum.value == 75.0 ? '1' : datum.value == 85.0 ? '2' : datum.value == 95.0 ? '38' : datum.value == 105.0 ? '1' : datum.value == 115.0 ? '1' : datum.value == 125.0 ? '1' : datum.value == 135.0 ? '1' : datum.value == 145.0 ? '1' : datum.value == 155.0 ? '1' : datum.value == 165.0 ? '1' : datum.value == 175.0 ? '1' : datum.value == 185.0 ? '1' : datum.value == 195.0 ? '1' : datum.value == 205.0 ? '1' : datum.value == 215.0 ? '1' : datum.value == 225.0 ? '1' : datum.value == 235.0 ? '1' : datum.value == 245.0 ? '1' : datum.value == 255.0 ? '1' : datum.value == 265.0 ? '1' : datum.value == 275.0 ? '1' : datum.value == 285.0 ? '1' : datum.value == 295.0 ? '83' : ''\", \"labelPadding\": 10, \"orient\": \"bottom\", \"ticks\": false, \"values\": [5.0, 15.0, 25.0, 35.0, 45.0, 55.0, 65.0, 75.0, 85.0, 95.0, 105.0, 115.0, 125.0, 135.0, 145.0, 155.0, 165.0, 175.0, 185.0, 195.0, 205.0, 215.0, 225.0, 235.0, 245.0, 255.0, 265.0, 275.0, 285.0, 295.0]}, \"field\": \"x\", \"title\": null, \"type\": \"quantitative\"}, \"y\": {\"axis\": {\"grid\": false}, \"field\": \"y\", \"scale\": {\"reverse\": false, \"type\": \"linear\"}, \"title\": null, \"type\": \"quantitative\"}}}, {\"layer\": [{\"layer\": [{\"mark\": \"point\", \"encoding\": {\"fill\": {\"field\": \"fillcolor\", \"scale\": null, \"type\": \"nominal\"}, \"opacity\": {\"field\": \"opacity\", \"scale\": null, \"type\": \"quantitative\"}, \"size\": {\"field\": \"size\", \"scale\": null, \"type\": \"quantitative\"}, \"stroke\": {\"field\": \"edgecolor\", \"scale\": null, \"type\": \"nominal\"}, \"tooltip\": {\"field\": \"hovertext\", \"type\": \"nominal\"}, \"x\": {\"axis\": {\"grid\": false, \"labelAngle\": 0, \"labelExpr\": \"datum.value == 5.0 ? '1' : datum.value == 15.0 ? '1' : datum.value == 25.0 ? '1' : datum.value == 35.0 ? '1' : datum.value == 45.0 ? '1' : datum.value == 55.0 ? '1' : datum.value == 65.0 ? '1' : datum.value == 75.0 ? '1' : datum.value == 85.0 ? '2' : datum.value == 95.0 ? '38' : datum.value == 105.0 ? '1' : datum.value == 115.0 ? '1' : datum.value == 125.0 ? '1' : datum.value == 135.0 ? '1' : datum.value == 145.0 ? '1' : datum.value == 155.0 ? '1' : datum.value == 165.0 ? '1' : datum.value == 175.0 ? '1' : datum.value == 185.0 ? '1' : datum.value == 195.0 ? '1' : datum.value == 205.0 ? '1' : datum.value == 215.0 ? '1' : datum.value == 225.0 ? '1' : datum.value == 235.0 ? '1' : datum.value == 245.0 ? '1' : datum.value == 255.0 ? '1' : datum.value == 265.0 ? '1' : datum.value == 275.0 ? '1' : datum.value == 285.0 ? '1' : datum.value == 295.0 ? '83' : ''\", \"labelPadding\": 10, \"orient\": \"bottom\", \"ticks\": false, \"values\": [5.0, 15.0, 25.0, 35.0, 45.0, 55.0, 65.0, 75.0, 85.0, 95.0, 105.0, 115.0, 125.0, 135.0, 145.0, 155.0, 165.0, 175.0, 185.0, 195.0, 205.0, 215.0, 225.0, 235.0, 245.0, 255.0, 265.0, 275.0, 285.0, 295.0]}, \"field\": \"x\", \"title\": null, \"type\": \"quantitative\"}, \"y\": {\"axis\": {\"grid\": false}, \"field\": \"y\", \"scale\": {\"reverse\": false, \"type\": \"linear\"}, \"title\": null, \"type\": \"quantitative\"}}}, {\"mark\": {\"type\": \"text\", \"fontWeight\": \"bold\"}, \"encoding\": {\"color\": {\"field\": \"labelcolor\", \"scale\": null, \"type\": \"nominal\"}, \"size\": {\"field\": \"labelsize\", \"scale\": null, \"type\": \"quantitative\"}, \"text\": {\"field\": \"label\", \"type\": \"nominal\"}, \"tooltip\": {\"field\": \"hovertext\", \"type\": \"nominal\"}, \"x\": {\"axis\": {\"grid\": false, \"labelAngle\": 0, \"labelExpr\": \"datum.value == 5.0 ? '1' : datum.value == 15.0 ? '1' : datum.value == 25.0 ? '1' : datum.value == 35.0 ? '1' : datum.value == 45.0 ? '1' : datum.value == 55.0 ? '1' : datum.value == 65.0 ? '1' : datum.value == 75.0 ? '1' : datum.value == 85.0 ? '2' : datum.value == 95.0 ? '38' : datum.value == 105.0 ? '1' : datum.value == 115.0 ? '1' : datum.value == 125.0 ? '1' : datum.value == 135.0 ? '1' : datum.value == 145.0 ? '1' : datum.value == 155.0 ? '1' : datum.value == 165.0 ? '1' : datum.value == 175.0 ? '1' : datum.value == 185.0 ? '1' : datum.value == 195.0 ? '1' : datum.value == 205.0 ? '1' : datum.value == 215.0 ? '1' : datum.value == 225.0 ? '1' : datum.value == 235.0 ? '1' : datum.value == 245.0 ? '1' : datum.value == 255.0 ? '1' : datum.value == 265.0 ? '1' : datum.value == 275.0 ? '1' : datum.value == 285.0 ? '1' : datum.value == 295.0 ? '83' : ''\", \"labelPadding\": 10, \"orient\": \"bottom\", \"ticks\": false, \"values\": [5.0, 15.0, 25.0, 35.0, 45.0, 55.0, 65.0, 75.0, 85.0, 95.0, 105.0, 115.0, 125.0, 135.0, 145.0, 155.0, 165.0, 175.0, 185.0, 195.0, 205.0, 215.0, 225.0, 235.0, 245.0, 255.0, 265.0, 275.0, 285.0, 295.0]}, \"field\": \"x\", \"title\": null, \"type\": \"quantitative\"}, \"y\": {\"axis\": {\"grid\": false}, \"field\": \"y\", \"scale\": {\"reverse\": false, \"type\": \"linear\"}, \"title\": null, \"type\": \"quantitative\"}}}]}], \"data\": {\"name\": \"data-af18862b6398f4519f8713525654d6e6\"}}], \"height\": 200, \"width\": 550, \"$schema\": \"https://vega.github.io/schema/vega-lite/v4.17.0.json\", \"datasets\": {\"data-ed32322410ddee3c250136b1d1abcd9d\": [{\"index\": 0, \"x\": 85.0, \"y\": 0.0, \"fillcolor\": \"#ff7f0e\", \"id\": 236, \"children_id\": [231, 235], \"cluster_id\": null, \"strokewidth\": 1.0, \"strokedash\": [1, 0], \"strokeopacity\": 1.0, \"_order_helper\": 0}, {\"index\": 0, \"x\": 85.0, \"y\": 0.3000000000000001, \"fillcolor\": \"#ff7f0e\", \"id\": 236, \"children_id\": [231, 235], \"cluster_id\": null, \"strokewidth\": 1.0, \"strokedash\": [1, 0], \"strokeopacity\": 1.0, \"_order_helper\": 1}, {\"index\": 0, \"x\": 95.0, \"y\": 0.3000000000000001, \"fillcolor\": \"#ff7f0e\", \"id\": 236, \"children_id\": [231, 235], \"cluster_id\": null, \"strokewidth\": 1.0, \"strokedash\": [1, 0], \"strokeopacity\": 1.0, \"_order_helper\": 2}, {\"index\": 0, \"x\": 95.0, \"y\": 0.0, \"fillcolor\": \"#ff7f0e\", \"id\": 236, \"children_id\": [231, 235], \"cluster_id\": null, \"strokewidth\": 1.0, \"strokedash\": [1, 0], \"strokeopacity\": 1.0, \"_order_helper\": 3}, {\"index\": 1, \"x\": 105.0, \"y\": 0.0, \"fillcolor\": \"#ff7f0e\", \"id\": 249, \"children_id\": [5, 18], \"cluster_id\": null, \"strokewidth\": 1.0, \"strokedash\": [1, 0], \"strokeopacity\": 1.0, \"_order_helper\": 0}, {\"index\": 1, \"x\": 105.0, \"y\": 0.33166247903553986, \"fillcolor\": \"#ff7f0e\", \"id\": 249, \"children_id\": [5, 18], \"cluster_id\": null, \"strokewidth\": 1.0, \"strokedash\": [1, 0], \"strokeopacity\": 1.0, \"_order_helper\": 1}, {\"index\": 1, \"x\": 115.0, \"y\": 0.33166247903553986, \"fillcolor\": \"#ff7f0e\", \"id\": 249, \"children_id\": [5, 18], \"cluster_id\": null, \"strokewidth\": 1.0, \"strokedash\": [1, 0], \"strokeopacity\": 1.0, \"_order_helper\": 2}, {\"index\": 1, \"x\": 115.0, \"y\": 0.0, \"fillcolor\": \"#ff7f0e\", \"id\": 249, \"children_id\": [5, 18], \"cluster_id\": null, \"strokewidth\": 1.0, \"strokedash\": [1, 0], \"strokeopacity\": 1.0, \"_order_helper\": 3}, {\"index\": 2, \"x\": 90.0, \"y\": 0.3000000000000001, \"fillcolor\": \"#ff7f0e\", \"id\": 255, \"children_id\": [236, 249], \"cluster_id\": null, \"strokewidth\": 1.0, \"strokedash\": [1, 0], \"strokeopacity\": 1.0, \"_order_helper\": 0}, {\"index\": 2, \"x\": 90.0, \"y\": 0.3464101615137753, \"fillcolor\": \"#ff7f0e\", \"id\": 255, \"children_id\": [236, 249], \"cluster_id\": null, \"strokewidth\": 1.0, \"strokedash\": [1, 0], \"strokeopacity\": 1.0, \"_order_helper\": 1}, {\"index\": 2, \"x\": 110.0, \"y\": 0.3464101615137753, \"fillcolor\": \"#ff7f0e\", \"id\": 255, \"children_id\": [236, 249], \"cluster_id\": null, \"strokewidth\": 1.0, \"strokedash\": [1, 0], \"strokeopacity\": 1.0, \"_order_helper\": 2}, {\"index\": 2, \"x\": 110.0, \"y\": 0.33166247903553986, \"fillcolor\": \"#ff7f0e\", \"id\": 255, \"children_id\": [236, 249], \"cluster_id\": null, \"strokewidth\": 1.0, \"strokedash\": [1, 0], \"strokeopacity\": 1.0, \"_order_helper\": 3}, {\"index\": 3, \"x\": 75.0, \"y\": 0.0, \"fillcolor\": \"#ff7f0e\", \"id\": 256, \"children_id\": [16, 255], \"cluster_id\": null, \"strokewidth\": 1.0, \"strokedash\": [1, 0], \"strokeopacity\": 1.0, \"_order_helper\": 0}, {\"index\": 3, \"x\": 75.0, \"y\": 0.3464101615137753, \"fillcolor\": \"#ff7f0e\", \"id\": 256, \"children_id\": [16, 255], \"cluster_id\": null, \"strokewidth\": 1.0, \"strokedash\": [1, 0], \"strokeopacity\": 1.0, \"_order_helper\": 1}, {\"index\": 3, \"x\": 100.0, \"y\": 0.3464101615137753, \"fillcolor\": \"#ff7f0e\", \"id\": 256, \"children_id\": [16, 255], \"cluster_id\": null, \"strokewidth\": 1.0, \"strokedash\": [1, 0], \"strokeopacity\": 1.0, \"_order_helper\": 2}, {\"index\": 3, \"x\": 100.0, \"y\": 0.3464101615137753, \"fillcolor\": \"#ff7f0e\", \"id\": 256, \"children_id\": [16, 255], \"cluster_id\": null, \"strokewidth\": 1.0, \"strokedash\": [1, 0], \"strokeopacity\": 1.0, \"_order_helper\": 3}, {\"index\": 4, \"x\": 65.0, \"y\": 0.0, \"fillcolor\": \"#ff7f0e\", \"id\": 258, \"children_id\": [32, 256], \"cluster_id\": null, \"strokewidth\": 1.0, \"strokedash\": [1, 0], \"strokeopacity\": 1.0, \"_order_helper\": 0}, {\"index\": 4, \"x\": 65.0, \"y\": 0.3464101615137755, \"fillcolor\": \"#ff7f0e\", \"id\": 258, \"children_id\": [32, 256], \"cluster_id\": null, \"strokewidth\": 1.0, \"strokedash\": [1, 0], \"strokeopacity\": 1.0, \"_order_helper\": 1}, {\"index\": 4, \"x\": 87.5, \"y\": 0.3464101615137755, \"fillcolor\": \"#ff7f0e\", \"id\": 258, \"children_id\": [32, 256], \"cluster_id\": null, \"strokewidth\": 1.0, \"strokedash\": [1, 0], \"strokeopacity\": 1.0, \"_order_helper\": 2}, {\"index\": 4, \"x\": 87.5, \"y\": 0.3464101615137753, \"fillcolor\": \"#ff7f0e\", \"id\": 258, \"children_id\": [32, 256], \"cluster_id\": null, \"strokewidth\": 1.0, \"strokedash\": [1, 0], \"strokeopacity\": 1.0, \"_order_helper\": 3}, {\"index\": 5, \"x\": 55.0, \"y\": 0.0, \"fillcolor\": \"#ff7f0e\", \"id\": 259, \"children_id\": [33, 258], \"cluster_id\": null, \"strokewidth\": 1.0, \"strokedash\": [1, 0], \"strokeopacity\": 1.0, \"_order_helper\": 0}, {\"index\": 5, \"x\": 55.0, \"y\": 0.3464101615137755, \"fillcolor\": \"#ff7f0e\", \"id\": 259, \"children_id\": [33, 258], \"cluster_id\": null, \"strokewidth\": 1.0, \"strokedash\": [1, 0], \"strokeopacity\": 1.0, \"_order_helper\": 1}, {\"index\": 5, \"x\": 76.25, \"y\": 0.3464101615137755, \"fillcolor\": \"#ff7f0e\", \"id\": 259, \"children_id\": [33, 258], \"cluster_id\": null, \"strokewidth\": 1.0, \"strokedash\": [1, 0], \"strokeopacity\": 1.0, \"_order_helper\": 2}, {\"index\": 5, \"x\": 76.25, \"y\": 0.3464101615137755, \"fillcolor\": \"#ff7f0e\", \"id\": 259, \"children_id\": [33, 258], \"cluster_id\": null, \"strokewidth\": 1.0, \"strokedash\": [1, 0], \"strokeopacity\": 1.0, \"_order_helper\": 3}, {\"index\": 6, \"x\": 45.0, \"y\": 0.0, \"fillcolor\": \"#ff7f0e\", \"id\": 263, \"children_id\": [44, 259], \"cluster_id\": null, \"strokewidth\": 1.0, \"strokedash\": [1, 0], \"strokeopacity\": 1.0, \"_order_helper\": 0}, {\"index\": 6, \"x\": 45.0, \"y\": 0.3605551275463988, \"fillcolor\": \"#ff7f0e\", \"id\": 263, \"children_id\": [44, 259], \"cluster_id\": null, \"strokewidth\": 1.0, \"strokedash\": [1, 0], \"strokeopacity\": 1.0, \"_order_helper\": 1}, {\"index\": 6, \"x\": 65.625, \"y\": 0.3605551275463988, \"fillcolor\": \"#ff7f0e\", \"id\": 263, \"children_id\": [44, 259], \"cluster_id\": null, \"strokewidth\": 1.0, \"strokedash\": [1, 0], \"strokeopacity\": 1.0, \"_order_helper\": 2}, {\"index\": 6, \"x\": 65.625, \"y\": 0.3464101615137755, \"fillcolor\": \"#ff7f0e\", \"id\": 263, \"children_id\": [44, 259], \"cluster_id\": null, \"strokewidth\": 1.0, \"strokedash\": [1, 0], \"strokeopacity\": 1.0, \"_order_helper\": 3}, {\"index\": 7, \"x\": 35.0, \"y\": 0.0, \"fillcolor\": \"#ff7f0e\", \"id\": 269, \"children_id\": [15, 263], \"cluster_id\": null, \"strokewidth\": 1.0, \"strokedash\": [1, 0], \"strokeopacity\": 1.0, \"_order_helper\": 0}, {\"index\": 7, \"x\": 35.0, \"y\": 0.3605551275463992, \"fillcolor\": \"#ff7f0e\", \"id\": 269, \"children_id\": [15, 263], \"cluster_id\": null, \"strokewidth\": 1.0, \"strokedash\": [1, 0], \"strokeopacity\": 1.0, \"_order_helper\": 1}, {\"index\": 7, \"x\": 55.3125, \"y\": 0.3605551275463992, \"fillcolor\": \"#ff7f0e\", \"id\": 269, \"children_id\": [15, 263], \"cluster_id\": null, \"strokewidth\": 1.0, \"strokedash\": [1, 0], \"strokeopacity\": 1.0, \"_order_helper\": 2}, {\"index\": 7, \"x\": 55.3125, \"y\": 0.3605551275463988, \"fillcolor\": \"#ff7f0e\", \"id\": 269, \"children_id\": [15, 263], \"cluster_id\": null, \"strokewidth\": 1.0, \"strokedash\": [1, 0], \"strokeopacity\": 1.0, \"_order_helper\": 3}, {\"index\": 8, \"x\": 25.0, \"y\": 0.0, \"fillcolor\": \"#ff7f0e\", \"id\": 278, \"children_id\": [14, 269], \"cluster_id\": null, \"strokewidth\": 1.0, \"strokedash\": [1, 0], \"strokeopacity\": 1.0, \"_order_helper\": 0}, {\"index\": 8, \"x\": 25.0, \"y\": 0.412310562561766, \"fillcolor\": \"#ff7f0e\", \"id\": 278, \"children_id\": [14, 269], \"cluster_id\": null, \"strokewidth\": 1.0, \"strokedash\": [1, 0], \"strokeopacity\": 1.0, \"_order_helper\": 1}, {\"index\": 8, \"x\": 45.15625, \"y\": 0.412310562561766, \"fillcolor\": \"#ff7f0e\", \"id\": 278, \"children_id\": [14, 269], \"cluster_id\": null, \"strokewidth\": 1.0, \"strokedash\": [1, 0], \"strokeopacity\": 1.0, \"_order_helper\": 2}, {\"index\": 8, \"x\": 45.15625, \"y\": 0.3605551275463992, \"fillcolor\": \"#ff7f0e\", \"id\": 278, \"children_id\": [14, 269], \"cluster_id\": null, \"strokewidth\": 1.0, \"strokedash\": [1, 0], \"strokeopacity\": 1.0, \"_order_helper\": 3}, {\"index\": 9, \"x\": 15.0, \"y\": 0.0, \"fillcolor\": \"#ff7f0e\", \"id\": 285, \"children_id\": [22, 278], \"cluster_id\": null, \"strokewidth\": 1.0, \"strokedash\": [1, 0], \"strokeopacity\": 1.0, \"_order_helper\": 0}, {\"index\": 9, \"x\": 15.0, \"y\": 0.45825756949558394, \"fillcolor\": \"#ff7f0e\", \"id\": 285, \"children_id\": [22, 278], \"cluster_id\": null, \"strokewidth\": 1.0, \"strokedash\": [1, 0], \"strokeopacity\": 1.0, \"_order_helper\": 1}, {\"index\": 9, \"x\": 35.078125, \"y\": 0.45825756949558394, \"fillcolor\": \"#ff7f0e\", \"id\": 285, \"children_id\": [22, 278], \"cluster_id\": null, \"strokewidth\": 1.0, \"strokedash\": [1, 0], \"strokeopacity\": 1.0, \"_order_helper\": 2}, {\"index\": 9, \"x\": 35.078125, \"y\": 0.412310562561766, \"fillcolor\": \"#ff7f0e\", \"id\": 285, \"children_id\": [22, 278], \"cluster_id\": null, \"strokewidth\": 1.0, \"strokedash\": [1, 0], \"strokeopacity\": 1.0, \"_order_helper\": 3}, {\"index\": 10, \"x\": 5.0, \"y\": 0.0, \"fillcolor\": \"#ff7f0e\", \"id\": 293, \"children_id\": [41, 285], \"cluster_id\": 1.0, \"strokewidth\": 1.0, \"strokedash\": [1, 0], \"strokeopacity\": 1.0, \"_order_helper\": 0}, {\"index\": 10, \"x\": 5.0, \"y\": 0.6244997998398398, \"fillcolor\": \"#ff7f0e\", \"id\": 293, \"children_id\": [41, 285], \"cluster_id\": 1.0, \"strokewidth\": 1.0, \"strokedash\": [1, 0], \"strokeopacity\": 1.0, \"_order_helper\": 1}, {\"index\": 10, \"x\": 25.0390625, \"y\": 0.6244997998398398, \"fillcolor\": \"#ff7f0e\", \"id\": 293, \"children_id\": [41, 285], \"cluster_id\": 1.0, \"strokewidth\": 1.0, \"strokedash\": [1, 0], \"strokeopacity\": 1.0, \"_order_helper\": 2}, {\"index\": 10, \"x\": 25.0390625, \"y\": 0.45825756949558394, \"fillcolor\": \"#ff7f0e\", \"id\": 293, \"children_id\": [41, 285], \"cluster_id\": 1.0, \"strokewidth\": 1.0, \"strokedash\": [1, 0], \"strokeopacity\": 1.0, \"_order_helper\": 3}, {\"index\": 11, \"x\": 125.0, \"y\": 0.0, \"fillcolor\": \"#2ca02c\", \"id\": 279, \"children_id\": [117, 131], \"cluster_id\": 2.0, \"strokewidth\": 1.0, \"strokedash\": [1, 0], \"strokeopacity\": 1.0, \"_order_helper\": 0}, {\"index\": 11, \"x\": 125.0, \"y\": 0.4123105625617661, \"fillcolor\": \"#2ca02c\", \"id\": 279, \"children_id\": [117, 131], \"cluster_id\": 2.0, \"strokewidth\": 1.0, \"strokedash\": [1, 0], \"strokeopacity\": 1.0, \"_order_helper\": 1}, {\"index\": 11, \"x\": 135.0, \"y\": 0.4123105625617661, \"fillcolor\": \"#2ca02c\", \"id\": 279, \"children_id\": [117, 131], \"cluster_id\": 2.0, \"strokewidth\": 1.0, \"strokedash\": [1, 0], \"strokeopacity\": 1.0, \"_order_helper\": 2}, {\"index\": 11, \"x\": 135.0, \"y\": 0.0, \"fillcolor\": \"#2ca02c\", \"id\": 279, \"children_id\": [117, 131], \"cluster_id\": 2.0, \"strokewidth\": 1.0, \"strokedash\": [1, 0], \"strokeopacity\": 1.0, \"_order_helper\": 3}, {\"index\": 12, \"x\": 175.0, \"y\": 0.0, \"fillcolor\": \"#d62728\", \"id\": 161, \"children_id\": [57, 93], \"cluster_id\": null, \"strokewidth\": 1.0, \"strokedash\": [1, 0], \"strokeopacity\": 1.0, \"_order_helper\": 0}, {\"index\": 12, \"x\": 175.0, \"y\": 0.1414213562373093, \"fillcolor\": \"#d62728\", \"id\": 161, \"children_id\": [57, 93], \"cluster_id\": null, \"strokewidth\": 1.0, \"strokedash\": [1, 0], \"strokeopacity\": 1.0, \"_order_helper\": 1}, {\"index\": 12, \"x\": 185.0, \"y\": 0.1414213562373093, \"fillcolor\": \"#d62728\", \"id\": 161, \"children_id\": [57, 93], \"cluster_id\": null, \"strokewidth\": 1.0, \"strokedash\": [1, 0], \"strokeopacity\": 1.0, \"_order_helper\": 2}, {\"index\": 12, \"x\": 185.0, \"y\": 0.0, \"fillcolor\": \"#d62728\", \"id\": 161, \"children_id\": [57, 93], \"cluster_id\": null, \"strokewidth\": 1.0, \"strokedash\": [1, 0], \"strokeopacity\": 1.0, \"_order_helper\": 3}, {\"index\": 13, \"x\": 165.0, \"y\": 0.0, \"fillcolor\": \"#d62728\", \"id\": 265, \"children_id\": [60, 161], \"cluster_id\": null, \"strokewidth\": 1.0, \"strokedash\": [1, 0], \"strokeopacity\": 1.0, \"_order_helper\": 0}, {\"index\": 13, \"x\": 165.0, \"y\": 0.3605551275463989, \"fillcolor\": \"#d62728\", \"id\": 265, \"children_id\": [60, 161], \"cluster_id\": null, \"strokewidth\": 1.0, \"strokedash\": [1, 0], \"strokeopacity\": 1.0, \"_order_helper\": 1}, {\"index\": 13, \"x\": 180.0, \"y\": 0.3605551275463989, \"fillcolor\": \"#d62728\", \"id\": 265, \"children_id\": [60, 161], \"cluster_id\": null, \"strokewidth\": 1.0, \"strokedash\": [1, 0], \"strokeopacity\": 1.0, \"_order_helper\": 2}, {\"index\": 13, \"x\": 180.0, \"y\": 0.1414213562373093, \"fillcolor\": \"#d62728\", \"id\": 265, \"children_id\": [60, 161], \"cluster_id\": null, \"strokewidth\": 1.0, \"strokedash\": [1, 0], \"strokeopacity\": 1.0, \"_order_helper\": 3}, {\"index\": 14, \"x\": 155.0, \"y\": 0.0, \"fillcolor\": \"#d62728\", \"id\": 273, \"children_id\": [98, 265], \"cluster_id\": null, \"strokewidth\": 1.0, \"strokedash\": [1, 0], \"strokeopacity\": 1.0, \"_order_helper\": 0}, {\"index\": 14, \"x\": 155.0, \"y\": 0.3872983346207412, \"fillcolor\": \"#d62728\", \"id\": 273, \"children_id\": [98, 265], \"cluster_id\": null, \"strokewidth\": 1.0, \"strokedash\": [1, 0], \"strokeopacity\": 1.0, \"_order_helper\": 1}, {\"index\": 14, \"x\": 172.5, \"y\": 0.3872983346207412, \"fillcolor\": \"#d62728\", \"id\": 273, \"children_id\": [98, 265], \"cluster_id\": null, \"strokewidth\": 1.0, \"strokedash\": [1, 0], \"strokeopacity\": 1.0, \"_order_helper\": 2}, {\"index\": 14, \"x\": 172.5, \"y\": 0.3605551275463989, \"fillcolor\": \"#d62728\", \"id\": 273, \"children_id\": [98, 265], \"cluster_id\": null, \"strokewidth\": 1.0, \"strokedash\": [1, 0], \"strokeopacity\": 1.0, \"_order_helper\": 3}, {\"index\": 15, \"x\": 245.0, \"y\": 0.0, \"fillcolor\": \"#d62728\", \"id\": 229, \"children_id\": [105, 122], \"cluster_id\": null, \"strokewidth\": 1.0, \"strokedash\": [1, 0], \"strokeopacity\": 1.0, \"_order_helper\": 0}, {\"index\": 15, \"x\": 245.0, \"y\": 0.26457513110645964, \"fillcolor\": \"#d62728\", \"id\": 229, \"children_id\": [105, 122], \"cluster_id\": null, \"strokewidth\": 1.0, \"strokedash\": [1, 0], \"strokeopacity\": 1.0, \"_order_helper\": 1}, {\"index\": 15, \"x\": 255.0, \"y\": 0.26457513110645964, \"fillcolor\": \"#d62728\", \"id\": 229, \"children_id\": [105, 122], \"cluster_id\": null, \"strokewidth\": 1.0, \"strokedash\": [1, 0], \"strokeopacity\": 1.0, \"_order_helper\": 2}, {\"index\": 15, \"x\": 255.0, \"y\": 0.0, \"fillcolor\": \"#d62728\", \"id\": 229, \"children_id\": [105, 122], \"cluster_id\": null, \"strokewidth\": 1.0, \"strokedash\": [1, 0], \"strokeopacity\": 1.0, \"_order_helper\": 3}, {\"index\": 16, \"x\": 235.0, \"y\": 0.0, \"fillcolor\": \"#d62728\", \"id\": 277, \"children_id\": [118, 229], \"cluster_id\": null, \"strokewidth\": 1.0, \"strokedash\": [1, 0], \"strokeopacity\": 1.0, \"_order_helper\": 0}, {\"index\": 16, \"x\": 235.0, \"y\": 0.4123105625617659, \"fillcolor\": \"#d62728\", \"id\": 277, \"children_id\": [118, 229], \"cluster_id\": null, \"strokewidth\": 1.0, \"strokedash\": [1, 0], \"strokeopacity\": 1.0, \"_order_helper\": 1}, {\"index\": 16, \"x\": 250.0, \"y\": 0.4123105625617659, \"fillcolor\": \"#d62728\", \"id\": 277, \"children_id\": [118, 229], \"cluster_id\": null, \"strokewidth\": 1.0, \"strokedash\": [1, 0], \"strokeopacity\": 1.0, \"_order_helper\": 2}, {\"index\": 16, \"x\": 250.0, \"y\": 0.26457513110645964, \"fillcolor\": \"#d62728\", \"id\": 277, \"children_id\": [118, 229], \"cluster_id\": null, \"strokewidth\": 1.0, \"strokedash\": [1, 0], \"strokeopacity\": 1.0, \"_order_helper\": 3}, {\"index\": 17, \"x\": 265.0, \"y\": 0.0, \"fillcolor\": \"#d62728\", \"id\": 220, \"children_id\": [68, 87], \"cluster_id\": null, \"strokewidth\": 1.0, \"strokedash\": [1, 0], \"strokeopacity\": 1.0, \"_order_helper\": 0}, {\"index\": 17, \"x\": 265.0, \"y\": 0.26457513110645864, \"fillcolor\": \"#d62728\", \"id\": 220, \"children_id\": [68, 87], \"cluster_id\": null, \"strokewidth\": 1.0, \"strokedash\": [1, 0], \"strokeopacity\": 1.0, \"_order_helper\": 1}, {\"index\": 17, \"x\": 275.0, \"y\": 0.26457513110645864, \"fillcolor\": \"#d62728\", \"id\": 220, \"children_id\": [68, 87], \"cluster_id\": null, \"strokewidth\": 1.0, \"strokedash\": [1, 0], \"strokeopacity\": 1.0, \"_order_helper\": 2}, {\"index\": 17, \"x\": 275.0, \"y\": 0.0, \"fillcolor\": \"#d62728\", \"id\": 220, \"children_id\": [68, 87], \"cluster_id\": null, \"strokewidth\": 1.0, \"strokedash\": [1, 0], \"strokeopacity\": 1.0, \"_order_helper\": 3}, {\"index\": 18, \"x\": 285.0, \"y\": 0.0, \"fillcolor\": \"#d62728\", \"id\": 287, \"children_id\": [62, 286], \"cluster_id\": null, \"strokewidth\": 1.0, \"strokedash\": [1, 0], \"strokeopacity\": 1.0, \"_order_helper\": 0}, {\"index\": 18, \"x\": 285.0, \"y\": 0.4898979485566356, \"fillcolor\": \"#d62728\", \"id\": 287, \"children_id\": [62, 286], \"cluster_id\": null, \"strokewidth\": 1.0, \"strokedash\": [1, 0], \"strokeopacity\": 1.0, \"_order_helper\": 1}, {\"index\": 18, \"x\": 295.0, \"y\": 0.4898979485566356, \"fillcolor\": \"#d62728\", \"id\": 287, \"children_id\": [62, 286], \"cluster_id\": null, \"strokewidth\": 1.0, \"strokedash\": [1, 0], \"strokeopacity\": 1.0, \"_order_helper\": 2}, {\"index\": 18, \"x\": 295.0, \"y\": 0.0, \"fillcolor\": \"#d62728\", \"id\": 287, \"children_id\": [62, 286], \"cluster_id\": null, \"strokewidth\": 1.0, \"strokedash\": [1, 0], \"strokeopacity\": 1.0, \"_order_helper\": 3}, {\"index\": 19, \"x\": 270.0, \"y\": 0.26457513110645864, \"fillcolor\": \"#d62728\", \"id\": 288, \"children_id\": [220, 287], \"cluster_id\": null, \"strokewidth\": 1.0, \"strokedash\": [1, 0], \"strokeopacity\": 1.0, \"_order_helper\": 0}, {\"index\": 19, \"x\": 270.0, \"y\": 0.5099019513592786, \"fillcolor\": \"#d62728\", \"id\": 288, \"children_id\": [220, 287], \"cluster_id\": null, \"strokewidth\": 1.0, \"strokedash\": [1, 0], \"strokeopacity\": 1.0, \"_order_helper\": 1}, {\"index\": 19, \"x\": 290.0, \"y\": 0.5099019513592786, \"fillcolor\": \"#d62728\", \"id\": 288, \"children_id\": [220, 287], \"cluster_id\": null, \"strokewidth\": 1.0, \"strokedash\": [1, 0], \"strokeopacity\": 1.0, \"_order_helper\": 2}, {\"index\": 19, \"x\": 290.0, \"y\": 0.4898979485566356, \"fillcolor\": \"#d62728\", \"id\": 288, \"children_id\": [220, 287], \"cluster_id\": null, \"strokewidth\": 1.0, \"strokedash\": [1, 0], \"strokeopacity\": 1.0, \"_order_helper\": 3}, {\"index\": 20, \"x\": 242.5, \"y\": 0.4123105625617659, \"fillcolor\": \"#d62728\", \"id\": 289, \"children_id\": [277, 288], \"cluster_id\": null, \"strokewidth\": 1.0, \"strokedash\": [1, 0], \"strokeopacity\": 1.0, \"_order_helper\": 0}, {\"index\": 20, \"x\": 242.5, \"y\": 0.5291502622129179, \"fillcolor\": \"#d62728\", \"id\": 289, \"children_id\": [277, 288], \"cluster_id\": null, \"strokewidth\": 1.0, \"strokedash\": [1, 0], \"strokeopacity\": 1.0, \"_order_helper\": 1}, {\"index\": 20, \"x\": 280.0, \"y\": 0.5291502622129179, \"fillcolor\": \"#d62728\", \"id\": 289, \"children_id\": [277, 288], \"cluster_id\": null, \"strokewidth\": 1.0, \"strokedash\": [1, 0], \"strokeopacity\": 1.0, \"_order_helper\": 2}, {\"index\": 20, \"x\": 280.0, \"y\": 0.5099019513592786, \"fillcolor\": \"#d62728\", \"id\": 289, \"children_id\": [277, 288], \"cluster_id\": null, \"strokewidth\": 1.0, \"strokedash\": [1, 0], \"strokeopacity\": 1.0, \"_order_helper\": 3}, {\"index\": 21, \"x\": 225.0, \"y\": 0.0, \"fillcolor\": \"#d62728\", \"id\": 290, \"children_id\": [135, 289], \"cluster_id\": null, \"strokewidth\": 1.0, \"strokedash\": [1, 0], \"strokeopacity\": 1.0, \"_order_helper\": 0}, {\"index\": 21, \"x\": 225.0, \"y\": 0.5385164807134504, \"fillcolor\": \"#d62728\", \"id\": 290, \"children_id\": [135, 289], \"cluster_id\": null, \"strokewidth\": 1.0, \"strokedash\": [1, 0], \"strokeopacity\": 1.0, \"_order_helper\": 1}, {\"index\": 21, \"x\": 261.25, \"y\": 0.5385164807134504, \"fillcolor\": \"#d62728\", \"id\": 290, \"children_id\": [135, 289], \"cluster_id\": null, \"strokewidth\": 1.0, \"strokedash\": [1, 0], \"strokeopacity\": 1.0, \"_order_helper\": 2}, {\"index\": 21, \"x\": 261.25, \"y\": 0.5291502622129179, \"fillcolor\": \"#d62728\", \"id\": 290, \"children_id\": [135, 289], \"cluster_id\": null, \"strokewidth\": 1.0, \"strokedash\": [1, 0], \"strokeopacity\": 1.0, \"_order_helper\": 3}, {\"index\": 22, \"x\": 215.0, \"y\": 0.0, \"fillcolor\": \"#d62728\", \"id\": 291, \"children_id\": [134, 290], \"cluster_id\": null, \"strokewidth\": 1.0, \"strokedash\": [1, 0], \"strokeopacity\": 1.0, \"_order_helper\": 0}, {\"index\": 22, \"x\": 215.0, \"y\": 0.5385164807134505, \"fillcolor\": \"#d62728\", \"id\": 291, \"children_id\": [134, 290], \"cluster_id\": null, \"strokewidth\": 1.0, \"strokedash\": [1, 0], \"strokeopacity\": 1.0, \"_order_helper\": 1}, {\"index\": 22, \"x\": 243.125, \"y\": 0.5385164807134505, \"fillcolor\": \"#d62728\", \"id\": 291, \"children_id\": [134, 290], \"cluster_id\": null, \"strokewidth\": 1.0, \"strokedash\": [1, 0], \"strokeopacity\": 1.0, \"_order_helper\": 2}, {\"index\": 22, \"x\": 243.125, \"y\": 0.5385164807134504, \"fillcolor\": \"#d62728\", \"id\": 291, \"children_id\": [134, 290], \"cluster_id\": null, \"strokewidth\": 1.0, \"strokedash\": [1, 0], \"strokeopacity\": 1.0, \"_order_helper\": 3}, {\"index\": 23, \"x\": 205.0, \"y\": 0.0, \"fillcolor\": \"#d62728\", \"id\": 292, \"children_id\": [108, 291], \"cluster_id\": null, \"strokewidth\": 1.0, \"strokedash\": [1, 0], \"strokeopacity\": 1.0, \"_order_helper\": 0}, {\"index\": 23, \"x\": 205.0, \"y\": 0.5567764362830021, \"fillcolor\": \"#d62728\", \"id\": 292, \"children_id\": [108, 291], \"cluster_id\": null, \"strokewidth\": 1.0, \"strokedash\": [1, 0], \"strokeopacity\": 1.0, \"_order_helper\": 1}, {\"index\": 23, \"x\": 229.0625, \"y\": 0.5567764362830021, \"fillcolor\": \"#d62728\", \"id\": 292, \"children_id\": [108, 291], \"cluster_id\": null, \"strokewidth\": 1.0, \"strokedash\": [1, 0], \"strokeopacity\": 1.0, \"_order_helper\": 2}, {\"index\": 23, \"x\": 229.0625, \"y\": 0.5385164807134505, \"fillcolor\": \"#d62728\", \"id\": 292, \"children_id\": [108, 291], \"cluster_id\": null, \"strokewidth\": 1.0, \"strokedash\": [1, 0], \"strokeopacity\": 1.0, \"_order_helper\": 3}, {\"index\": 24, \"x\": 195.0, \"y\": 0.0, \"fillcolor\": \"#d62728\", \"id\": 294, \"children_id\": [109, 292], \"cluster_id\": null, \"strokewidth\": 1.0, \"strokedash\": [1, 0], \"strokeopacity\": 1.0, \"_order_helper\": 0}, {\"index\": 24, \"x\": 195.0, \"y\": 0.6324555320336759, \"fillcolor\": \"#d62728\", \"id\": 294, \"children_id\": [109, 292], \"cluster_id\": null, \"strokewidth\": 1.0, \"strokedash\": [1, 0], \"strokeopacity\": 1.0, \"_order_helper\": 1}, {\"index\": 24, \"x\": 217.03125, \"y\": 0.6324555320336759, \"fillcolor\": \"#d62728\", \"id\": 294, \"children_id\": [109, 292], \"cluster_id\": null, \"strokewidth\": 1.0, \"strokedash\": [1, 0], \"strokeopacity\": 1.0, \"_order_helper\": 2}, {\"index\": 24, \"x\": 217.03125, \"y\": 0.5567764362830021, \"fillcolor\": \"#d62728\", \"id\": 294, \"children_id\": [109, 292], \"cluster_id\": null, \"strokewidth\": 1.0, \"strokedash\": [1, 0], \"strokeopacity\": 1.0, \"_order_helper\": 3}, {\"index\": 25, \"x\": 163.75, \"y\": 0.3872983346207412, \"fillcolor\": \"#d62728\", \"id\": 295, \"children_id\": [273, 294], \"cluster_id\": null, \"strokewidth\": 1.0, \"strokedash\": [1, 0], \"strokeopacity\": 1.0, \"_order_helper\": 0}, {\"index\": 25, \"x\": 163.75, \"y\": 0.6480740698407862, \"fillcolor\": \"#d62728\", \"id\": 295, \"children_id\": [273, 294], \"cluster_id\": null, \"strokewidth\": 1.0, \"strokedash\": [1, 0], \"strokeopacity\": 1.0, \"_order_helper\": 1}, {\"index\": 25, \"x\": 206.015625, \"y\": 0.6480740698407862, \"fillcolor\": \"#d62728\", \"id\": 295, \"children_id\": [273, 294], \"cluster_id\": null, \"strokewidth\": 1.0, \"strokedash\": [1, 0], \"strokeopacity\": 1.0, \"_order_helper\": 2}, {\"index\": 25, \"x\": 206.015625, \"y\": 0.6324555320336759, \"fillcolor\": \"#d62728\", \"id\": 295, \"children_id\": [273, 294], \"cluster_id\": null, \"strokewidth\": 1.0, \"strokedash\": [1, 0], \"strokeopacity\": 1.0, \"_order_helper\": 3}, {\"index\": 26, \"x\": 145.0, \"y\": 0.0, \"fillcolor\": \"#d62728\", \"id\": 296, \"children_id\": [106, 295], \"cluster_id\": 3.0, \"strokewidth\": 1.0, \"strokedash\": [1, 0], \"strokeopacity\": 1.0, \"_order_helper\": 0}, {\"index\": 26, \"x\": 145.0, \"y\": 0.7348469228349535, \"fillcolor\": \"#d62728\", \"id\": 296, \"children_id\": [106, 295], \"cluster_id\": 3.0, \"strokewidth\": 1.0, \"strokedash\": [1, 0], \"strokeopacity\": 1.0, \"_order_helper\": 1}, {\"index\": 26, \"x\": 184.8828125, \"y\": 0.7348469228349535, \"fillcolor\": \"#d62728\", \"id\": 296, \"children_id\": [106, 295], \"cluster_id\": 3.0, \"strokewidth\": 1.0, \"strokedash\": [1, 0], \"strokeopacity\": 1.0, \"_order_helper\": 2}, {\"index\": 26, \"x\": 184.8828125, \"y\": 0.6480740698407862, \"fillcolor\": \"#d62728\", \"id\": 296, \"children_id\": [106, 295], \"cluster_id\": 3.0, \"strokewidth\": 1.0, \"strokedash\": [1, 0], \"strokeopacity\": 1.0, \"_order_helper\": 3}, {\"index\": 27, \"x\": 130.0, \"y\": 0.4123105625617661, \"fillcolor\": \"#1f77b4\", \"id\": 297, \"children_id\": [279, 296], \"cluster_id\": null, \"strokewidth\": 1.0, \"strokedash\": [1, 0], \"strokeopacity\": 1.0, \"_order_helper\": 0}, {\"index\": 27, \"x\": 130.0, \"y\": 0.818535277187245, \"fillcolor\": \"#1f77b4\", \"id\": 297, \"children_id\": [279, 296], \"cluster_id\": null, \"strokewidth\": 1.0, \"strokedash\": [1, 0], \"strokeopacity\": 1.0, \"_order_helper\": 1}, {\"index\": 27, \"x\": 164.94140625, \"y\": 0.818535277187245, \"fillcolor\": \"#1f77b4\", \"id\": 297, \"children_id\": [279, 296], \"cluster_id\": null, \"strokewidth\": 1.0, \"strokedash\": [1, 0], \"strokeopacity\": 1.0, \"_order_helper\": 2}, {\"index\": 27, \"x\": 164.94140625, \"y\": 0.7348469228349535, \"fillcolor\": \"#1f77b4\", \"id\": 297, \"children_id\": [279, 296], \"cluster_id\": null, \"strokewidth\": 1.0, \"strokedash\": [1, 0], \"strokeopacity\": 1.0, \"_order_helper\": 3}, {\"index\": 28, \"x\": 15.01953125, \"y\": 0.6244997998398398, \"fillcolor\": \"#1f77b4\", \"id\": 298, \"children_id\": [293, 297], \"cluster_id\": null, \"strokewidth\": 1.0, \"strokedash\": [1, 0], \"strokeopacity\": 1.0, \"_order_helper\": 0}, {\"index\": 28, \"x\": 15.01953125, \"y\": 1.6401219466856727, \"fillcolor\": \"#1f77b4\", \"id\": 298, \"children_id\": [293, 297], \"cluster_id\": null, \"strokewidth\": 1.0, \"strokedash\": [1, 0], \"strokeopacity\": 1.0, \"_order_helper\": 1}, {\"index\": 28, \"x\": 147.470703125, \"y\": 1.6401219466856727, \"fillcolor\": \"#1f77b4\", \"id\": 298, \"children_id\": [293, 297], \"cluster_id\": null, \"strokewidth\": 1.0, \"strokedash\": [1, 0], \"strokeopacity\": 1.0, \"_order_helper\": 2}, {\"index\": 28, \"x\": 147.470703125, \"y\": 0.818535277187245, \"fillcolor\": \"#1f77b4\", \"id\": 298, \"children_id\": [293, 297], \"cluster_id\": null, \"strokewidth\": 1.0, \"strokedash\": [1, 0], \"strokeopacity\": 1.0, \"_order_helper\": 3}], \"data-af18862b6398f4519f8713525654d6e6\": [{\"x\": 5.0, \"y\": 0.0, \"type\": \"leaf\", \"id\": 41, \"cluster_id\": null, \"edgecolor\": \"#ff7f0e\", \"label\": \"\", \"hovertext\": {\"# of items\": \"1\", \"linkage id\": 41}, \"fillcolor\": \"#ff7f0e\", \"radius\": 4.0, \"opacity\": 1.0, \"labelsize\": 10.0, \"labelcolor\": \"#fff\", \"_default_leaf_radius\": 4.0, \"_default_leaf_radius_if_cluster\": 7.0, \"size\": 50.26548245743669}, {\"x\": 15.0, \"y\": 0.0, \"type\": \"leaf\", \"id\": 22, \"cluster_id\": null, \"edgecolor\": \"#ff7f0e\", \"label\": \"\", \"hovertext\": {\"# of items\": \"1\", \"linkage id\": 22}, \"fillcolor\": \"#ff7f0e\", \"radius\": 4.0, \"opacity\": 1.0, \"labelsize\": 10.0, \"labelcolor\": \"#fff\", \"_default_leaf_radius\": 4.0, \"_default_leaf_radius_if_cluster\": 7.0, \"size\": 50.26548245743669}, {\"x\": 25.0, \"y\": 0.0, \"type\": \"leaf\", \"id\": 14, \"cluster_id\": null, \"edgecolor\": \"#ff7f0e\", \"label\": \"\", \"hovertext\": {\"# of items\": \"1\", \"linkage id\": 14}, \"fillcolor\": \"#ff7f0e\", \"radius\": 4.0, \"opacity\": 1.0, \"labelsize\": 10.0, \"labelcolor\": \"#fff\", \"_default_leaf_radius\": 4.0, \"_default_leaf_radius_if_cluster\": 7.0, \"size\": 50.26548245743669}, {\"x\": 35.0, \"y\": 0.0, \"type\": \"leaf\", \"id\": 15, \"cluster_id\": null, \"edgecolor\": \"#ff7f0e\", \"label\": \"\", \"hovertext\": {\"# of items\": \"1\", \"linkage id\": 15}, \"fillcolor\": \"#ff7f0e\", \"radius\": 4.0, \"opacity\": 1.0, \"labelsize\": 10.0, \"labelcolor\": \"#fff\", \"_default_leaf_radius\": 4.0, \"_default_leaf_radius_if_cluster\": 7.0, \"size\": 50.26548245743669}, {\"x\": 45.0, \"y\": 0.0, \"type\": \"leaf\", \"id\": 44, \"cluster_id\": null, \"edgecolor\": \"#ff7f0e\", \"label\": \"\", \"hovertext\": {\"# of items\": \"1\", \"linkage id\": 44}, \"fillcolor\": \"#ff7f0e\", \"radius\": 4.0, \"opacity\": 1.0, \"labelsize\": 10.0, \"labelcolor\": \"#fff\", \"_default_leaf_radius\": 4.0, \"_default_leaf_radius_if_cluster\": 7.0, \"size\": 50.26548245743669}, {\"x\": 55.0, \"y\": 0.0, \"type\": \"leaf\", \"id\": 33, \"cluster_id\": null, \"edgecolor\": \"#ff7f0e\", \"label\": \"\", \"hovertext\": {\"# of items\": \"1\", \"linkage id\": 33}, \"fillcolor\": \"#ff7f0e\", \"radius\": 4.0, \"opacity\": 1.0, \"labelsize\": 10.0, \"labelcolor\": \"#fff\", \"_default_leaf_radius\": 4.0, \"_default_leaf_radius_if_cluster\": 7.0, \"size\": 50.26548245743669}, {\"x\": 65.0, \"y\": 0.0, \"type\": \"leaf\", \"id\": 32, \"cluster_id\": null, \"edgecolor\": \"#ff7f0e\", \"label\": \"\", \"hovertext\": {\"# of items\": \"1\", \"linkage id\": 32}, \"fillcolor\": \"#ff7f0e\", \"radius\": 4.0, \"opacity\": 1.0, \"labelsize\": 10.0, \"labelcolor\": \"#fff\", \"_default_leaf_radius\": 4.0, \"_default_leaf_radius_if_cluster\": 7.0, \"size\": 50.26548245743669}, {\"x\": 75.0, \"y\": 0.0, \"type\": \"leaf\", \"id\": 16, \"cluster_id\": null, \"edgecolor\": \"#ff7f0e\", \"label\": \"\", \"hovertext\": {\"# of items\": \"1\", \"linkage id\": 16}, \"fillcolor\": \"#ff7f0e\", \"radius\": 4.0, \"opacity\": 1.0, \"labelsize\": 10.0, \"labelcolor\": \"#fff\", \"_default_leaf_radius\": 4.0, \"_default_leaf_radius_if_cluster\": 7.0, \"size\": 50.26548245743669}, {\"x\": 85.0, \"y\": 0.0, \"type\": \"leaf\", \"id\": 231, \"cluster_id\": null, \"edgecolor\": \"#ff7f0e\", \"label\": \"\", \"hovertext\": {\"# of items\": \"2\", \"linkage id\": 231}, \"fillcolor\": \"#ff7f0e\", \"radius\": 4.0, \"opacity\": 1.0, \"labelsize\": 10.0, \"labelcolor\": \"#fff\", \"_default_leaf_radius\": 4.0, \"_default_leaf_radius_if_cluster\": 7.0, \"size\": 50.26548245743669}, {\"x\": 95.0, \"y\": 0.0, \"type\": \"leaf\", \"id\": 235, \"cluster_id\": null, \"edgecolor\": \"#ff7f0e\", \"label\": \"\", \"hovertext\": {\"# of items\": \"38\", \"linkage id\": 235}, \"fillcolor\": \"#ff7f0e\", \"radius\": 4.0, \"opacity\": 1.0, \"labelsize\": 10.0, \"labelcolor\": \"#fff\", \"_default_leaf_radius\": 4.0, \"_default_leaf_radius_if_cluster\": 7.0, \"size\": 50.26548245743669}, {\"x\": 105.0, \"y\": 0.0, \"type\": \"leaf\", \"id\": 5, \"cluster_id\": null, \"edgecolor\": \"#ff7f0e\", \"label\": \"\", \"hovertext\": {\"# of items\": \"1\", \"linkage id\": 5}, \"fillcolor\": \"#ff7f0e\", \"radius\": 4.0, \"opacity\": 1.0, \"labelsize\": 10.0, \"labelcolor\": \"#fff\", \"_default_leaf_radius\": 4.0, \"_default_leaf_radius_if_cluster\": 7.0, \"size\": 50.26548245743669}, {\"x\": 115.0, \"y\": 0.0, \"type\": \"leaf\", \"id\": 18, \"cluster_id\": null, \"edgecolor\": \"#ff7f0e\", \"label\": \"\", \"hovertext\": {\"# of items\": \"1\", \"linkage id\": 18}, \"fillcolor\": \"#ff7f0e\", \"radius\": 4.0, \"opacity\": 1.0, \"labelsize\": 10.0, \"labelcolor\": \"#fff\", \"_default_leaf_radius\": 4.0, \"_default_leaf_radius_if_cluster\": 7.0, \"size\": 50.26548245743669}, {\"x\": 125.0, \"y\": 0.0, \"type\": \"leaf\", \"id\": 117, \"cluster_id\": null, \"edgecolor\": \"#2ca02c\", \"label\": \"\", \"hovertext\": {\"# of items\": \"1\", \"linkage id\": 117}, \"fillcolor\": \"#2ca02c\", \"radius\": 4.0, \"opacity\": 1.0, \"labelsize\": 10.0, \"labelcolor\": \"#fff\", \"_default_leaf_radius\": 4.0, \"_default_leaf_radius_if_cluster\": 7.0, \"size\": 50.26548245743669}, {\"x\": 135.0, \"y\": 0.0, \"type\": \"leaf\", \"id\": 131, \"cluster_id\": null, \"edgecolor\": \"#2ca02c\", \"label\": \"\", \"hovertext\": {\"# of items\": \"1\", \"linkage id\": 131}, \"fillcolor\": \"#2ca02c\", \"radius\": 4.0, \"opacity\": 1.0, \"labelsize\": 10.0, \"labelcolor\": \"#fff\", \"_default_leaf_radius\": 4.0, \"_default_leaf_radius_if_cluster\": 7.0, \"size\": 50.26548245743669}, {\"x\": 145.0, \"y\": 0.0, \"type\": \"leaf\", \"id\": 106, \"cluster_id\": null, \"edgecolor\": \"#d62728\", \"label\": \"\", \"hovertext\": {\"# of items\": \"1\", \"linkage id\": 106}, \"fillcolor\": \"#d62728\", \"radius\": 4.0, \"opacity\": 1.0, \"labelsize\": 10.0, \"labelcolor\": \"#fff\", \"_default_leaf_radius\": 4.0, \"_default_leaf_radius_if_cluster\": 7.0, \"size\": 50.26548245743669}, {\"x\": 155.0, \"y\": 0.0, \"type\": \"leaf\", \"id\": 98, \"cluster_id\": null, \"edgecolor\": \"#d62728\", \"label\": \"\", \"hovertext\": {\"# of items\": \"1\", \"linkage id\": 98}, \"fillcolor\": \"#d62728\", \"radius\": 4.0, \"opacity\": 1.0, \"labelsize\": 10.0, \"labelcolor\": \"#fff\", \"_default_leaf_radius\": 4.0, \"_default_leaf_radius_if_cluster\": 7.0, \"size\": 50.26548245743669}, {\"x\": 165.0, \"y\": 0.0, \"type\": \"leaf\", \"id\": 60, \"cluster_id\": null, \"edgecolor\": \"#d62728\", \"label\": \"\", \"hovertext\": {\"# of items\": \"1\", \"linkage id\": 60}, \"fillcolor\": \"#d62728\", \"radius\": 4.0, \"opacity\": 1.0, \"labelsize\": 10.0, \"labelcolor\": \"#fff\", \"_default_leaf_radius\": 4.0, \"_default_leaf_radius_if_cluster\": 7.0, \"size\": 50.26548245743669}, {\"x\": 175.0, \"y\": 0.0, \"type\": \"leaf\", \"id\": 57, \"cluster_id\": null, \"edgecolor\": \"#d62728\", \"label\": \"\", \"hovertext\": {\"# of items\": \"1\", \"linkage id\": 57}, \"fillcolor\": \"#d62728\", \"radius\": 4.0, \"opacity\": 1.0, \"labelsize\": 10.0, \"labelcolor\": \"#fff\", \"_default_leaf_radius\": 4.0, \"_default_leaf_radius_if_cluster\": 7.0, \"size\": 50.26548245743669}, {\"x\": 185.0, \"y\": 0.0, \"type\": \"leaf\", \"id\": 93, \"cluster_id\": null, \"edgecolor\": \"#d62728\", \"label\": \"\", \"hovertext\": {\"# of items\": \"1\", \"linkage id\": 93}, \"fillcolor\": \"#d62728\", \"radius\": 4.0, \"opacity\": 1.0, \"labelsize\": 10.0, \"labelcolor\": \"#fff\", \"_default_leaf_radius\": 4.0, \"_default_leaf_radius_if_cluster\": 7.0, \"size\": 50.26548245743669}, {\"x\": 195.0, \"y\": 0.0, \"type\": \"leaf\", \"id\": 109, \"cluster_id\": null, \"edgecolor\": \"#d62728\", \"label\": \"\", \"hovertext\": {\"# of items\": \"1\", \"linkage id\": 109}, \"fillcolor\": \"#d62728\", \"radius\": 4.0, \"opacity\": 1.0, \"labelsize\": 10.0, \"labelcolor\": \"#fff\", \"_default_leaf_radius\": 4.0, \"_default_leaf_radius_if_cluster\": 7.0, \"size\": 50.26548245743669}, {\"x\": 205.0, \"y\": 0.0, \"type\": \"leaf\", \"id\": 108, \"cluster_id\": null, \"edgecolor\": \"#d62728\", \"label\": \"\", \"hovertext\": {\"# of items\": \"1\", \"linkage id\": 108}, \"fillcolor\": \"#d62728\", \"radius\": 4.0, \"opacity\": 1.0, \"labelsize\": 10.0, \"labelcolor\": \"#fff\", \"_default_leaf_radius\": 4.0, \"_default_leaf_radius_if_cluster\": 7.0, \"size\": 50.26548245743669}, {\"x\": 215.0, \"y\": 0.0, \"type\": \"leaf\", \"id\": 134, \"cluster_id\": null, \"edgecolor\": \"#d62728\", \"label\": \"\", \"hovertext\": {\"# of items\": \"1\", \"linkage id\": 134}, \"fillcolor\": \"#d62728\", \"radius\": 4.0, \"opacity\": 1.0, \"labelsize\": 10.0, \"labelcolor\": \"#fff\", \"_default_leaf_radius\": 4.0, \"_default_leaf_radius_if_cluster\": 7.0, \"size\": 50.26548245743669}, {\"x\": 225.0, \"y\": 0.0, \"type\": \"leaf\", \"id\": 135, \"cluster_id\": null, \"edgecolor\": \"#d62728\", \"label\": \"\", \"hovertext\": {\"# of items\": \"1\", \"linkage id\": 135}, \"fillcolor\": \"#d62728\", \"radius\": 4.0, \"opacity\": 1.0, \"labelsize\": 10.0, \"labelcolor\": \"#fff\", \"_default_leaf_radius\": 4.0, \"_default_leaf_radius_if_cluster\": 7.0, \"size\": 50.26548245743669}, {\"x\": 235.0, \"y\": 0.0, \"type\": \"leaf\", \"id\": 118, \"cluster_id\": null, \"edgecolor\": \"#d62728\", \"label\": \"\", \"hovertext\": {\"# of items\": \"1\", \"linkage id\": 118}, \"fillcolor\": \"#d62728\", \"radius\": 4.0, \"opacity\": 1.0, \"labelsize\": 10.0, \"labelcolor\": \"#fff\", \"_default_leaf_radius\": 4.0, \"_default_leaf_radius_if_cluster\": 7.0, \"size\": 50.26548245743669}, {\"x\": 245.0, \"y\": 0.0, \"type\": \"leaf\", \"id\": 105, \"cluster_id\": null, \"edgecolor\": \"#d62728\", \"label\": \"\", \"hovertext\": {\"# of items\": \"1\", \"linkage id\": 105}, \"fillcolor\": \"#d62728\", \"radius\": 4.0, \"opacity\": 1.0, \"labelsize\": 10.0, \"labelcolor\": \"#fff\", \"_default_leaf_radius\": 4.0, \"_default_leaf_radius_if_cluster\": 7.0, \"size\": 50.26548245743669}, {\"x\": 255.0, \"y\": 0.0, \"type\": \"leaf\", \"id\": 122, \"cluster_id\": null, \"edgecolor\": \"#d62728\", \"label\": \"\", \"hovertext\": {\"# of items\": \"1\", \"linkage id\": 122}, \"fillcolor\": \"#d62728\", \"radius\": 4.0, \"opacity\": 1.0, \"labelsize\": 10.0, \"labelcolor\": \"#fff\", \"_default_leaf_radius\": 4.0, \"_default_leaf_radius_if_cluster\": 7.0, \"size\": 50.26548245743669}, {\"x\": 265.0, \"y\": 0.0, \"type\": \"leaf\", \"id\": 68, \"cluster_id\": null, \"edgecolor\": \"#d62728\", \"label\": \"\", \"hovertext\": {\"# of items\": \"1\", \"linkage id\": 68}, \"fillcolor\": \"#d62728\", \"radius\": 4.0, \"opacity\": 1.0, \"labelsize\": 10.0, \"labelcolor\": \"#fff\", \"_default_leaf_radius\": 4.0, \"_default_leaf_radius_if_cluster\": 7.0, \"size\": 50.26548245743669}, {\"x\": 275.0, \"y\": 0.0, \"type\": \"leaf\", \"id\": 87, \"cluster_id\": null, \"edgecolor\": \"#d62728\", \"label\": \"\", \"hovertext\": {\"# of items\": \"1\", \"linkage id\": 87}, \"fillcolor\": \"#d62728\", \"radius\": 4.0, \"opacity\": 1.0, \"labelsize\": 10.0, \"labelcolor\": \"#fff\", \"_default_leaf_radius\": 4.0, \"_default_leaf_radius_if_cluster\": 7.0, \"size\": 50.26548245743669}, {\"x\": 285.0, \"y\": 0.0, \"type\": \"leaf\", \"id\": 62, \"cluster_id\": null, \"edgecolor\": \"#d62728\", \"label\": \"\", \"hovertext\": {\"# of items\": \"1\", \"linkage id\": 62}, \"fillcolor\": \"#d62728\", \"radius\": 4.0, \"opacity\": 1.0, \"labelsize\": 10.0, \"labelcolor\": \"#fff\", \"_default_leaf_radius\": 4.0, \"_default_leaf_radius_if_cluster\": 7.0, \"size\": 50.26548245743669}, {\"x\": 295.0, \"y\": 0.0, \"type\": \"leaf\", \"id\": 286, \"cluster_id\": null, \"edgecolor\": \"#d62728\", \"label\": \"\", \"hovertext\": {\"# of items\": \"83\", \"linkage id\": 286}, \"fillcolor\": \"#d62728\", \"radius\": 4.0, \"opacity\": 1.0, \"labelsize\": 10.0, \"labelcolor\": \"#fff\", \"_default_leaf_radius\": 4.0, \"_default_leaf_radius_if_cluster\": 7.0, \"size\": 50.26548245743669}, {\"x\": 90.0, \"y\": 0.3000000000000001, \"type\": \"subcluster\", \"id\": 236, \"cluster_id\": null, \"edgecolor\": \"#ff7f0e\", \"label\": \"\", \"hovertext\": {\"# of items\": \"40\", \"linkage id\": 236}, \"fillcolor\": \"#fff\", \"radius\": 7.0, \"opacity\": 1.0, \"labelsize\": 10.0, \"labelcolor\": \"#fff\", \"_default_leaf_radius\": 4.0, \"_default_leaf_radius_if_cluster\": 7.0, \"size\": 153.93804002589985}, {\"x\": 110.0, \"y\": 0.33166247903553986, \"type\": \"subcluster\", \"id\": 249, \"cluster_id\": null, \"edgecolor\": \"#ff7f0e\", \"label\": \"\", \"hovertext\": {\"# of items\": \"2\", \"linkage id\": 249}, \"fillcolor\": \"#fff\", \"radius\": 7.0, \"opacity\": 1.0, \"labelsize\": 10.0, \"labelcolor\": \"#fff\", \"_default_leaf_radius\": 4.0, \"_default_leaf_radius_if_cluster\": 7.0, \"size\": 153.93804002589985}, {\"x\": 100.0, \"y\": 0.3464101615137753, \"type\": \"subcluster\", \"id\": 255, \"cluster_id\": null, \"edgecolor\": \"#ff7f0e\", \"label\": \"\", \"hovertext\": {\"# of items\": \"42\", \"linkage id\": 255}, \"fillcolor\": \"#fff\", \"radius\": 7.0, \"opacity\": 1.0, \"labelsize\": 10.0, \"labelcolor\": \"#fff\", \"_default_leaf_radius\": 4.0, \"_default_leaf_radius_if_cluster\": 7.0, \"size\": 153.93804002589985}, {\"x\": 87.5, \"y\": 0.3464101615137753, \"type\": \"subcluster\", \"id\": 256, \"cluster_id\": null, \"edgecolor\": \"#ff7f0e\", \"label\": \"\", \"hovertext\": {\"# of items\": \"43\", \"linkage id\": 256}, \"fillcolor\": \"#fff\", \"radius\": 7.0, \"opacity\": 1.0, \"labelsize\": 10.0, \"labelcolor\": \"#fff\", \"_default_leaf_radius\": 4.0, \"_default_leaf_radius_if_cluster\": 7.0, \"size\": 153.93804002589985}, {\"x\": 76.25, \"y\": 0.3464101615137755, \"type\": \"subcluster\", \"id\": 258, \"cluster_id\": null, \"edgecolor\": \"#ff7f0e\", \"label\": \"\", \"hovertext\": {\"# of items\": \"44\", \"linkage id\": 258}, \"fillcolor\": \"#fff\", \"radius\": 7.0, \"opacity\": 1.0, \"labelsize\": 10.0, \"labelcolor\": \"#fff\", \"_default_leaf_radius\": 4.0, \"_default_leaf_radius_if_cluster\": 7.0, \"size\": 153.93804002589985}, {\"x\": 65.625, \"y\": 0.3464101615137755, \"type\": \"subcluster\", \"id\": 259, \"cluster_id\": null, \"edgecolor\": \"#ff7f0e\", \"label\": \"\", \"hovertext\": {\"# of items\": \"45\", \"linkage id\": 259}, \"fillcolor\": \"#fff\", \"radius\": 7.0, \"opacity\": 1.0, \"labelsize\": 10.0, \"labelcolor\": \"#fff\", \"_default_leaf_radius\": 4.0, \"_default_leaf_radius_if_cluster\": 7.0, \"size\": 153.93804002589985}, {\"x\": 55.3125, \"y\": 0.3605551275463988, \"type\": \"subcluster\", \"id\": 263, \"cluster_id\": null, \"edgecolor\": \"#ff7f0e\", \"label\": \"\", \"hovertext\": {\"# of items\": \"46\", \"linkage id\": 263}, \"fillcolor\": \"#fff\", \"radius\": 7.0, \"opacity\": 1.0, \"labelsize\": 10.0, \"labelcolor\": \"#fff\", \"_default_leaf_radius\": 4.0, \"_default_leaf_radius_if_cluster\": 7.0, \"size\": 153.93804002589985}, {\"x\": 45.15625, \"y\": 0.3605551275463992, \"type\": \"subcluster\", \"id\": 269, \"cluster_id\": null, \"edgecolor\": \"#ff7f0e\", \"label\": \"\", \"hovertext\": {\"# of items\": \"47\", \"linkage id\": 269}, \"fillcolor\": \"#fff\", \"radius\": 7.0, \"opacity\": 1.0, \"labelsize\": 10.0, \"labelcolor\": \"#fff\", \"_default_leaf_radius\": 4.0, \"_default_leaf_radius_if_cluster\": 7.0, \"size\": 153.93804002589985}, {\"x\": 35.078125, \"y\": 0.412310562561766, \"type\": \"subcluster\", \"id\": 278, \"cluster_id\": null, \"edgecolor\": \"#ff7f0e\", \"label\": \"\", \"hovertext\": {\"# of items\": \"48\", \"linkage id\": 278}, \"fillcolor\": \"#fff\", \"radius\": 7.0, \"opacity\": 1.0, \"labelsize\": 10.0, \"labelcolor\": \"#fff\", \"_default_leaf_radius\": 4.0, \"_default_leaf_radius_if_cluster\": 7.0, \"size\": 153.93804002589985}, {\"x\": 25.0390625, \"y\": 0.45825756949558394, \"type\": \"subcluster\", \"id\": 285, \"cluster_id\": null, \"edgecolor\": \"#ff7f0e\", \"label\": \"\", \"hovertext\": {\"# of items\": \"49\", \"linkage id\": 285}, \"fillcolor\": \"#fff\", \"radius\": 7.0, \"opacity\": 1.0, \"labelsize\": 10.0, \"labelcolor\": \"#fff\", \"_default_leaf_radius\": 4.0, \"_default_leaf_radius_if_cluster\": 7.0, \"size\": 153.93804002589985}, {\"x\": 15.01953125, \"y\": 0.6244997998398398, \"type\": \"cluster\", \"id\": 293, \"cluster_id\": 1.0, \"edgecolor\": \"#ff7f0e\", \"label\": \"1\", \"hovertext\": {\"# of items\": \"50\", \"linkage id\": 293}, \"fillcolor\": \"#ff7f0e\", \"radius\": 7.0, \"opacity\": 1.0, \"labelsize\": 10.0, \"labelcolor\": \"#fff\", \"_default_leaf_radius\": 4.0, \"_default_leaf_radius_if_cluster\": 7.0, \"size\": 153.93804002589985}, {\"x\": 130.0, \"y\": 0.4123105625617661, \"type\": \"cluster\", \"id\": 279, \"cluster_id\": 2.0, \"edgecolor\": \"#2ca02c\", \"label\": \"2\", \"hovertext\": {\"# of items\": \"2\", \"linkage id\": 279}, \"fillcolor\": \"#2ca02c\", \"radius\": 7.0, \"opacity\": 1.0, \"labelsize\": 10.0, \"labelcolor\": \"#fff\", \"_default_leaf_radius\": 4.0, \"_default_leaf_radius_if_cluster\": 7.0, \"size\": 153.93804002589985}, {\"x\": 180.0, \"y\": 0.1414213562373093, \"type\": \"subcluster\", \"id\": 161, \"cluster_id\": null, \"edgecolor\": \"#d62728\", \"label\": \"\", \"hovertext\": {\"# of items\": \"2\", \"linkage id\": 161}, \"fillcolor\": \"#fff\", \"radius\": 7.0, \"opacity\": 1.0, \"labelsize\": 10.0, \"labelcolor\": \"#fff\", \"_default_leaf_radius\": 4.0, \"_default_leaf_radius_if_cluster\": 7.0, \"size\": 153.93804002589985}, {\"x\": 172.5, \"y\": 0.3605551275463989, \"type\": \"subcluster\", \"id\": 265, \"cluster_id\": null, \"edgecolor\": \"#d62728\", \"label\": \"\", \"hovertext\": {\"# of items\": \"3\", \"linkage id\": 265}, \"fillcolor\": \"#fff\", \"radius\": 7.0, \"opacity\": 1.0, \"labelsize\": 10.0, \"labelcolor\": \"#fff\", \"_default_leaf_radius\": 4.0, \"_default_leaf_radius_if_cluster\": 7.0, \"size\": 153.93804002589985}, {\"x\": 163.75, \"y\": 0.3872983346207412, \"type\": \"subcluster\", \"id\": 273, \"cluster_id\": null, \"edgecolor\": \"#d62728\", \"label\": \"\", \"hovertext\": {\"# of items\": \"4\", \"linkage id\": 273}, \"fillcolor\": \"#fff\", \"radius\": 7.0, \"opacity\": 1.0, \"labelsize\": 10.0, \"labelcolor\": \"#fff\", \"_default_leaf_radius\": 4.0, \"_default_leaf_radius_if_cluster\": 7.0, \"size\": 153.93804002589985}, {\"x\": 250.0, \"y\": 0.26457513110645964, \"type\": \"subcluster\", \"id\": 229, \"cluster_id\": null, \"edgecolor\": \"#d62728\", \"label\": \"\", \"hovertext\": {\"# of items\": \"2\", \"linkage id\": 229}, \"fillcolor\": \"#fff\", \"radius\": 7.0, \"opacity\": 1.0, \"labelsize\": 10.0, \"labelcolor\": \"#fff\", \"_default_leaf_radius\": 4.0, \"_default_leaf_radius_if_cluster\": 7.0, \"size\": 153.93804002589985}, {\"x\": 242.5, \"y\": 0.4123105625617659, \"type\": \"subcluster\", \"id\": 277, \"cluster_id\": null, \"edgecolor\": \"#d62728\", \"label\": \"\", \"hovertext\": {\"# of items\": \"3\", \"linkage id\": 277}, \"fillcolor\": \"#fff\", \"radius\": 7.0, \"opacity\": 1.0, \"labelsize\": 10.0, \"labelcolor\": \"#fff\", \"_default_leaf_radius\": 4.0, \"_default_leaf_radius_if_cluster\": 7.0, \"size\": 153.93804002589985}, {\"x\": 270.0, \"y\": 0.26457513110645864, \"type\": \"subcluster\", \"id\": 220, \"cluster_id\": null, \"edgecolor\": \"#d62728\", \"label\": \"\", \"hovertext\": {\"# of items\": \"2\", \"linkage id\": 220}, \"fillcolor\": \"#fff\", \"radius\": 7.0, \"opacity\": 1.0, \"labelsize\": 10.0, \"labelcolor\": \"#fff\", \"_default_leaf_radius\": 4.0, \"_default_leaf_radius_if_cluster\": 7.0, \"size\": 153.93804002589985}, {\"x\": 290.0, \"y\": 0.4898979485566356, \"type\": \"subcluster\", \"id\": 287, \"cluster_id\": null, \"edgecolor\": \"#d62728\", \"label\": \"\", \"hovertext\": {\"# of items\": \"84\", \"linkage id\": 287}, \"fillcolor\": \"#fff\", \"radius\": 7.0, \"opacity\": 1.0, \"labelsize\": 10.0, \"labelcolor\": \"#fff\", \"_default_leaf_radius\": 4.0, \"_default_leaf_radius_if_cluster\": 7.0, \"size\": 153.93804002589985}, {\"x\": 280.0, \"y\": 0.5099019513592786, \"type\": \"subcluster\", \"id\": 288, \"cluster_id\": null, \"edgecolor\": \"#d62728\", \"label\": \"\", \"hovertext\": {\"# of items\": \"86\", \"linkage id\": 288}, \"fillcolor\": \"#fff\", \"radius\": 7.0, \"opacity\": 1.0, \"labelsize\": 10.0, \"labelcolor\": \"#fff\", \"_default_leaf_radius\": 4.0, \"_default_leaf_radius_if_cluster\": 7.0, \"size\": 153.93804002589985}, {\"x\": 261.25, \"y\": 0.5291502622129179, \"type\": \"subcluster\", \"id\": 289, \"cluster_id\": null, \"edgecolor\": \"#d62728\", \"label\": \"\", \"hovertext\": {\"# of items\": \"89\", \"linkage id\": 289}, \"fillcolor\": \"#fff\", \"radius\": 7.0, \"opacity\": 1.0, \"labelsize\": 10.0, \"labelcolor\": \"#fff\", \"_default_leaf_radius\": 4.0, \"_default_leaf_radius_if_cluster\": 7.0, \"size\": 153.93804002589985}, {\"x\": 243.125, \"y\": 0.5385164807134504, \"type\": \"subcluster\", \"id\": 290, \"cluster_id\": null, \"edgecolor\": \"#d62728\", \"label\": \"\", \"hovertext\": {\"# of items\": \"90\", \"linkage id\": 290}, \"fillcolor\": \"#fff\", \"radius\": 7.0, \"opacity\": 1.0, \"labelsize\": 10.0, \"labelcolor\": \"#fff\", \"_default_leaf_radius\": 4.0, \"_default_leaf_radius_if_cluster\": 7.0, \"size\": 153.93804002589985}, {\"x\": 229.0625, \"y\": 0.5385164807134505, \"type\": \"subcluster\", \"id\": 291, \"cluster_id\": null, \"edgecolor\": \"#d62728\", \"label\": \"\", \"hovertext\": {\"# of items\": \"91\", \"linkage id\": 291}, \"fillcolor\": \"#fff\", \"radius\": 7.0, \"opacity\": 1.0, \"labelsize\": 10.0, \"labelcolor\": \"#fff\", \"_default_leaf_radius\": 4.0, \"_default_leaf_radius_if_cluster\": 7.0, \"size\": 153.93804002589985}, {\"x\": 217.03125, \"y\": 0.5567764362830021, \"type\": \"subcluster\", \"id\": 292, \"cluster_id\": null, \"edgecolor\": \"#d62728\", \"label\": \"\", \"hovertext\": {\"# of items\": \"92\", \"linkage id\": 292}, \"fillcolor\": \"#fff\", \"radius\": 7.0, \"opacity\": 1.0, \"labelsize\": 10.0, \"labelcolor\": \"#fff\", \"_default_leaf_radius\": 4.0, \"_default_leaf_radius_if_cluster\": 7.0, \"size\": 153.93804002589985}, {\"x\": 206.015625, \"y\": 0.6324555320336759, \"type\": \"subcluster\", \"id\": 294, \"cluster_id\": null, \"edgecolor\": \"#d62728\", \"label\": \"\", \"hovertext\": {\"# of items\": \"93\", \"linkage id\": 294}, \"fillcolor\": \"#fff\", \"radius\": 7.0, \"opacity\": 1.0, \"labelsize\": 10.0, \"labelcolor\": \"#fff\", \"_default_leaf_radius\": 4.0, \"_default_leaf_radius_if_cluster\": 7.0, \"size\": 153.93804002589985}, {\"x\": 184.8828125, \"y\": 0.6480740698407862, \"type\": \"subcluster\", \"id\": 295, \"cluster_id\": null, \"edgecolor\": \"#d62728\", \"label\": \"\", \"hovertext\": {\"# of items\": \"97\", \"linkage id\": 295}, \"fillcolor\": \"#fff\", \"radius\": 7.0, \"opacity\": 1.0, \"labelsize\": 10.0, \"labelcolor\": \"#fff\", \"_default_leaf_radius\": 4.0, \"_default_leaf_radius_if_cluster\": 7.0, \"size\": 153.93804002589985}, {\"x\": 164.94140625, \"y\": 0.7348469228349535, \"type\": \"cluster\", \"id\": 296, \"cluster_id\": 3.0, \"edgecolor\": \"#d62728\", \"label\": \"3\", \"hovertext\": {\"# of items\": \"98\", \"linkage id\": 296}, \"fillcolor\": \"#d62728\", \"radius\": 7.0, \"opacity\": 1.0, \"labelsize\": 10.0, \"labelcolor\": \"#fff\", \"_default_leaf_radius\": 4.0, \"_default_leaf_radius_if_cluster\": 7.0, \"size\": 153.93804002589985}, {\"x\": 147.470703125, \"y\": 0.818535277187245, \"type\": \"supercluster\", \"id\": 297, \"cluster_id\": null, \"edgecolor\": \"#1f77b4\", \"label\": \"\", \"hovertext\": {\"# of items\": \"100\", \"linkage id\": 297}, \"fillcolor\": \"#1f77b4\", \"radius\": 7.0, \"opacity\": 1.0, \"labelsize\": 10.0, \"labelcolor\": \"#fff\", \"_default_leaf_radius\": 4.0, \"_default_leaf_radius_if_cluster\": 7.0, \"size\": 153.93804002589985}, {\"x\": 81.2451171875, \"y\": 1.6401219466856727, \"type\": \"supercluster\", \"id\": 298, \"cluster_id\": null, \"edgecolor\": \"#1f77b4\", \"label\": \"\", \"hovertext\": {\"# of items\": \"150\", \"linkage id\": 298}, \"fillcolor\": \"#1f77b4\", \"radius\": 7.0, \"opacity\": 1.0, \"labelsize\": 10.0, \"labelcolor\": \"#fff\", \"_default_leaf_radius\": 4.0, \"_default_leaf_radius_if_cluster\": 7.0, \"size\": 153.93804002589985}]}}, {\"actions\": false, \"mode\": \"vega-lite\"});\n",
       "</script>"
      ],
      "text/plain": [
       "alt.LayerChart(...)"
      ]
     },
     "execution_count": 9,
     "metadata": {},
     "output_type": "execute_result"
    }
   ],
   "source": [
    "import idendro\n",
    "import scipy.cluster.hierarchy as sch\n",
    "from idendro.targets.altair import to_altair\n",
    "\n",
    "#cluster the data\n",
    "linkage_matrix = sch.linkage(\n",
    "    data['data'], method='single', metric='euclidean'\n",
    ")\n",
    "threshold = 0.8\n",
    "flat_clusters = sch.fcluster(\n",
    "    linkage_matrix, t=threshold, criterion='distance'\n",
    ")\n",
    "\n",
    "#wrap clustering outputs / parameters into a container\n",
    "cl_data = idendro.ClusteringData(\n",
    "    linkage_matrix = linkage_matrix, \n",
    "    cluster_assignments = flat_clusters\n",
    ")\n",
    "\n",
    "#pass to idendro and visualize\n",
    "idd = idendro.IDendro()\n",
    "idd.set_cluster_info(cl_data)\n",
    "dendrogram = idd.create_dendrogram(truncate_mode='level', p=10)\n",
    "to_altair(dendrogram=dendrogram, height=200, width=629)"
   ]
  },
  {
   "attachments": {},
   "cell_type": "markdown",
   "metadata": {},
   "source": [
    "## Clustering library integration"
   ]
  },
  {
   "attachments": {},
   "cell_type": "markdown",
   "metadata": {},
   "source": [
    "### scipy.hierarchy.cluster\n",
    "\n",
    "IDendro is built to support SciPy's hierarchical clustering data structures (linkage matrix and flat cluster assignments). As a result, using IDendro is as simple as passing outputs of `scipy.cluster.hierarchy.linkage` and `scipy.cluster.hierarchy.fcluster` functions. "
   ]
  },
  {
   "cell_type": "code",
   "execution_count": null,
   "metadata": {},
   "outputs": [],
   "source": [
    "import os, sys\n",
    "sys.path.insert(1, os.path.join(sys.path[0], '../..'))\n",
    "import altair \n",
    "altair.renderers.set_embed_options(actions=False)\n",
    "pass"
   ]
  },
  {
   "cell_type": "code",
   "execution_count": null,
   "metadata": {},
   "outputs": [
    {
     "name": "stdout",
     "output_type": "stream",
     "text": [
      "629\n"
     ]
    },
    {
     "data": {
      "text/html": [
       "\n",
       "<div id=\"altair-viz-f85c745931cf483ca4f589875b09b54a\"></div>\n",
       "<script type=\"text/javascript\">\n",
       "  var VEGA_DEBUG = (typeof VEGA_DEBUG == \"undefined\") ? {} : VEGA_DEBUG;\n",
       "  (function(spec, embedOpt){\n",
       "    let outputDiv = document.currentScript.previousElementSibling;\n",
       "    if (outputDiv.id !== \"altair-viz-f85c745931cf483ca4f589875b09b54a\") {\n",
       "      outputDiv = document.getElementById(\"altair-viz-f85c745931cf483ca4f589875b09b54a\");\n",
       "    }\n",
       "    const paths = {\n",
       "      \"vega\": \"https://cdn.jsdelivr.net/npm//vega@5?noext\",\n",
       "      \"vega-lib\": \"https://cdn.jsdelivr.net/npm//vega-lib?noext\",\n",
       "      \"vega-lite\": \"https://cdn.jsdelivr.net/npm//vega-lite@4.17.0?noext\",\n",
       "      \"vega-embed\": \"https://cdn.jsdelivr.net/npm//vega-embed@6?noext\",\n",
       "    };\n",
       "\n",
       "    function maybeLoadScript(lib, version) {\n",
       "      var key = `${lib.replace(\"-\", \"\")}_version`;\n",
       "      return (VEGA_DEBUG[key] == version) ?\n",
       "        Promise.resolve(paths[lib]) :\n",
       "        new Promise(function(resolve, reject) {\n",
       "          var s = document.createElement('script');\n",
       "          document.getElementsByTagName(\"head\")[0].appendChild(s);\n",
       "          s.async = true;\n",
       "          s.onload = () => {\n",
       "            VEGA_DEBUG[key] = version;\n",
       "            return resolve(paths[lib]);\n",
       "          };\n",
       "          s.onerror = () => reject(`Error loading script: ${paths[lib]}`);\n",
       "          s.src = paths[lib];\n",
       "        });\n",
       "    }\n",
       "\n",
       "    function showError(err) {\n",
       "      outputDiv.innerHTML = `<div class=\"error\" style=\"color:red;\">${err}</div>`;\n",
       "      throw err;\n",
       "    }\n",
       "\n",
       "    function displayChart(vegaEmbed) {\n",
       "      vegaEmbed(outputDiv, spec, embedOpt)\n",
       "        .catch(err => showError(`Javascript Error: ${err.message}<br>This usually means there's a typo in your chart specification. See the javascript console for the full traceback.`));\n",
       "    }\n",
       "\n",
       "    if(typeof define === \"function\" && define.amd) {\n",
       "      requirejs.config({paths});\n",
       "      require([\"vega-embed\"], displayChart, err => showError(`Error loading script: ${err.message}`));\n",
       "    } else {\n",
       "      maybeLoadScript(\"vega\", \"5\")\n",
       "        .then(() => maybeLoadScript(\"vega-lite\", \"4.17.0\"))\n",
       "        .then(() => maybeLoadScript(\"vega-embed\", \"6\"))\n",
       "        .catch(showError)\n",
       "        .then(() => displayChart(vegaEmbed));\n",
       "    }\n",
       "  })({\"layer\": [{\"data\": {\"name\": \"data-14cecd4bee7b75d255fafc30acb8179d\"}, \"mark\": \"line\", \"encoding\": {\"color\": {\"field\": \"fillcolor\", \"legend\": null, \"scale\": null, \"type\": \"nominal\"}, \"detail\": {\"field\": \"index\", \"type\": \"quantitative\"}, \"order\": {\"field\": \"_order_helper\", \"type\": \"quantitative\"}, \"strokeDash\": {\"field\": \"strokedash\", \"legend\": null, \"scale\": null, \"type\": \"nominal\"}, \"strokeOpacity\": {\"field\": \"strokeopacity\", \"legend\": null, \"scale\": null, \"type\": \"quantitative\"}, \"strokeWidth\": {\"field\": \"strokewidth\", \"legend\": null, \"scale\": null, \"type\": \"quantitative\"}, \"x\": {\"axis\": {\"grid\": false, \"labelAngle\": 0, \"labelExpr\": \"datum.value == 5.0 ? '1' : datum.value == 15.0 ? '1' : datum.value == 25.0 ? '1' : datum.value == 35.0 ? '1' : datum.value == 45.0 ? '46' : datum.value == 55.0 ? '1' : datum.value == 65.0 ? '1' : datum.value == 75.0 ? '1' : datum.value == 85.0 ? '1' : datum.value == 95.0 ? '3' : datum.value == 105.0 ? '1' : datum.value == 115.0 ? '92' : ''\", \"labelPadding\": 10, \"orient\": \"bottom\", \"ticks\": false, \"values\": [5.0, 15.0, 25.0, 35.0, 45.0, 55.0, 65.0, 75.0, 85.0, 95.0, 105.0, 115.0]}, \"field\": \"x\", \"title\": null, \"type\": \"quantitative\"}, \"y\": {\"axis\": {\"grid\": false}, \"field\": \"y\", \"scale\": {\"reverse\": false, \"type\": \"linear\"}, \"title\": null, \"type\": \"quantitative\"}}}, {\"layer\": [{\"layer\": [{\"mark\": \"point\", \"encoding\": {\"fill\": {\"field\": \"fillcolor\", \"scale\": null, \"type\": \"nominal\"}, \"opacity\": {\"field\": \"opacity\", \"scale\": null, \"type\": \"quantitative\"}, \"size\": {\"field\": \"size\", \"scale\": null, \"type\": \"quantitative\"}, \"stroke\": {\"field\": \"edgecolor\", \"scale\": null, \"type\": \"nominal\"}, \"tooltip\": {\"field\": \"hovertext\", \"type\": \"nominal\"}, \"x\": {\"axis\": {\"grid\": false, \"labelAngle\": 0, \"labelExpr\": \"datum.value == 5.0 ? '1' : datum.value == 15.0 ? '1' : datum.value == 25.0 ? '1' : datum.value == 35.0 ? '1' : datum.value == 45.0 ? '46' : datum.value == 55.0 ? '1' : datum.value == 65.0 ? '1' : datum.value == 75.0 ? '1' : datum.value == 85.0 ? '1' : datum.value == 95.0 ? '3' : datum.value == 105.0 ? '1' : datum.value == 115.0 ? '92' : ''\", \"labelPadding\": 10, \"orient\": \"bottom\", \"ticks\": false, \"values\": [5.0, 15.0, 25.0, 35.0, 45.0, 55.0, 65.0, 75.0, 85.0, 95.0, 105.0, 115.0]}, \"field\": \"x\", \"title\": null, \"type\": \"quantitative\"}, \"y\": {\"axis\": {\"grid\": false}, \"field\": \"y\", \"scale\": {\"reverse\": false, \"type\": \"linear\"}, \"title\": null, \"type\": \"quantitative\"}}}, {\"mark\": {\"type\": \"text\", \"fontWeight\": \"bold\"}, \"encoding\": {\"color\": {\"field\": \"labelcolor\", \"scale\": null, \"type\": \"nominal\"}, \"size\": {\"field\": \"labelsize\", \"scale\": null, \"type\": \"quantitative\"}, \"text\": {\"field\": \"label\", \"type\": \"nominal\"}, \"tooltip\": {\"field\": \"hovertext\", \"type\": \"nominal\"}, \"x\": {\"axis\": {\"grid\": false, \"labelAngle\": 0, \"labelExpr\": \"datum.value == 5.0 ? '1' : datum.value == 15.0 ? '1' : datum.value == 25.0 ? '1' : datum.value == 35.0 ? '1' : datum.value == 45.0 ? '46' : datum.value == 55.0 ? '1' : datum.value == 65.0 ? '1' : datum.value == 75.0 ? '1' : datum.value == 85.0 ? '1' : datum.value == 95.0 ? '3' : datum.value == 105.0 ? '1' : datum.value == 115.0 ? '92' : ''\", \"labelPadding\": 10, \"orient\": \"bottom\", \"ticks\": false, \"values\": [5.0, 15.0, 25.0, 35.0, 45.0, 55.0, 65.0, 75.0, 85.0, 95.0, 105.0, 115.0]}, \"field\": \"x\", \"title\": null, \"type\": \"quantitative\"}, \"y\": {\"axis\": {\"grid\": false}, \"field\": \"y\", \"scale\": {\"reverse\": false, \"type\": \"linear\"}, \"title\": null, \"type\": \"quantitative\"}}}]}], \"data\": {\"name\": \"data-0bad9ac68e1ead0298d3c832bc7a79db\"}}], \"height\": 200, \"width\": 629, \"$schema\": \"https://vega.github.io/schema/vega-lite/v4.17.0.json\", \"datasets\": {\"data-14cecd4bee7b75d255fafc30acb8179d\": [{\"index\": 0, \"x\": 35.0, \"y\": 0.0, \"fillcolor\": \"#ff7f0e\", \"id\": 269, \"children_id\": [15, 263], \"cluster_id\": null, \"strokewidth\": 1.0, \"strokedash\": [1, 0], \"strokeopacity\": 1.0, \"_order_helper\": 0}, {\"index\": 0, \"x\": 35.0, \"y\": 0.3605551275463992, \"fillcolor\": \"#ff7f0e\", \"id\": 269, \"children_id\": [15, 263], \"cluster_id\": null, \"strokewidth\": 1.0, \"strokedash\": [1, 0], \"strokeopacity\": 1.0, \"_order_helper\": 1}, {\"index\": 0, \"x\": 45.0, \"y\": 0.3605551275463992, \"fillcolor\": \"#ff7f0e\", \"id\": 269, \"children_id\": [15, 263], \"cluster_id\": null, \"strokewidth\": 1.0, \"strokedash\": [1, 0], \"strokeopacity\": 1.0, \"_order_helper\": 2}, {\"index\": 0, \"x\": 45.0, \"y\": 0.0, \"fillcolor\": \"#ff7f0e\", \"id\": 269, \"children_id\": [15, 263], \"cluster_id\": null, \"strokewidth\": 1.0, \"strokedash\": [1, 0], \"strokeopacity\": 1.0, \"_order_helper\": 3}, {\"index\": 1, \"x\": 25.0, \"y\": 0.0, \"fillcolor\": \"#ff7f0e\", \"id\": 278, \"children_id\": [14, 269], \"cluster_id\": null, \"strokewidth\": 1.0, \"strokedash\": [1, 0], \"strokeopacity\": 1.0, \"_order_helper\": 0}, {\"index\": 1, \"x\": 25.0, \"y\": 0.412310562561766, \"fillcolor\": \"#ff7f0e\", \"id\": 278, \"children_id\": [14, 269], \"cluster_id\": null, \"strokewidth\": 1.0, \"strokedash\": [1, 0], \"strokeopacity\": 1.0, \"_order_helper\": 1}, {\"index\": 1, \"x\": 40.0, \"y\": 0.412310562561766, \"fillcolor\": \"#ff7f0e\", \"id\": 278, \"children_id\": [14, 269], \"cluster_id\": null, \"strokewidth\": 1.0, \"strokedash\": [1, 0], \"strokeopacity\": 1.0, \"_order_helper\": 2}, {\"index\": 1, \"x\": 40.0, \"y\": 0.3605551275463992, \"fillcolor\": \"#ff7f0e\", \"id\": 278, \"children_id\": [14, 269], \"cluster_id\": null, \"strokewidth\": 1.0, \"strokedash\": [1, 0], \"strokeopacity\": 1.0, \"_order_helper\": 3}, {\"index\": 2, \"x\": 15.0, \"y\": 0.0, \"fillcolor\": \"#ff7f0e\", \"id\": 285, \"children_id\": [22, 278], \"cluster_id\": null, \"strokewidth\": 1.0, \"strokedash\": [1, 0], \"strokeopacity\": 1.0, \"_order_helper\": 0}, {\"index\": 2, \"x\": 15.0, \"y\": 0.45825756949558394, \"fillcolor\": \"#ff7f0e\", \"id\": 285, \"children_id\": [22, 278], \"cluster_id\": null, \"strokewidth\": 1.0, \"strokedash\": [1, 0], \"strokeopacity\": 1.0, \"_order_helper\": 1}, {\"index\": 2, \"x\": 32.5, \"y\": 0.45825756949558394, \"fillcolor\": \"#ff7f0e\", \"id\": 285, \"children_id\": [22, 278], \"cluster_id\": null, \"strokewidth\": 1.0, \"strokedash\": [1, 0], \"strokeopacity\": 1.0, \"_order_helper\": 2}, {\"index\": 2, \"x\": 32.5, \"y\": 0.412310562561766, \"fillcolor\": \"#ff7f0e\", \"id\": 285, \"children_id\": [22, 278], \"cluster_id\": null, \"strokewidth\": 1.0, \"strokedash\": [1, 0], \"strokeopacity\": 1.0, \"_order_helper\": 3}, {\"index\": 3, \"x\": 5.0, \"y\": 0.0, \"fillcolor\": \"#ff7f0e\", \"id\": 293, \"children_id\": [41, 285], \"cluster_id\": 1.0, \"strokewidth\": 1.0, \"strokedash\": [1, 0], \"strokeopacity\": 1.0, \"_order_helper\": 0}, {\"index\": 3, \"x\": 5.0, \"y\": 0.6244997998398398, \"fillcolor\": \"#ff7f0e\", \"id\": 293, \"children_id\": [41, 285], \"cluster_id\": 1.0, \"strokewidth\": 1.0, \"strokedash\": [1, 0], \"strokeopacity\": 1.0, \"_order_helper\": 1}, {\"index\": 3, \"x\": 23.75, \"y\": 0.6244997998398398, \"fillcolor\": \"#ff7f0e\", \"id\": 293, \"children_id\": [41, 285], \"cluster_id\": 1.0, \"strokewidth\": 1.0, \"strokedash\": [1, 0], \"strokeopacity\": 1.0, \"_order_helper\": 2}, {\"index\": 3, \"x\": 23.75, \"y\": 0.45825756949558394, \"fillcolor\": \"#ff7f0e\", \"id\": 293, \"children_id\": [41, 285], \"cluster_id\": 1.0, \"strokewidth\": 1.0, \"strokedash\": [1, 0], \"strokeopacity\": 1.0, \"_order_helper\": 3}, {\"index\": 4, \"x\": 55.0, \"y\": 0.0, \"fillcolor\": \"#2ca02c\", \"id\": 279, \"children_id\": [117, 131], \"cluster_id\": 2.0, \"strokewidth\": 1.0, \"strokedash\": [1, 0], \"strokeopacity\": 1.0, \"_order_helper\": 0}, {\"index\": 4, \"x\": 55.0, \"y\": 0.4123105625617661, \"fillcolor\": \"#2ca02c\", \"id\": 279, \"children_id\": [117, 131], \"cluster_id\": 2.0, \"strokewidth\": 1.0, \"strokedash\": [1, 0], \"strokeopacity\": 1.0, \"_order_helper\": 1}, {\"index\": 4, \"x\": 65.0, \"y\": 0.4123105625617661, \"fillcolor\": \"#2ca02c\", \"id\": 279, \"children_id\": [117, 131], \"cluster_id\": 2.0, \"strokewidth\": 1.0, \"strokedash\": [1, 0], \"strokeopacity\": 1.0, \"_order_helper\": 2}, {\"index\": 4, \"x\": 65.0, \"y\": 0.0, \"fillcolor\": \"#2ca02c\", \"id\": 279, \"children_id\": [117, 131], \"cluster_id\": 2.0, \"strokewidth\": 1.0, \"strokedash\": [1, 0], \"strokeopacity\": 1.0, \"_order_helper\": 3}, {\"index\": 5, \"x\": 85.0, \"y\": 0.0, \"fillcolor\": \"#d62728\", \"id\": 273, \"children_id\": [98, 265], \"cluster_id\": null, \"strokewidth\": 1.0, \"strokedash\": [1, 0], \"strokeopacity\": 1.0, \"_order_helper\": 0}, {\"index\": 5, \"x\": 85.0, \"y\": 0.3872983346207412, \"fillcolor\": \"#d62728\", \"id\": 273, \"children_id\": [98, 265], \"cluster_id\": null, \"strokewidth\": 1.0, \"strokedash\": [1, 0], \"strokeopacity\": 1.0, \"_order_helper\": 1}, {\"index\": 5, \"x\": 95.0, \"y\": 0.3872983346207412, \"fillcolor\": \"#d62728\", \"id\": 273, \"children_id\": [98, 265], \"cluster_id\": null, \"strokewidth\": 1.0, \"strokedash\": [1, 0], \"strokeopacity\": 1.0, \"_order_helper\": 2}, {\"index\": 5, \"x\": 95.0, \"y\": 0.0, \"fillcolor\": \"#d62728\", \"id\": 273, \"children_id\": [98, 265], \"cluster_id\": null, \"strokewidth\": 1.0, \"strokedash\": [1, 0], \"strokeopacity\": 1.0, \"_order_helper\": 3}, {\"index\": 6, \"x\": 105.0, \"y\": 0.0, \"fillcolor\": \"#d62728\", \"id\": 294, \"children_id\": [109, 292], \"cluster_id\": null, \"strokewidth\": 1.0, \"strokedash\": [1, 0], \"strokeopacity\": 1.0, \"_order_helper\": 0}, {\"index\": 6, \"x\": 105.0, \"y\": 0.6324555320336759, \"fillcolor\": \"#d62728\", \"id\": 294, \"children_id\": [109, 292], \"cluster_id\": null, \"strokewidth\": 1.0, \"strokedash\": [1, 0], \"strokeopacity\": 1.0, \"_order_helper\": 1}, {\"index\": 6, \"x\": 115.0, \"y\": 0.6324555320336759, \"fillcolor\": \"#d62728\", \"id\": 294, \"children_id\": [109, 292], \"cluster_id\": null, \"strokewidth\": 1.0, \"strokedash\": [1, 0], \"strokeopacity\": 1.0, \"_order_helper\": 2}, {\"index\": 6, \"x\": 115.0, \"y\": 0.0, \"fillcolor\": \"#d62728\", \"id\": 294, \"children_id\": [109, 292], \"cluster_id\": null, \"strokewidth\": 1.0, \"strokedash\": [1, 0], \"strokeopacity\": 1.0, \"_order_helper\": 3}, {\"index\": 7, \"x\": 90.0, \"y\": 0.3872983346207412, \"fillcolor\": \"#d62728\", \"id\": 295, \"children_id\": [273, 294], \"cluster_id\": null, \"strokewidth\": 1.0, \"strokedash\": [1, 0], \"strokeopacity\": 1.0, \"_order_helper\": 0}, {\"index\": 7, \"x\": 90.0, \"y\": 0.6480740698407862, \"fillcolor\": \"#d62728\", \"id\": 295, \"children_id\": [273, 294], \"cluster_id\": null, \"strokewidth\": 1.0, \"strokedash\": [1, 0], \"strokeopacity\": 1.0, \"_order_helper\": 1}, {\"index\": 7, \"x\": 110.0, \"y\": 0.6480740698407862, \"fillcolor\": \"#d62728\", \"id\": 295, \"children_id\": [273, 294], \"cluster_id\": null, \"strokewidth\": 1.0, \"strokedash\": [1, 0], \"strokeopacity\": 1.0, \"_order_helper\": 2}, {\"index\": 7, \"x\": 110.0, \"y\": 0.6324555320336759, \"fillcolor\": \"#d62728\", \"id\": 295, \"children_id\": [273, 294], \"cluster_id\": null, \"strokewidth\": 1.0, \"strokedash\": [1, 0], \"strokeopacity\": 1.0, \"_order_helper\": 3}, {\"index\": 8, \"x\": 75.0, \"y\": 0.0, \"fillcolor\": \"#d62728\", \"id\": 296, \"children_id\": [106, 295], \"cluster_id\": 3.0, \"strokewidth\": 1.0, \"strokedash\": [1, 0], \"strokeopacity\": 1.0, \"_order_helper\": 0}, {\"index\": 8, \"x\": 75.0, \"y\": 0.7348469228349535, \"fillcolor\": \"#d62728\", \"id\": 296, \"children_id\": [106, 295], \"cluster_id\": 3.0, \"strokewidth\": 1.0, \"strokedash\": [1, 0], \"strokeopacity\": 1.0, \"_order_helper\": 1}, {\"index\": 8, \"x\": 100.0, \"y\": 0.7348469228349535, \"fillcolor\": \"#d62728\", \"id\": 296, \"children_id\": [106, 295], \"cluster_id\": 3.0, \"strokewidth\": 1.0, \"strokedash\": [1, 0], \"strokeopacity\": 1.0, \"_order_helper\": 2}, {\"index\": 8, \"x\": 100.0, \"y\": 0.6480740698407862, \"fillcolor\": \"#d62728\", \"id\": 296, \"children_id\": [106, 295], \"cluster_id\": 3.0, \"strokewidth\": 1.0, \"strokedash\": [1, 0], \"strokeopacity\": 1.0, \"_order_helper\": 3}, {\"index\": 9, \"x\": 60.0, \"y\": 0.4123105625617661, \"fillcolor\": \"#1f77b4\", \"id\": 297, \"children_id\": [279, 296], \"cluster_id\": null, \"strokewidth\": 1.0, \"strokedash\": [1, 0], \"strokeopacity\": 1.0, \"_order_helper\": 0}, {\"index\": 9, \"x\": 60.0, \"y\": 0.818535277187245, \"fillcolor\": \"#1f77b4\", \"id\": 297, \"children_id\": [279, 296], \"cluster_id\": null, \"strokewidth\": 1.0, \"strokedash\": [1, 0], \"strokeopacity\": 1.0, \"_order_helper\": 1}, {\"index\": 9, \"x\": 87.5, \"y\": 0.818535277187245, \"fillcolor\": \"#1f77b4\", \"id\": 297, \"children_id\": [279, 296], \"cluster_id\": null, \"strokewidth\": 1.0, \"strokedash\": [1, 0], \"strokeopacity\": 1.0, \"_order_helper\": 2}, {\"index\": 9, \"x\": 87.5, \"y\": 0.7348469228349535, \"fillcolor\": \"#1f77b4\", \"id\": 297, \"children_id\": [279, 296], \"cluster_id\": null, \"strokewidth\": 1.0, \"strokedash\": [1, 0], \"strokeopacity\": 1.0, \"_order_helper\": 3}, {\"index\": 10, \"x\": 14.375, \"y\": 0.6244997998398398, \"fillcolor\": \"#1f77b4\", \"id\": 298, \"children_id\": [293, 297], \"cluster_id\": null, \"strokewidth\": 1.0, \"strokedash\": [1, 0], \"strokeopacity\": 1.0, \"_order_helper\": 0}, {\"index\": 10, \"x\": 14.375, \"y\": 1.6401219466856727, \"fillcolor\": \"#1f77b4\", \"id\": 298, \"children_id\": [293, 297], \"cluster_id\": null, \"strokewidth\": 1.0, \"strokedash\": [1, 0], \"strokeopacity\": 1.0, \"_order_helper\": 1}, {\"index\": 10, \"x\": 73.75, \"y\": 1.6401219466856727, \"fillcolor\": \"#1f77b4\", \"id\": 298, \"children_id\": [293, 297], \"cluster_id\": null, \"strokewidth\": 1.0, \"strokedash\": [1, 0], \"strokeopacity\": 1.0, \"_order_helper\": 2}, {\"index\": 10, \"x\": 73.75, \"y\": 0.818535277187245, \"fillcolor\": \"#1f77b4\", \"id\": 298, \"children_id\": [293, 297], \"cluster_id\": null, \"strokewidth\": 1.0, \"strokedash\": [1, 0], \"strokeopacity\": 1.0, \"_order_helper\": 3}], \"data-0bad9ac68e1ead0298d3c832bc7a79db\": [{\"x\": 5.0, \"y\": 0.0, \"type\": \"leaf\", \"id\": 41, \"cluster_id\": null, \"edgecolor\": \"#ff7f0e\", \"label\": \"\", \"hovertext\": {\"# of items\": \"1\", \"linkage id\": 41}, \"fillcolor\": \"#ff7f0e\", \"radius\": 4.0, \"opacity\": 1.0, \"labelsize\": 10.0, \"labelcolor\": \"#fff\", \"_default_leaf_radius\": 4.0, \"_default_leaf_radius_if_cluster\": 7.0, \"size\": 50.26548245743669}, {\"x\": 15.0, \"y\": 0.0, \"type\": \"leaf\", \"id\": 22, \"cluster_id\": null, \"edgecolor\": \"#ff7f0e\", \"label\": \"\", \"hovertext\": {\"# of items\": \"1\", \"linkage id\": 22}, \"fillcolor\": \"#ff7f0e\", \"radius\": 4.0, \"opacity\": 1.0, \"labelsize\": 10.0, \"labelcolor\": \"#fff\", \"_default_leaf_radius\": 4.0, \"_default_leaf_radius_if_cluster\": 7.0, \"size\": 50.26548245743669}, {\"x\": 25.0, \"y\": 0.0, \"type\": \"leaf\", \"id\": 14, \"cluster_id\": null, \"edgecolor\": \"#ff7f0e\", \"label\": \"\", \"hovertext\": {\"# of items\": \"1\", \"linkage id\": 14}, \"fillcolor\": \"#ff7f0e\", \"radius\": 4.0, \"opacity\": 1.0, \"labelsize\": 10.0, \"labelcolor\": \"#fff\", \"_default_leaf_radius\": 4.0, \"_default_leaf_radius_if_cluster\": 7.0, \"size\": 50.26548245743669}, {\"x\": 35.0, \"y\": 0.0, \"type\": \"leaf\", \"id\": 15, \"cluster_id\": null, \"edgecolor\": \"#ff7f0e\", \"label\": \"\", \"hovertext\": {\"# of items\": \"1\", \"linkage id\": 15}, \"fillcolor\": \"#ff7f0e\", \"radius\": 4.0, \"opacity\": 1.0, \"labelsize\": 10.0, \"labelcolor\": \"#fff\", \"_default_leaf_radius\": 4.0, \"_default_leaf_radius_if_cluster\": 7.0, \"size\": 50.26548245743669}, {\"x\": 45.0, \"y\": 0.0, \"type\": \"leaf\", \"id\": 263, \"cluster_id\": null, \"edgecolor\": \"#ff7f0e\", \"label\": \"\", \"hovertext\": {\"# of items\": \"46\", \"linkage id\": 263}, \"fillcolor\": \"#ff7f0e\", \"radius\": 4.0, \"opacity\": 1.0, \"labelsize\": 10.0, \"labelcolor\": \"#fff\", \"_default_leaf_radius\": 4.0, \"_default_leaf_radius_if_cluster\": 7.0, \"size\": 50.26548245743669}, {\"x\": 55.0, \"y\": 0.0, \"type\": \"leaf\", \"id\": 117, \"cluster_id\": null, \"edgecolor\": \"#2ca02c\", \"label\": \"\", \"hovertext\": {\"# of items\": \"1\", \"linkage id\": 117}, \"fillcolor\": \"#2ca02c\", \"radius\": 4.0, \"opacity\": 1.0, \"labelsize\": 10.0, \"labelcolor\": \"#fff\", \"_default_leaf_radius\": 4.0, \"_default_leaf_radius_if_cluster\": 7.0, \"size\": 50.26548245743669}, {\"x\": 65.0, \"y\": 0.0, \"type\": \"leaf\", \"id\": 131, \"cluster_id\": null, \"edgecolor\": \"#2ca02c\", \"label\": \"\", \"hovertext\": {\"# of items\": \"1\", \"linkage id\": 131}, \"fillcolor\": \"#2ca02c\", \"radius\": 4.0, \"opacity\": 1.0, \"labelsize\": 10.0, \"labelcolor\": \"#fff\", \"_default_leaf_radius\": 4.0, \"_default_leaf_radius_if_cluster\": 7.0, \"size\": 50.26548245743669}, {\"x\": 75.0, \"y\": 0.0, \"type\": \"leaf\", \"id\": 106, \"cluster_id\": null, \"edgecolor\": \"#d62728\", \"label\": \"\", \"hovertext\": {\"# of items\": \"1\", \"linkage id\": 106}, \"fillcolor\": \"#d62728\", \"radius\": 4.0, \"opacity\": 1.0, \"labelsize\": 10.0, \"labelcolor\": \"#fff\", \"_default_leaf_radius\": 4.0, \"_default_leaf_radius_if_cluster\": 7.0, \"size\": 50.26548245743669}, {\"x\": 85.0, \"y\": 0.0, \"type\": \"leaf\", \"id\": 98, \"cluster_id\": null, \"edgecolor\": \"#d62728\", \"label\": \"\", \"hovertext\": {\"# of items\": \"1\", \"linkage id\": 98}, \"fillcolor\": \"#d62728\", \"radius\": 4.0, \"opacity\": 1.0, \"labelsize\": 10.0, \"labelcolor\": \"#fff\", \"_default_leaf_radius\": 4.0, \"_default_leaf_radius_if_cluster\": 7.0, \"size\": 50.26548245743669}, {\"x\": 95.0, \"y\": 0.0, \"type\": \"leaf\", \"id\": 265, \"cluster_id\": null, \"edgecolor\": \"#d62728\", \"label\": \"\", \"hovertext\": {\"# of items\": \"3\", \"linkage id\": 265}, \"fillcolor\": \"#d62728\", \"radius\": 4.0, \"opacity\": 1.0, \"labelsize\": 10.0, \"labelcolor\": \"#fff\", \"_default_leaf_radius\": 4.0, \"_default_leaf_radius_if_cluster\": 7.0, \"size\": 50.26548245743669}, {\"x\": 105.0, \"y\": 0.0, \"type\": \"leaf\", \"id\": 109, \"cluster_id\": null, \"edgecolor\": \"#d62728\", \"label\": \"\", \"hovertext\": {\"# of items\": \"1\", \"linkage id\": 109}, \"fillcolor\": \"#d62728\", \"radius\": 4.0, \"opacity\": 1.0, \"labelsize\": 10.0, \"labelcolor\": \"#fff\", \"_default_leaf_radius\": 4.0, \"_default_leaf_radius_if_cluster\": 7.0, \"size\": 50.26548245743669}, {\"x\": 115.0, \"y\": 0.0, \"type\": \"leaf\", \"id\": 292, \"cluster_id\": null, \"edgecolor\": \"#d62728\", \"label\": \"\", \"hovertext\": {\"# of items\": \"92\", \"linkage id\": 292}, \"fillcolor\": \"#d62728\", \"radius\": 4.0, \"opacity\": 1.0, \"labelsize\": 10.0, \"labelcolor\": \"#fff\", \"_default_leaf_radius\": 4.0, \"_default_leaf_radius_if_cluster\": 7.0, \"size\": 50.26548245743669}, {\"x\": 40.0, \"y\": 0.3605551275463992, \"type\": \"subcluster\", \"id\": 269, \"cluster_id\": null, \"edgecolor\": \"#ff7f0e\", \"label\": \"\", \"hovertext\": {\"# of items\": \"47\", \"linkage id\": 269}, \"fillcolor\": \"#fff\", \"radius\": 7.0, \"opacity\": 1.0, \"labelsize\": 10.0, \"labelcolor\": \"#fff\", \"_default_leaf_radius\": 4.0, \"_default_leaf_radius_if_cluster\": 7.0, \"size\": 153.93804002589985}, {\"x\": 32.5, \"y\": 0.412310562561766, \"type\": \"subcluster\", \"id\": 278, \"cluster_id\": null, \"edgecolor\": \"#ff7f0e\", \"label\": \"\", \"hovertext\": {\"# of items\": \"48\", \"linkage id\": 278}, \"fillcolor\": \"#fff\", \"radius\": 7.0, \"opacity\": 1.0, \"labelsize\": 10.0, \"labelcolor\": \"#fff\", \"_default_leaf_radius\": 4.0, \"_default_leaf_radius_if_cluster\": 7.0, \"size\": 153.93804002589985}, {\"x\": 23.75, \"y\": 0.45825756949558394, \"type\": \"subcluster\", \"id\": 285, \"cluster_id\": null, \"edgecolor\": \"#ff7f0e\", \"label\": \"\", \"hovertext\": {\"# of items\": \"49\", \"linkage id\": 285}, \"fillcolor\": \"#fff\", \"radius\": 7.0, \"opacity\": 1.0, \"labelsize\": 10.0, \"labelcolor\": \"#fff\", \"_default_leaf_radius\": 4.0, \"_default_leaf_radius_if_cluster\": 7.0, \"size\": 153.93804002589985}, {\"x\": 14.375, \"y\": 0.6244997998398398, \"type\": \"cluster\", \"id\": 293, \"cluster_id\": 1.0, \"edgecolor\": \"#ff7f0e\", \"label\": \"1\", \"hovertext\": {\"# of items\": \"50\", \"linkage id\": 293}, \"fillcolor\": \"#ff7f0e\", \"radius\": 7.0, \"opacity\": 1.0, \"labelsize\": 10.0, \"labelcolor\": \"#fff\", \"_default_leaf_radius\": 4.0, \"_default_leaf_radius_if_cluster\": 7.0, \"size\": 153.93804002589985}, {\"x\": 60.0, \"y\": 0.4123105625617661, \"type\": \"cluster\", \"id\": 279, \"cluster_id\": 2.0, \"edgecolor\": \"#2ca02c\", \"label\": \"2\", \"hovertext\": {\"# of items\": \"2\", \"linkage id\": 279}, \"fillcolor\": \"#2ca02c\", \"radius\": 7.0, \"opacity\": 1.0, \"labelsize\": 10.0, \"labelcolor\": \"#fff\", \"_default_leaf_radius\": 4.0, \"_default_leaf_radius_if_cluster\": 7.0, \"size\": 153.93804002589985}, {\"x\": 90.0, \"y\": 0.3872983346207412, \"type\": \"subcluster\", \"id\": 273, \"cluster_id\": null, \"edgecolor\": \"#d62728\", \"label\": \"\", \"hovertext\": {\"# of items\": \"4\", \"linkage id\": 273}, \"fillcolor\": \"#fff\", \"radius\": 7.0, \"opacity\": 1.0, \"labelsize\": 10.0, \"labelcolor\": \"#fff\", \"_default_leaf_radius\": 4.0, \"_default_leaf_radius_if_cluster\": 7.0, \"size\": 153.93804002589985}, {\"x\": 110.0, \"y\": 0.6324555320336759, \"type\": \"subcluster\", \"id\": 294, \"cluster_id\": null, \"edgecolor\": \"#d62728\", \"label\": \"\", \"hovertext\": {\"# of items\": \"93\", \"linkage id\": 294}, \"fillcolor\": \"#fff\", \"radius\": 7.0, \"opacity\": 1.0, \"labelsize\": 10.0, \"labelcolor\": \"#fff\", \"_default_leaf_radius\": 4.0, \"_default_leaf_radius_if_cluster\": 7.0, \"size\": 153.93804002589985}, {\"x\": 100.0, \"y\": 0.6480740698407862, \"type\": \"subcluster\", \"id\": 295, \"cluster_id\": null, \"edgecolor\": \"#d62728\", \"label\": \"\", \"hovertext\": {\"# of items\": \"97\", \"linkage id\": 295}, \"fillcolor\": \"#fff\", \"radius\": 7.0, \"opacity\": 1.0, \"labelsize\": 10.0, \"labelcolor\": \"#fff\", \"_default_leaf_radius\": 4.0, \"_default_leaf_radius_if_cluster\": 7.0, \"size\": 153.93804002589985}, {\"x\": 87.5, \"y\": 0.7348469228349535, \"type\": \"cluster\", \"id\": 296, \"cluster_id\": 3.0, \"edgecolor\": \"#d62728\", \"label\": \"3\", \"hovertext\": {\"# of items\": \"98\", \"linkage id\": 296}, \"fillcolor\": \"#d62728\", \"radius\": 7.0, \"opacity\": 1.0, \"labelsize\": 10.0, \"labelcolor\": \"#fff\", \"_default_leaf_radius\": 4.0, \"_default_leaf_radius_if_cluster\": 7.0, \"size\": 153.93804002589985}, {\"x\": 73.75, \"y\": 0.818535277187245, \"type\": \"supercluster\", \"id\": 297, \"cluster_id\": null, \"edgecolor\": \"#1f77b4\", \"label\": \"\", \"hovertext\": {\"# of items\": \"100\", \"linkage id\": 297}, \"fillcolor\": \"#1f77b4\", \"radius\": 7.0, \"opacity\": 1.0, \"labelsize\": 10.0, \"labelcolor\": \"#fff\", \"_default_leaf_radius\": 4.0, \"_default_leaf_radius_if_cluster\": 7.0, \"size\": 153.93804002589985}, {\"x\": 44.0625, \"y\": 1.6401219466856727, \"type\": \"supercluster\", \"id\": 298, \"cluster_id\": null, \"edgecolor\": \"#1f77b4\", \"label\": \"\", \"hovertext\": {\"# of items\": \"150\", \"linkage id\": 298}, \"fillcolor\": \"#1f77b4\", \"radius\": 7.0, \"opacity\": 1.0, \"labelsize\": 10.0, \"labelcolor\": \"#fff\", \"_default_leaf_radius\": 4.0, \"_default_leaf_radius_if_cluster\": 7.0, \"size\": 153.93804002589985}]}}, {\"actions\": false, \"mode\": \"vega-lite\"});\n",
       "</script>"
      ],
      "text/plain": [
       "alt.LayerChart(...)"
      ]
     },
     "metadata": {},
     "output_type": "display_data"
    }
   ],
   "source": [
    "import scipy.cluster.hierarchy as sch\n",
    "from sklearn.datasets import load_iris\n",
    "import idendro\n",
    "\n",
    "# do the usual scipy hierarchical clustering\n",
    "data = load_iris(as_frame=True)\n",
    "linkage_matrix = sch.linkage(\n",
    "    data['data'], method='single', metric='euclidean'\n",
    ")\n",
    "flat_clusters = sch.fcluster(\n",
    "    linkage_matrix, t=0.8, criterion='distance'\n",
    ")\n",
    "\n",
    "#pass it to idendro and visualize\n",
    "cl_data = idendro.ClusteringData(\n",
    "    linkage_matrix = linkage_matrix, \n",
    "    cluster_assignments = flat_clusters\n",
    ")\n",
    "\n",
    "idd = idendro.IDendro()\n",
    "idd.set_cluster_info(cl_data)\n",
    "\n",
    "idd.create_dendrogram().plot(\n",
    "    backend='altair',\n",
    "    height=200, width=629,\n",
    ")"
   ]
  },
  {
   "attachments": {},
   "cell_type": "markdown",
   "metadata": {},
   "source": [
    "#### Using previously created SciPy's dendrogram objects\n",
    "\n",
    "In some situations, you may have a dendrogram object created by SciPy that you want to visualize using IDendro. That's possible, too."
   ]
  },
  {
   "cell_type": "code",
   "execution_count": null,
   "metadata": {},
   "outputs": [],
   "source": [
    "## create a scipy dendrogram object\n",
    "D = sch.dendrogram(\n",
    "    linkage_matrix, \n",
    "    p=4, truncate_mode=\"level\",\n",
    "    no_plot=True\n",
    ")"
   ]
  },
  {
   "attachments": {},
   "cell_type": "markdown",
   "metadata": {},
   "source": [
    "If you have just the dendrogram object (and not the underlying linkage matrix), you cannot compute/plot the nodes in the dendrogram, but you can still use the available backends."
   ]
  },
  {
   "cell_type": "code",
   "execution_count": null,
   "metadata": {},
   "outputs": [
    {
     "data": {
      "text/html": [
       "\n",
       "<div id=\"altair-viz-270cd69fa60a435fad91a6d8ff59c226\"></div>\n",
       "<script type=\"text/javascript\">\n",
       "  var VEGA_DEBUG = (typeof VEGA_DEBUG == \"undefined\") ? {} : VEGA_DEBUG;\n",
       "  (function(spec, embedOpt){\n",
       "    let outputDiv = document.currentScript.previousElementSibling;\n",
       "    if (outputDiv.id !== \"altair-viz-270cd69fa60a435fad91a6d8ff59c226\") {\n",
       "      outputDiv = document.getElementById(\"altair-viz-270cd69fa60a435fad91a6d8ff59c226\");\n",
       "    }\n",
       "    const paths = {\n",
       "      \"vega\": \"https://cdn.jsdelivr.net/npm//vega@5?noext\",\n",
       "      \"vega-lib\": \"https://cdn.jsdelivr.net/npm//vega-lib?noext\",\n",
       "      \"vega-lite\": \"https://cdn.jsdelivr.net/npm//vega-lite@4.17.0?noext\",\n",
       "      \"vega-embed\": \"https://cdn.jsdelivr.net/npm//vega-embed@6?noext\",\n",
       "    };\n",
       "\n",
       "    function maybeLoadScript(lib, version) {\n",
       "      var key = `${lib.replace(\"-\", \"\")}_version`;\n",
       "      return (VEGA_DEBUG[key] == version) ?\n",
       "        Promise.resolve(paths[lib]) :\n",
       "        new Promise(function(resolve, reject) {\n",
       "          var s = document.createElement('script');\n",
       "          document.getElementsByTagName(\"head\")[0].appendChild(s);\n",
       "          s.async = true;\n",
       "          s.onload = () => {\n",
       "            VEGA_DEBUG[key] = version;\n",
       "            return resolve(paths[lib]);\n",
       "          };\n",
       "          s.onerror = () => reject(`Error loading script: ${paths[lib]}`);\n",
       "          s.src = paths[lib];\n",
       "        });\n",
       "    }\n",
       "\n",
       "    function showError(err) {\n",
       "      outputDiv.innerHTML = `<div class=\"error\" style=\"color:red;\">${err}</div>`;\n",
       "      throw err;\n",
       "    }\n",
       "\n",
       "    function displayChart(vegaEmbed) {\n",
       "      vegaEmbed(outputDiv, spec, embedOpt)\n",
       "        .catch(err => showError(`Javascript Error: ${err.message}<br>This usually means there's a typo in your chart specification. See the javascript console for the full traceback.`));\n",
       "    }\n",
       "\n",
       "    if(typeof define === \"function\" && define.amd) {\n",
       "      requirejs.config({paths});\n",
       "      require([\"vega-embed\"], displayChart, err => showError(`Error loading script: ${err.message}`));\n",
       "    } else {\n",
       "      maybeLoadScript(\"vega\", \"5\")\n",
       "        .then(() => maybeLoadScript(\"vega-lite\", \"4.17.0\"))\n",
       "        .then(() => maybeLoadScript(\"vega-embed\", \"6\"))\n",
       "        .catch(showError)\n",
       "        .then(() => displayChart(vegaEmbed));\n",
       "    }\n",
       "  })({\"layer\": [{\"data\": {\"name\": \"data-77bb6a815e395d3b97091416b28e1f49\"}, \"mark\": \"line\", \"encoding\": {\"color\": {\"field\": \"fillcolor\", \"legend\": null, \"scale\": null, \"type\": \"nominal\"}, \"detail\": {\"field\": \"index\", \"type\": \"quantitative\"}, \"order\": {\"field\": \"_order_helper\", \"type\": \"quantitative\"}, \"strokeDash\": {\"field\": \"strokedash\", \"legend\": null, \"scale\": null, \"type\": \"nominal\"}, \"strokeOpacity\": {\"field\": \"strokeopacity\", \"legend\": null, \"scale\": null, \"type\": \"quantitative\"}, \"strokeWidth\": {\"field\": \"strokewidth\", \"legend\": null, \"scale\": null, \"type\": \"quantitative\"}, \"x\": {\"axis\": {\"grid\": false, \"labelAngle\": 0, \"labelExpr\": \"datum.value == 5.0 ? '41' : datum.value == 15.0 ? '22' : datum.value == 25.0 ? '14' : datum.value == 35.0 ? '15' : datum.value == 45.0 ? '(46)' : datum.value == 55.0 ? '117' : datum.value == 65.0 ? '131' : datum.value == 75.0 ? '106' : datum.value == 85.0 ? '98' : datum.value == 95.0 ? '(3)' : datum.value == 105.0 ? '109' : datum.value == 115.0 ? '(92)' : ''\", \"labelPadding\": 10, \"orient\": \"bottom\", \"ticks\": false, \"values\": [5.0, 15.0, 25.0, 35.0, 45.0, 55.0, 65.0, 75.0, 85.0, 95.0, 105.0, 115.0]}, \"field\": \"x\", \"title\": null, \"type\": \"quantitative\"}, \"y\": {\"axis\": {\"grid\": false}, \"field\": \"y\", \"scale\": {\"reverse\": false, \"type\": \"linear\"}, \"title\": null, \"type\": \"quantitative\"}}}, {\"data\": {\"name\": \"data-d751713988987e9331980363e24189ce\"}, \"mark\": \"point\"}], \"height\": 200, \"width\": 550, \"$schema\": \"https://vega.github.io/schema/vega-lite/v4.17.0.json\", \"datasets\": {\"data-77bb6a815e395d3b97091416b28e1f49\": [{\"index\": 0, \"x\": 35.0, \"y\": 0.0, \"fillcolor\": \"#ff7f0e\", \"id\": null, \"children_id\": null, \"cluster_id\": null, \"strokewidth\": 1.0, \"strokedash\": [1, 0], \"strokeopacity\": 1.0, \"_order_helper\": 0}, {\"index\": 0, \"x\": 35.0, \"y\": 0.3605551275463992, \"fillcolor\": \"#ff7f0e\", \"id\": null, \"children_id\": null, \"cluster_id\": null, \"strokewidth\": 1.0, \"strokedash\": [1, 0], \"strokeopacity\": 1.0, \"_order_helper\": 1}, {\"index\": 0, \"x\": 45.0, \"y\": 0.3605551275463992, \"fillcolor\": \"#ff7f0e\", \"id\": null, \"children_id\": null, \"cluster_id\": null, \"strokewidth\": 1.0, \"strokedash\": [1, 0], \"strokeopacity\": 1.0, \"_order_helper\": 2}, {\"index\": 0, \"x\": 45.0, \"y\": 0.0, \"fillcolor\": \"#ff7f0e\", \"id\": null, \"children_id\": null, \"cluster_id\": null, \"strokewidth\": 1.0, \"strokedash\": [1, 0], \"strokeopacity\": 1.0, \"_order_helper\": 3}, {\"index\": 1, \"x\": 25.0, \"y\": 0.0, \"fillcolor\": \"#ff7f0e\", \"id\": null, \"children_id\": null, \"cluster_id\": null, \"strokewidth\": 1.0, \"strokedash\": [1, 0], \"strokeopacity\": 1.0, \"_order_helper\": 0}, {\"index\": 1, \"x\": 25.0, \"y\": 0.412310562561766, \"fillcolor\": \"#ff7f0e\", \"id\": null, \"children_id\": null, \"cluster_id\": null, \"strokewidth\": 1.0, \"strokedash\": [1, 0], \"strokeopacity\": 1.0, \"_order_helper\": 1}, {\"index\": 1, \"x\": 40.0, \"y\": 0.412310562561766, \"fillcolor\": \"#ff7f0e\", \"id\": null, \"children_id\": null, \"cluster_id\": null, \"strokewidth\": 1.0, \"strokedash\": [1, 0], \"strokeopacity\": 1.0, \"_order_helper\": 2}, {\"index\": 1, \"x\": 40.0, \"y\": 0.3605551275463992, \"fillcolor\": \"#ff7f0e\", \"id\": null, \"children_id\": null, \"cluster_id\": null, \"strokewidth\": 1.0, \"strokedash\": [1, 0], \"strokeopacity\": 1.0, \"_order_helper\": 3}, {\"index\": 2, \"x\": 15.0, \"y\": 0.0, \"fillcolor\": \"#ff7f0e\", \"id\": null, \"children_id\": null, \"cluster_id\": null, \"strokewidth\": 1.0, \"strokedash\": [1, 0], \"strokeopacity\": 1.0, \"_order_helper\": 0}, {\"index\": 2, \"x\": 15.0, \"y\": 0.45825756949558394, \"fillcolor\": \"#ff7f0e\", \"id\": null, \"children_id\": null, \"cluster_id\": null, \"strokewidth\": 1.0, \"strokedash\": [1, 0], \"strokeopacity\": 1.0, \"_order_helper\": 1}, {\"index\": 2, \"x\": 32.5, \"y\": 0.45825756949558394, \"fillcolor\": \"#ff7f0e\", \"id\": null, \"children_id\": null, \"cluster_id\": null, \"strokewidth\": 1.0, \"strokedash\": [1, 0], \"strokeopacity\": 1.0, \"_order_helper\": 2}, {\"index\": 2, \"x\": 32.5, \"y\": 0.412310562561766, \"fillcolor\": \"#ff7f0e\", \"id\": null, \"children_id\": null, \"cluster_id\": null, \"strokewidth\": 1.0, \"strokedash\": [1, 0], \"strokeopacity\": 1.0, \"_order_helper\": 3}, {\"index\": 3, \"x\": 5.0, \"y\": 0.0, \"fillcolor\": \"#ff7f0e\", \"id\": null, \"children_id\": null, \"cluster_id\": null, \"strokewidth\": 1.0, \"strokedash\": [1, 0], \"strokeopacity\": 1.0, \"_order_helper\": 0}, {\"index\": 3, \"x\": 5.0, \"y\": 0.6244997998398398, \"fillcolor\": \"#ff7f0e\", \"id\": null, \"children_id\": null, \"cluster_id\": null, \"strokewidth\": 1.0, \"strokedash\": [1, 0], \"strokeopacity\": 1.0, \"_order_helper\": 1}, {\"index\": 3, \"x\": 23.75, \"y\": 0.6244997998398398, \"fillcolor\": \"#ff7f0e\", \"id\": null, \"children_id\": null, \"cluster_id\": null, \"strokewidth\": 1.0, \"strokedash\": [1, 0], \"strokeopacity\": 1.0, \"_order_helper\": 2}, {\"index\": 3, \"x\": 23.75, \"y\": 0.45825756949558394, \"fillcolor\": \"#ff7f0e\", \"id\": null, \"children_id\": null, \"cluster_id\": null, \"strokewidth\": 1.0, \"strokedash\": [1, 0], \"strokeopacity\": 1.0, \"_order_helper\": 3}, {\"index\": 4, \"x\": 55.0, \"y\": 0.0, \"fillcolor\": \"#2ca02c\", \"id\": null, \"children_id\": null, \"cluster_id\": null, \"strokewidth\": 1.0, \"strokedash\": [1, 0], \"strokeopacity\": 1.0, \"_order_helper\": 0}, {\"index\": 4, \"x\": 55.0, \"y\": 0.4123105625617661, \"fillcolor\": \"#2ca02c\", \"id\": null, \"children_id\": null, \"cluster_id\": null, \"strokewidth\": 1.0, \"strokedash\": [1, 0], \"strokeopacity\": 1.0, \"_order_helper\": 1}, {\"index\": 4, \"x\": 65.0, \"y\": 0.4123105625617661, \"fillcolor\": \"#2ca02c\", \"id\": null, \"children_id\": null, \"cluster_id\": null, \"strokewidth\": 1.0, \"strokedash\": [1, 0], \"strokeopacity\": 1.0, \"_order_helper\": 2}, {\"index\": 4, \"x\": 65.0, \"y\": 0.0, \"fillcolor\": \"#2ca02c\", \"id\": null, \"children_id\": null, \"cluster_id\": null, \"strokewidth\": 1.0, \"strokedash\": [1, 0], \"strokeopacity\": 1.0, \"_order_helper\": 3}, {\"index\": 5, \"x\": 85.0, \"y\": 0.0, \"fillcolor\": \"#2ca02c\", \"id\": null, \"children_id\": null, \"cluster_id\": null, \"strokewidth\": 1.0, \"strokedash\": [1, 0], \"strokeopacity\": 1.0, \"_order_helper\": 0}, {\"index\": 5, \"x\": 85.0, \"y\": 0.3872983346207412, \"fillcolor\": \"#2ca02c\", \"id\": null, \"children_id\": null, \"cluster_id\": null, \"strokewidth\": 1.0, \"strokedash\": [1, 0], \"strokeopacity\": 1.0, \"_order_helper\": 1}, {\"index\": 5, \"x\": 95.0, \"y\": 0.3872983346207412, \"fillcolor\": \"#2ca02c\", \"id\": null, \"children_id\": null, \"cluster_id\": null, \"strokewidth\": 1.0, \"strokedash\": [1, 0], \"strokeopacity\": 1.0, \"_order_helper\": 2}, {\"index\": 5, \"x\": 95.0, \"y\": 0.0, \"fillcolor\": \"#2ca02c\", \"id\": null, \"children_id\": null, \"cluster_id\": null, \"strokewidth\": 1.0, \"strokedash\": [1, 0], \"strokeopacity\": 1.0, \"_order_helper\": 3}, {\"index\": 6, \"x\": 105.0, \"y\": 0.0, \"fillcolor\": \"#2ca02c\", \"id\": null, \"children_id\": null, \"cluster_id\": null, \"strokewidth\": 1.0, \"strokedash\": [1, 0], \"strokeopacity\": 1.0, \"_order_helper\": 0}, {\"index\": 6, \"x\": 105.0, \"y\": 0.6324555320336759, \"fillcolor\": \"#2ca02c\", \"id\": null, \"children_id\": null, \"cluster_id\": null, \"strokewidth\": 1.0, \"strokedash\": [1, 0], \"strokeopacity\": 1.0, \"_order_helper\": 1}, {\"index\": 6, \"x\": 115.0, \"y\": 0.6324555320336759, \"fillcolor\": \"#2ca02c\", \"id\": null, \"children_id\": null, \"cluster_id\": null, \"strokewidth\": 1.0, \"strokedash\": [1, 0], \"strokeopacity\": 1.0, \"_order_helper\": 2}, {\"index\": 6, \"x\": 115.0, \"y\": 0.0, \"fillcolor\": \"#2ca02c\", \"id\": null, \"children_id\": null, \"cluster_id\": null, \"strokewidth\": 1.0, \"strokedash\": [1, 0], \"strokeopacity\": 1.0, \"_order_helper\": 3}, {\"index\": 7, \"x\": 90.0, \"y\": 0.3872983346207412, \"fillcolor\": \"#2ca02c\", \"id\": null, \"children_id\": null, \"cluster_id\": null, \"strokewidth\": 1.0, \"strokedash\": [1, 0], \"strokeopacity\": 1.0, \"_order_helper\": 0}, {\"index\": 7, \"x\": 90.0, \"y\": 0.6480740698407862, \"fillcolor\": \"#2ca02c\", \"id\": null, \"children_id\": null, \"cluster_id\": null, \"strokewidth\": 1.0, \"strokedash\": [1, 0], \"strokeopacity\": 1.0, \"_order_helper\": 1}, {\"index\": 7, \"x\": 110.0, \"y\": 0.6480740698407862, \"fillcolor\": \"#2ca02c\", \"id\": null, \"children_id\": null, \"cluster_id\": null, \"strokewidth\": 1.0, \"strokedash\": [1, 0], \"strokeopacity\": 1.0, \"_order_helper\": 2}, {\"index\": 7, \"x\": 110.0, \"y\": 0.6324555320336759, \"fillcolor\": \"#2ca02c\", \"id\": null, \"children_id\": null, \"cluster_id\": null, \"strokewidth\": 1.0, \"strokedash\": [1, 0], \"strokeopacity\": 1.0, \"_order_helper\": 3}, {\"index\": 8, \"x\": 75.0, \"y\": 0.0, \"fillcolor\": \"#2ca02c\", \"id\": null, \"children_id\": null, \"cluster_id\": null, \"strokewidth\": 1.0, \"strokedash\": [1, 0], \"strokeopacity\": 1.0, \"_order_helper\": 0}, {\"index\": 8, \"x\": 75.0, \"y\": 0.7348469228349535, \"fillcolor\": \"#2ca02c\", \"id\": null, \"children_id\": null, \"cluster_id\": null, \"strokewidth\": 1.0, \"strokedash\": [1, 0], \"strokeopacity\": 1.0, \"_order_helper\": 1}, {\"index\": 8, \"x\": 100.0, \"y\": 0.7348469228349535, \"fillcolor\": \"#2ca02c\", \"id\": null, \"children_id\": null, \"cluster_id\": null, \"strokewidth\": 1.0, \"strokedash\": [1, 0], \"strokeopacity\": 1.0, \"_order_helper\": 2}, {\"index\": 8, \"x\": 100.0, \"y\": 0.6480740698407862, \"fillcolor\": \"#2ca02c\", \"id\": null, \"children_id\": null, \"cluster_id\": null, \"strokewidth\": 1.0, \"strokedash\": [1, 0], \"strokeopacity\": 1.0, \"_order_helper\": 3}, {\"index\": 9, \"x\": 60.0, \"y\": 0.4123105625617661, \"fillcolor\": \"#2ca02c\", \"id\": null, \"children_id\": null, \"cluster_id\": null, \"strokewidth\": 1.0, \"strokedash\": [1, 0], \"strokeopacity\": 1.0, \"_order_helper\": 0}, {\"index\": 9, \"x\": 60.0, \"y\": 0.818535277187245, \"fillcolor\": \"#2ca02c\", \"id\": null, \"children_id\": null, \"cluster_id\": null, \"strokewidth\": 1.0, \"strokedash\": [1, 0], \"strokeopacity\": 1.0, \"_order_helper\": 1}, {\"index\": 9, \"x\": 87.5, \"y\": 0.818535277187245, \"fillcolor\": \"#2ca02c\", \"id\": null, \"children_id\": null, \"cluster_id\": null, \"strokewidth\": 1.0, \"strokedash\": [1, 0], \"strokeopacity\": 1.0, \"_order_helper\": 2}, {\"index\": 9, \"x\": 87.5, \"y\": 0.7348469228349535, \"fillcolor\": \"#2ca02c\", \"id\": null, \"children_id\": null, \"cluster_id\": null, \"strokewidth\": 1.0, \"strokedash\": [1, 0], \"strokeopacity\": 1.0, \"_order_helper\": 3}, {\"index\": 10, \"x\": 14.375, \"y\": 0.6244997998398398, \"fillcolor\": \"#1f77b4\", \"id\": null, \"children_id\": null, \"cluster_id\": null, \"strokewidth\": 1.0, \"strokedash\": [1, 0], \"strokeopacity\": 1.0, \"_order_helper\": 0}, {\"index\": 10, \"x\": 14.375, \"y\": 1.6401219466856727, \"fillcolor\": \"#1f77b4\", \"id\": null, \"children_id\": null, \"cluster_id\": null, \"strokewidth\": 1.0, \"strokedash\": [1, 0], \"strokeopacity\": 1.0, \"_order_helper\": 1}, {\"index\": 10, \"x\": 73.75, \"y\": 1.6401219466856727, \"fillcolor\": \"#1f77b4\", \"id\": null, \"children_id\": null, \"cluster_id\": null, \"strokewidth\": 1.0, \"strokedash\": [1, 0], \"strokeopacity\": 1.0, \"_order_helper\": 2}, {\"index\": 10, \"x\": 73.75, \"y\": 0.818535277187245, \"fillcolor\": \"#1f77b4\", \"id\": null, \"children_id\": null, \"cluster_id\": null, \"strokewidth\": 1.0, \"strokedash\": [1, 0], \"strokeopacity\": 1.0, \"_order_helper\": 3}], \"data-d751713988987e9331980363e24189ce\": []}}, {\"actions\": false, \"mode\": \"vega-lite\"});\n",
       "</script>"
      ],
      "text/plain": [
       "alt.LayerChart(...)"
      ]
     },
     "metadata": {},
     "output_type": "display_data"
    }
   ],
   "source": [
    "## pass it to idendro and visualize\n",
    "idd = idendro.IDendro()\n",
    "idd.convert_scipy_dendrogram(D, compute_nodes=False).plot(\n",
    "    backend='altair',\n",
    "    height=200, width=629,\n",
    "    show_nodes=False\n",
    ")"
   ]
  },
  {
   "attachments": {},
   "cell_type": "markdown",
   "metadata": {},
   "source": [
    "Note that not all customization functionality is available when using SciPy's dendrogram objects. In most cases, it is recommended that you generate the dendrogram with IDendro itself."
   ]
  },
  {
   "attachments": {},
   "cell_type": "markdown",
   "metadata": {},
   "source": [
    "### sklearn.cluster.AgglomerativeClustering\n",
    "\n",
    "To use [scikit-learn agglomerative clustering](https://scikit-learn.org/stable/auto_examples/cluster/plot_agglomerative_dendrogram.html) outputs, wrap the fit object with `idendro.ScikitLearnClusteringData` before passing it to IDendro."
   ]
  },
  {
   "cell_type": "code",
   "execution_count": null,
   "metadata": {},
   "outputs": [
    {
     "data": {
      "text/html": [
       "\n",
       "<div id=\"altair-viz-74c27767407c46d98c208061cca794db\"></div>\n",
       "<script type=\"text/javascript\">\n",
       "  var VEGA_DEBUG = (typeof VEGA_DEBUG == \"undefined\") ? {} : VEGA_DEBUG;\n",
       "  (function(spec, embedOpt){\n",
       "    let outputDiv = document.currentScript.previousElementSibling;\n",
       "    if (outputDiv.id !== \"altair-viz-74c27767407c46d98c208061cca794db\") {\n",
       "      outputDiv = document.getElementById(\"altair-viz-74c27767407c46d98c208061cca794db\");\n",
       "    }\n",
       "    const paths = {\n",
       "      \"vega\": \"https://cdn.jsdelivr.net/npm//vega@5?noext\",\n",
       "      \"vega-lib\": \"https://cdn.jsdelivr.net/npm//vega-lib?noext\",\n",
       "      \"vega-lite\": \"https://cdn.jsdelivr.net/npm//vega-lite@4.17.0?noext\",\n",
       "      \"vega-embed\": \"https://cdn.jsdelivr.net/npm//vega-embed@6?noext\",\n",
       "    };\n",
       "\n",
       "    function maybeLoadScript(lib, version) {\n",
       "      var key = `${lib.replace(\"-\", \"\")}_version`;\n",
       "      return (VEGA_DEBUG[key] == version) ?\n",
       "        Promise.resolve(paths[lib]) :\n",
       "        new Promise(function(resolve, reject) {\n",
       "          var s = document.createElement('script');\n",
       "          document.getElementsByTagName(\"head\")[0].appendChild(s);\n",
       "          s.async = true;\n",
       "          s.onload = () => {\n",
       "            VEGA_DEBUG[key] = version;\n",
       "            return resolve(paths[lib]);\n",
       "          };\n",
       "          s.onerror = () => reject(`Error loading script: ${paths[lib]}`);\n",
       "          s.src = paths[lib];\n",
       "        });\n",
       "    }\n",
       "\n",
       "    function showError(err) {\n",
       "      outputDiv.innerHTML = `<div class=\"error\" style=\"color:red;\">${err}</div>`;\n",
       "      throw err;\n",
       "    }\n",
       "\n",
       "    function displayChart(vegaEmbed) {\n",
       "      vegaEmbed(outputDiv, spec, embedOpt)\n",
       "        .catch(err => showError(`Javascript Error: ${err.message}<br>This usually means there's a typo in your chart specification. See the javascript console for the full traceback.`));\n",
       "    }\n",
       "\n",
       "    if(typeof define === \"function\" && define.amd) {\n",
       "      requirejs.config({paths});\n",
       "      require([\"vega-embed\"], displayChart, err => showError(`Error loading script: ${err.message}`));\n",
       "    } else {\n",
       "      maybeLoadScript(\"vega\", \"5\")\n",
       "        .then(() => maybeLoadScript(\"vega-lite\", \"4.17.0\"))\n",
       "        .then(() => maybeLoadScript(\"vega-embed\", \"6\"))\n",
       "        .catch(showError)\n",
       "        .then(() => displayChart(vegaEmbed));\n",
       "    }\n",
       "  })({\"layer\": [{\"data\": {\"name\": \"data-cb70de160cd579c3871273e4b0158c57\"}, \"mark\": \"line\", \"encoding\": {\"color\": {\"field\": \"fillcolor\", \"legend\": null, \"scale\": null, \"type\": \"nominal\"}, \"detail\": {\"field\": \"index\", \"type\": \"quantitative\"}, \"order\": {\"field\": \"_order_helper\", \"type\": \"quantitative\"}, \"strokeDash\": {\"field\": \"strokedash\", \"legend\": null, \"scale\": null, \"type\": \"nominal\"}, \"strokeOpacity\": {\"field\": \"strokeopacity\", \"legend\": null, \"scale\": null, \"type\": \"quantitative\"}, \"strokeWidth\": {\"field\": \"strokewidth\", \"legend\": null, \"scale\": null, \"type\": \"quantitative\"}, \"x\": {\"axis\": {\"grid\": false, \"labelAngle\": 0, \"labelExpr\": \"datum.value == 5.0 ? '1' : datum.value == 15.0 ? '1' : datum.value == 25.0 ? '1' : datum.value == 35.0 ? '1' : datum.value == 45.0 ? '46' : datum.value == 55.0 ? '1' : datum.value == 65.0 ? '1' : datum.value == 75.0 ? '1' : datum.value == 85.0 ? '1' : datum.value == 95.0 ? '3' : datum.value == 105.0 ? '1' : datum.value == 115.0 ? '92' : ''\", \"labelPadding\": 10, \"orient\": \"bottom\", \"ticks\": false, \"values\": [5.0, 15.0, 25.0, 35.0, 45.0, 55.0, 65.0, 75.0, 85.0, 95.0, 105.0, 115.0]}, \"field\": \"x\", \"title\": null, \"type\": \"quantitative\"}, \"y\": {\"axis\": {\"grid\": false}, \"field\": \"y\", \"scale\": {\"reverse\": false, \"type\": \"linear\"}, \"title\": null, \"type\": \"quantitative\"}}}, {\"layer\": [{\"layer\": [{\"mark\": \"point\", \"encoding\": {\"fill\": {\"field\": \"fillcolor\", \"scale\": null, \"type\": \"nominal\"}, \"opacity\": {\"field\": \"opacity\", \"scale\": null, \"type\": \"quantitative\"}, \"size\": {\"field\": \"size\", \"scale\": null, \"type\": \"quantitative\"}, \"stroke\": {\"field\": \"edgecolor\", \"scale\": null, \"type\": \"nominal\"}, \"tooltip\": {\"field\": \"hovertext\", \"type\": \"nominal\"}, \"x\": {\"axis\": {\"grid\": false, \"labelAngle\": 0, \"labelExpr\": \"datum.value == 5.0 ? '1' : datum.value == 15.0 ? '1' : datum.value == 25.0 ? '1' : datum.value == 35.0 ? '1' : datum.value == 45.0 ? '46' : datum.value == 55.0 ? '1' : datum.value == 65.0 ? '1' : datum.value == 75.0 ? '1' : datum.value == 85.0 ? '1' : datum.value == 95.0 ? '3' : datum.value == 105.0 ? '1' : datum.value == 115.0 ? '92' : ''\", \"labelPadding\": 10, \"orient\": \"bottom\", \"ticks\": false, \"values\": [5.0, 15.0, 25.0, 35.0, 45.0, 55.0, 65.0, 75.0, 85.0, 95.0, 105.0, 115.0]}, \"field\": \"x\", \"title\": null, \"type\": \"quantitative\"}, \"y\": {\"axis\": {\"grid\": false}, \"field\": \"y\", \"scale\": {\"reverse\": false, \"type\": \"linear\"}, \"title\": null, \"type\": \"quantitative\"}}}, {\"mark\": {\"type\": \"text\", \"fontWeight\": \"bold\"}, \"encoding\": {\"color\": {\"field\": \"labelcolor\", \"scale\": null, \"type\": \"nominal\"}, \"size\": {\"field\": \"labelsize\", \"scale\": null, \"type\": \"quantitative\"}, \"text\": {\"field\": \"label\", \"type\": \"nominal\"}, \"tooltip\": {\"field\": \"hovertext\", \"type\": \"nominal\"}, \"x\": {\"axis\": {\"grid\": false, \"labelAngle\": 0, \"labelExpr\": \"datum.value == 5.0 ? '1' : datum.value == 15.0 ? '1' : datum.value == 25.0 ? '1' : datum.value == 35.0 ? '1' : datum.value == 45.0 ? '46' : datum.value == 55.0 ? '1' : datum.value == 65.0 ? '1' : datum.value == 75.0 ? '1' : datum.value == 85.0 ? '1' : datum.value == 95.0 ? '3' : datum.value == 105.0 ? '1' : datum.value == 115.0 ? '92' : ''\", \"labelPadding\": 10, \"orient\": \"bottom\", \"ticks\": false, \"values\": [5.0, 15.0, 25.0, 35.0, 45.0, 55.0, 65.0, 75.0, 85.0, 95.0, 105.0, 115.0]}, \"field\": \"x\", \"title\": null, \"type\": \"quantitative\"}, \"y\": {\"axis\": {\"grid\": false}, \"field\": \"y\", \"scale\": {\"reverse\": false, \"type\": \"linear\"}, \"title\": null, \"type\": \"quantitative\"}}}]}], \"data\": {\"name\": \"data-6454fffd9318ddbd552e37d7ec24b22d\"}}], \"height\": 200, \"width\": 550, \"$schema\": \"https://vega.github.io/schema/vega-lite/v4.17.0.json\", \"datasets\": {\"data-cb70de160cd579c3871273e4b0158c57\": [{\"index\": 0, \"x\": 35.0, \"y\": 0.0, \"fillcolor\": \"#ff7f0e\", \"id\": 269, \"children_id\": [15, 263], \"cluster_id\": null, \"strokewidth\": 1.0, \"strokedash\": [1, 0], \"strokeopacity\": 1.0, \"_order_helper\": 0}, {\"index\": 0, \"x\": 35.0, \"y\": 0.3605551275463992, \"fillcolor\": \"#ff7f0e\", \"id\": 269, \"children_id\": [15, 263], \"cluster_id\": null, \"strokewidth\": 1.0, \"strokedash\": [1, 0], \"strokeopacity\": 1.0, \"_order_helper\": 1}, {\"index\": 0, \"x\": 45.0, \"y\": 0.3605551275463992, \"fillcolor\": \"#ff7f0e\", \"id\": 269, \"children_id\": [15, 263], \"cluster_id\": null, \"strokewidth\": 1.0, \"strokedash\": [1, 0], \"strokeopacity\": 1.0, \"_order_helper\": 2}, {\"index\": 0, \"x\": 45.0, \"y\": 0.0, \"fillcolor\": \"#ff7f0e\", \"id\": 269, \"children_id\": [15, 263], \"cluster_id\": null, \"strokewidth\": 1.0, \"strokedash\": [1, 0], \"strokeopacity\": 1.0, \"_order_helper\": 3}, {\"index\": 1, \"x\": 25.0, \"y\": 0.0, \"fillcolor\": \"#ff7f0e\", \"id\": 278, \"children_id\": [14, 269], \"cluster_id\": null, \"strokewidth\": 1.0, \"strokedash\": [1, 0], \"strokeopacity\": 1.0, \"_order_helper\": 0}, {\"index\": 1, \"x\": 25.0, \"y\": 0.412310562561766, \"fillcolor\": \"#ff7f0e\", \"id\": 278, \"children_id\": [14, 269], \"cluster_id\": null, \"strokewidth\": 1.0, \"strokedash\": [1, 0], \"strokeopacity\": 1.0, \"_order_helper\": 1}, {\"index\": 1, \"x\": 40.0, \"y\": 0.412310562561766, \"fillcolor\": \"#ff7f0e\", \"id\": 278, \"children_id\": [14, 269], \"cluster_id\": null, \"strokewidth\": 1.0, \"strokedash\": [1, 0], \"strokeopacity\": 1.0, \"_order_helper\": 2}, {\"index\": 1, \"x\": 40.0, \"y\": 0.3605551275463992, \"fillcolor\": \"#ff7f0e\", \"id\": 278, \"children_id\": [14, 269], \"cluster_id\": null, \"strokewidth\": 1.0, \"strokedash\": [1, 0], \"strokeopacity\": 1.0, \"_order_helper\": 3}, {\"index\": 2, \"x\": 15.0, \"y\": 0.0, \"fillcolor\": \"#ff7f0e\", \"id\": 285, \"children_id\": [22, 278], \"cluster_id\": null, \"strokewidth\": 1.0, \"strokedash\": [1, 0], \"strokeopacity\": 1.0, \"_order_helper\": 0}, {\"index\": 2, \"x\": 15.0, \"y\": 0.45825756949558394, \"fillcolor\": \"#ff7f0e\", \"id\": 285, \"children_id\": [22, 278], \"cluster_id\": null, \"strokewidth\": 1.0, \"strokedash\": [1, 0], \"strokeopacity\": 1.0, \"_order_helper\": 1}, {\"index\": 2, \"x\": 32.5, \"y\": 0.45825756949558394, \"fillcolor\": \"#ff7f0e\", \"id\": 285, \"children_id\": [22, 278], \"cluster_id\": null, \"strokewidth\": 1.0, \"strokedash\": [1, 0], \"strokeopacity\": 1.0, \"_order_helper\": 2}, {\"index\": 2, \"x\": 32.5, \"y\": 0.412310562561766, \"fillcolor\": \"#ff7f0e\", \"id\": 285, \"children_id\": [22, 278], \"cluster_id\": null, \"strokewidth\": 1.0, \"strokedash\": [1, 0], \"strokeopacity\": 1.0, \"_order_helper\": 3}, {\"index\": 3, \"x\": 5.0, \"y\": 0.0, \"fillcolor\": \"#ff7f0e\", \"id\": 293, \"children_id\": [41, 285], \"cluster_id\": 1.0, \"strokewidth\": 1.0, \"strokedash\": [1, 0], \"strokeopacity\": 1.0, \"_order_helper\": 0}, {\"index\": 3, \"x\": 5.0, \"y\": 0.6244997998398398, \"fillcolor\": \"#ff7f0e\", \"id\": 293, \"children_id\": [41, 285], \"cluster_id\": 1.0, \"strokewidth\": 1.0, \"strokedash\": [1, 0], \"strokeopacity\": 1.0, \"_order_helper\": 1}, {\"index\": 3, \"x\": 23.75, \"y\": 0.6244997998398398, \"fillcolor\": \"#ff7f0e\", \"id\": 293, \"children_id\": [41, 285], \"cluster_id\": 1.0, \"strokewidth\": 1.0, \"strokedash\": [1, 0], \"strokeopacity\": 1.0, \"_order_helper\": 2}, {\"index\": 3, \"x\": 23.75, \"y\": 0.45825756949558394, \"fillcolor\": \"#ff7f0e\", \"id\": 293, \"children_id\": [41, 285], \"cluster_id\": 1.0, \"strokewidth\": 1.0, \"strokedash\": [1, 0], \"strokeopacity\": 1.0, \"_order_helper\": 3}, {\"index\": 4, \"x\": 55.0, \"y\": 0.0, \"fillcolor\": \"#2ca02c\", \"id\": 279, \"children_id\": [117, 131], \"cluster_id\": 2.0, \"strokewidth\": 1.0, \"strokedash\": [1, 0], \"strokeopacity\": 1.0, \"_order_helper\": 0}, {\"index\": 4, \"x\": 55.0, \"y\": 0.4123105625617661, \"fillcolor\": \"#2ca02c\", \"id\": 279, \"children_id\": [117, 131], \"cluster_id\": 2.0, \"strokewidth\": 1.0, \"strokedash\": [1, 0], \"strokeopacity\": 1.0, \"_order_helper\": 1}, {\"index\": 4, \"x\": 65.0, \"y\": 0.4123105625617661, \"fillcolor\": \"#2ca02c\", \"id\": 279, \"children_id\": [117, 131], \"cluster_id\": 2.0, \"strokewidth\": 1.0, \"strokedash\": [1, 0], \"strokeopacity\": 1.0, \"_order_helper\": 2}, {\"index\": 4, \"x\": 65.0, \"y\": 0.0, \"fillcolor\": \"#2ca02c\", \"id\": 279, \"children_id\": [117, 131], \"cluster_id\": 2.0, \"strokewidth\": 1.0, \"strokedash\": [1, 0], \"strokeopacity\": 1.0, \"_order_helper\": 3}, {\"index\": 5, \"x\": 85.0, \"y\": 0.0, \"fillcolor\": \"#ff7f0e\", \"id\": 273, \"children_id\": [98, 265], \"cluster_id\": null, \"strokewidth\": 1.0, \"strokedash\": [1, 0], \"strokeopacity\": 1.0, \"_order_helper\": 0}, {\"index\": 5, \"x\": 85.0, \"y\": 0.3872983346207412, \"fillcolor\": \"#ff7f0e\", \"id\": 273, \"children_id\": [98, 265], \"cluster_id\": null, \"strokewidth\": 1.0, \"strokedash\": [1, 0], \"strokeopacity\": 1.0, \"_order_helper\": 1}, {\"index\": 5, \"x\": 95.0, \"y\": 0.3872983346207412, \"fillcolor\": \"#ff7f0e\", \"id\": 273, \"children_id\": [98, 265], \"cluster_id\": null, \"strokewidth\": 1.0, \"strokedash\": [1, 0], \"strokeopacity\": 1.0, \"_order_helper\": 2}, {\"index\": 5, \"x\": 95.0, \"y\": 0.0, \"fillcolor\": \"#ff7f0e\", \"id\": 273, \"children_id\": [98, 265], \"cluster_id\": null, \"strokewidth\": 1.0, \"strokedash\": [1, 0], \"strokeopacity\": 1.0, \"_order_helper\": 3}, {\"index\": 6, \"x\": 105.0, \"y\": 0.0, \"fillcolor\": \"#ff7f0e\", \"id\": 294, \"children_id\": [109, 292], \"cluster_id\": null, \"strokewidth\": 1.0, \"strokedash\": [1, 0], \"strokeopacity\": 1.0, \"_order_helper\": 0}, {\"index\": 6, \"x\": 105.0, \"y\": 0.6324555320336759, \"fillcolor\": \"#ff7f0e\", \"id\": 294, \"children_id\": [109, 292], \"cluster_id\": null, \"strokewidth\": 1.0, \"strokedash\": [1, 0], \"strokeopacity\": 1.0, \"_order_helper\": 1}, {\"index\": 6, \"x\": 115.0, \"y\": 0.6324555320336759, \"fillcolor\": \"#ff7f0e\", \"id\": 294, \"children_id\": [109, 292], \"cluster_id\": null, \"strokewidth\": 1.0, \"strokedash\": [1, 0], \"strokeopacity\": 1.0, \"_order_helper\": 2}, {\"index\": 6, \"x\": 115.0, \"y\": 0.0, \"fillcolor\": \"#ff7f0e\", \"id\": 294, \"children_id\": [109, 292], \"cluster_id\": null, \"strokewidth\": 1.0, \"strokedash\": [1, 0], \"strokeopacity\": 1.0, \"_order_helper\": 3}, {\"index\": 7, \"x\": 90.0, \"y\": 0.3872983346207412, \"fillcolor\": \"#ff7f0e\", \"id\": 295, \"children_id\": [273, 294], \"cluster_id\": null, \"strokewidth\": 1.0, \"strokedash\": [1, 0], \"strokeopacity\": 1.0, \"_order_helper\": 0}, {\"index\": 7, \"x\": 90.0, \"y\": 0.6480740698407862, \"fillcolor\": \"#ff7f0e\", \"id\": 295, \"children_id\": [273, 294], \"cluster_id\": null, \"strokewidth\": 1.0, \"strokedash\": [1, 0], \"strokeopacity\": 1.0, \"_order_helper\": 1}, {\"index\": 7, \"x\": 110.0, \"y\": 0.6480740698407862, \"fillcolor\": \"#ff7f0e\", \"id\": 295, \"children_id\": [273, 294], \"cluster_id\": null, \"strokewidth\": 1.0, \"strokedash\": [1, 0], \"strokeopacity\": 1.0, \"_order_helper\": 2}, {\"index\": 7, \"x\": 110.0, \"y\": 0.6324555320336759, \"fillcolor\": \"#ff7f0e\", \"id\": 295, \"children_id\": [273, 294], \"cluster_id\": null, \"strokewidth\": 1.0, \"strokedash\": [1, 0], \"strokeopacity\": 1.0, \"_order_helper\": 3}, {\"index\": 8, \"x\": 75.0, \"y\": 0.0, \"fillcolor\": \"#ff7f0e\", \"id\": 296, \"children_id\": [106, 295], \"cluster_id\": 0.0, \"strokewidth\": 1.0, \"strokedash\": [1, 0], \"strokeopacity\": 1.0, \"_order_helper\": 0}, {\"index\": 8, \"x\": 75.0, \"y\": 0.7348469228349535, \"fillcolor\": \"#ff7f0e\", \"id\": 296, \"children_id\": [106, 295], \"cluster_id\": 0.0, \"strokewidth\": 1.0, \"strokedash\": [1, 0], \"strokeopacity\": 1.0, \"_order_helper\": 1}, {\"index\": 8, \"x\": 100.0, \"y\": 0.7348469228349535, \"fillcolor\": \"#ff7f0e\", \"id\": 296, \"children_id\": [106, 295], \"cluster_id\": 0.0, \"strokewidth\": 1.0, \"strokedash\": [1, 0], \"strokeopacity\": 1.0, \"_order_helper\": 2}, {\"index\": 8, \"x\": 100.0, \"y\": 0.6480740698407862, \"fillcolor\": \"#ff7f0e\", \"id\": 296, \"children_id\": [106, 295], \"cluster_id\": 0.0, \"strokewidth\": 1.0, \"strokedash\": [1, 0], \"strokeopacity\": 1.0, \"_order_helper\": 3}, {\"index\": 9, \"x\": 60.0, \"y\": 0.4123105625617661, \"fillcolor\": \"#1f77b4\", \"id\": 297, \"children_id\": [279, 296], \"cluster_id\": null, \"strokewidth\": 1.0, \"strokedash\": [1, 0], \"strokeopacity\": 1.0, \"_order_helper\": 0}, {\"index\": 9, \"x\": 60.0, \"y\": 0.818535277187245, \"fillcolor\": \"#1f77b4\", \"id\": 297, \"children_id\": [279, 296], \"cluster_id\": null, \"strokewidth\": 1.0, \"strokedash\": [1, 0], \"strokeopacity\": 1.0, \"_order_helper\": 1}, {\"index\": 9, \"x\": 87.5, \"y\": 0.818535277187245, \"fillcolor\": \"#1f77b4\", \"id\": 297, \"children_id\": [279, 296], \"cluster_id\": null, \"strokewidth\": 1.0, \"strokedash\": [1, 0], \"strokeopacity\": 1.0, \"_order_helper\": 2}, {\"index\": 9, \"x\": 87.5, \"y\": 0.7348469228349535, \"fillcolor\": \"#1f77b4\", \"id\": 297, \"children_id\": [279, 296], \"cluster_id\": null, \"strokewidth\": 1.0, \"strokedash\": [1, 0], \"strokeopacity\": 1.0, \"_order_helper\": 3}, {\"index\": 10, \"x\": 14.375, \"y\": 0.6244997998398398, \"fillcolor\": \"#1f77b4\", \"id\": 298, \"children_id\": [293, 297], \"cluster_id\": null, \"strokewidth\": 1.0, \"strokedash\": [1, 0], \"strokeopacity\": 1.0, \"_order_helper\": 0}, {\"index\": 10, \"x\": 14.375, \"y\": 1.6401219466856727, \"fillcolor\": \"#1f77b4\", \"id\": 298, \"children_id\": [293, 297], \"cluster_id\": null, \"strokewidth\": 1.0, \"strokedash\": [1, 0], \"strokeopacity\": 1.0, \"_order_helper\": 1}, {\"index\": 10, \"x\": 73.75, \"y\": 1.6401219466856727, \"fillcolor\": \"#1f77b4\", \"id\": 298, \"children_id\": [293, 297], \"cluster_id\": null, \"strokewidth\": 1.0, \"strokedash\": [1, 0], \"strokeopacity\": 1.0, \"_order_helper\": 2}, {\"index\": 10, \"x\": 73.75, \"y\": 0.818535277187245, \"fillcolor\": \"#1f77b4\", \"id\": 298, \"children_id\": [293, 297], \"cluster_id\": null, \"strokewidth\": 1.0, \"strokedash\": [1, 0], \"strokeopacity\": 1.0, \"_order_helper\": 3}], \"data-6454fffd9318ddbd552e37d7ec24b22d\": [{\"x\": 5.0, \"y\": 0.0, \"type\": \"leaf\", \"id\": 41, \"cluster_id\": null, \"edgecolor\": \"#ff7f0e\", \"label\": \"\", \"hovertext\": {\"# of items\": \"1\", \"linkage id\": 41}, \"fillcolor\": \"#ff7f0e\", \"radius\": 4.0, \"opacity\": 1.0, \"labelsize\": 10.0, \"labelcolor\": \"#fff\", \"_default_leaf_radius\": 4.0, \"_default_leaf_radius_if_cluster\": 7.0, \"size\": 50.26548245743669}, {\"x\": 15.0, \"y\": 0.0, \"type\": \"leaf\", \"id\": 22, \"cluster_id\": null, \"edgecolor\": \"#ff7f0e\", \"label\": \"\", \"hovertext\": {\"# of items\": \"1\", \"linkage id\": 22}, \"fillcolor\": \"#ff7f0e\", \"radius\": 4.0, \"opacity\": 1.0, \"labelsize\": 10.0, \"labelcolor\": \"#fff\", \"_default_leaf_radius\": 4.0, \"_default_leaf_radius_if_cluster\": 7.0, \"size\": 50.26548245743669}, {\"x\": 25.0, \"y\": 0.0, \"type\": \"leaf\", \"id\": 14, \"cluster_id\": null, \"edgecolor\": \"#ff7f0e\", \"label\": \"\", \"hovertext\": {\"# of items\": \"1\", \"linkage id\": 14}, \"fillcolor\": \"#ff7f0e\", \"radius\": 4.0, \"opacity\": 1.0, \"labelsize\": 10.0, \"labelcolor\": \"#fff\", \"_default_leaf_radius\": 4.0, \"_default_leaf_radius_if_cluster\": 7.0, \"size\": 50.26548245743669}, {\"x\": 35.0, \"y\": 0.0, \"type\": \"leaf\", \"id\": 15, \"cluster_id\": null, \"edgecolor\": \"#ff7f0e\", \"label\": \"\", \"hovertext\": {\"# of items\": \"1\", \"linkage id\": 15}, \"fillcolor\": \"#ff7f0e\", \"radius\": 4.0, \"opacity\": 1.0, \"labelsize\": 10.0, \"labelcolor\": \"#fff\", \"_default_leaf_radius\": 4.0, \"_default_leaf_radius_if_cluster\": 7.0, \"size\": 50.26548245743669}, {\"x\": 45.0, \"y\": 0.0, \"type\": \"leaf\", \"id\": 263, \"cluster_id\": null, \"edgecolor\": \"#ff7f0e\", \"label\": \"\", \"hovertext\": {\"# of items\": \"46\", \"linkage id\": 263}, \"fillcolor\": \"#ff7f0e\", \"radius\": 4.0, \"opacity\": 1.0, \"labelsize\": 10.0, \"labelcolor\": \"#fff\", \"_default_leaf_radius\": 4.0, \"_default_leaf_radius_if_cluster\": 7.0, \"size\": 50.26548245743669}, {\"x\": 55.0, \"y\": 0.0, \"type\": \"leaf\", \"id\": 117, \"cluster_id\": null, \"edgecolor\": \"#2ca02c\", \"label\": \"\", \"hovertext\": {\"# of items\": \"1\", \"linkage id\": 117}, \"fillcolor\": \"#2ca02c\", \"radius\": 4.0, \"opacity\": 1.0, \"labelsize\": 10.0, \"labelcolor\": \"#fff\", \"_default_leaf_radius\": 4.0, \"_default_leaf_radius_if_cluster\": 7.0, \"size\": 50.26548245743669}, {\"x\": 65.0, \"y\": 0.0, \"type\": \"leaf\", \"id\": 131, \"cluster_id\": null, \"edgecolor\": \"#2ca02c\", \"label\": \"\", \"hovertext\": {\"# of items\": \"1\", \"linkage id\": 131}, \"fillcolor\": \"#2ca02c\", \"radius\": 4.0, \"opacity\": 1.0, \"labelsize\": 10.0, \"labelcolor\": \"#fff\", \"_default_leaf_radius\": 4.0, \"_default_leaf_radius_if_cluster\": 7.0, \"size\": 50.26548245743669}, {\"x\": 75.0, \"y\": 0.0, \"type\": \"leaf\", \"id\": 106, \"cluster_id\": null, \"edgecolor\": \"#ff7f0e\", \"label\": \"\", \"hovertext\": {\"# of items\": \"1\", \"linkage id\": 106}, \"fillcolor\": \"#ff7f0e\", \"radius\": 4.0, \"opacity\": 1.0, \"labelsize\": 10.0, \"labelcolor\": \"#fff\", \"_default_leaf_radius\": 4.0, \"_default_leaf_radius_if_cluster\": 7.0, \"size\": 50.26548245743669}, {\"x\": 85.0, \"y\": 0.0, \"type\": \"leaf\", \"id\": 98, \"cluster_id\": null, \"edgecolor\": \"#ff7f0e\", \"label\": \"\", \"hovertext\": {\"# of items\": \"1\", \"linkage id\": 98}, \"fillcolor\": \"#ff7f0e\", \"radius\": 4.0, \"opacity\": 1.0, \"labelsize\": 10.0, \"labelcolor\": \"#fff\", \"_default_leaf_radius\": 4.0, \"_default_leaf_radius_if_cluster\": 7.0, \"size\": 50.26548245743669}, {\"x\": 95.0, \"y\": 0.0, \"type\": \"leaf\", \"id\": 265, \"cluster_id\": null, \"edgecolor\": \"#ff7f0e\", \"label\": \"\", \"hovertext\": {\"# of items\": \"3\", \"linkage id\": 265}, \"fillcolor\": \"#ff7f0e\", \"radius\": 4.0, \"opacity\": 1.0, \"labelsize\": 10.0, \"labelcolor\": \"#fff\", \"_default_leaf_radius\": 4.0, \"_default_leaf_radius_if_cluster\": 7.0, \"size\": 50.26548245743669}, {\"x\": 105.0, \"y\": 0.0, \"type\": \"leaf\", \"id\": 109, \"cluster_id\": null, \"edgecolor\": \"#ff7f0e\", \"label\": \"\", \"hovertext\": {\"# of items\": \"1\", \"linkage id\": 109}, \"fillcolor\": \"#ff7f0e\", \"radius\": 4.0, \"opacity\": 1.0, \"labelsize\": 10.0, \"labelcolor\": \"#fff\", \"_default_leaf_radius\": 4.0, \"_default_leaf_radius_if_cluster\": 7.0, \"size\": 50.26548245743669}, {\"x\": 115.0, \"y\": 0.0, \"type\": \"leaf\", \"id\": 292, \"cluster_id\": null, \"edgecolor\": \"#ff7f0e\", \"label\": \"\", \"hovertext\": {\"# of items\": \"92\", \"linkage id\": 292}, \"fillcolor\": \"#ff7f0e\", \"radius\": 4.0, \"opacity\": 1.0, \"labelsize\": 10.0, \"labelcolor\": \"#fff\", \"_default_leaf_radius\": 4.0, \"_default_leaf_radius_if_cluster\": 7.0, \"size\": 50.26548245743669}, {\"x\": 40.0, \"y\": 0.3605551275463992, \"type\": \"subcluster\", \"id\": 269, \"cluster_id\": null, \"edgecolor\": \"#ff7f0e\", \"label\": \"\", \"hovertext\": {\"# of items\": \"47\", \"linkage id\": 269}, \"fillcolor\": \"#fff\", \"radius\": 7.0, \"opacity\": 1.0, \"labelsize\": 10.0, \"labelcolor\": \"#fff\", \"_default_leaf_radius\": 4.0, \"_default_leaf_radius_if_cluster\": 7.0, \"size\": 153.93804002589985}, {\"x\": 32.5, \"y\": 0.412310562561766, \"type\": \"subcluster\", \"id\": 278, \"cluster_id\": null, \"edgecolor\": \"#ff7f0e\", \"label\": \"\", \"hovertext\": {\"# of items\": \"48\", \"linkage id\": 278}, \"fillcolor\": \"#fff\", \"radius\": 7.0, \"opacity\": 1.0, \"labelsize\": 10.0, \"labelcolor\": \"#fff\", \"_default_leaf_radius\": 4.0, \"_default_leaf_radius_if_cluster\": 7.0, \"size\": 153.93804002589985}, {\"x\": 23.75, \"y\": 0.45825756949558394, \"type\": \"subcluster\", \"id\": 285, \"cluster_id\": null, \"edgecolor\": \"#ff7f0e\", \"label\": \"\", \"hovertext\": {\"# of items\": \"49\", \"linkage id\": 285}, \"fillcolor\": \"#fff\", \"radius\": 7.0, \"opacity\": 1.0, \"labelsize\": 10.0, \"labelcolor\": \"#fff\", \"_default_leaf_radius\": 4.0, \"_default_leaf_radius_if_cluster\": 7.0, \"size\": 153.93804002589985}, {\"x\": 14.375, \"y\": 0.6244997998398398, \"type\": \"cluster\", \"id\": 293, \"cluster_id\": 1.0, \"edgecolor\": \"#ff7f0e\", \"label\": \"1\", \"hovertext\": {\"# of items\": \"50\", \"linkage id\": 293}, \"fillcolor\": \"#ff7f0e\", \"radius\": 7.0, \"opacity\": 1.0, \"labelsize\": 10.0, \"labelcolor\": \"#fff\", \"_default_leaf_radius\": 4.0, \"_default_leaf_radius_if_cluster\": 7.0, \"size\": 153.93804002589985}, {\"x\": 60.0, \"y\": 0.4123105625617661, \"type\": \"cluster\", \"id\": 279, \"cluster_id\": 2.0, \"edgecolor\": \"#2ca02c\", \"label\": \"2\", \"hovertext\": {\"# of items\": \"2\", \"linkage id\": 279}, \"fillcolor\": \"#2ca02c\", \"radius\": 7.0, \"opacity\": 1.0, \"labelsize\": 10.0, \"labelcolor\": \"#fff\", \"_default_leaf_radius\": 4.0, \"_default_leaf_radius_if_cluster\": 7.0, \"size\": 153.93804002589985}, {\"x\": 90.0, \"y\": 0.3872983346207412, \"type\": \"subcluster\", \"id\": 273, \"cluster_id\": null, \"edgecolor\": \"#ff7f0e\", \"label\": \"\", \"hovertext\": {\"# of items\": \"4\", \"linkage id\": 273}, \"fillcolor\": \"#fff\", \"radius\": 7.0, \"opacity\": 1.0, \"labelsize\": 10.0, \"labelcolor\": \"#fff\", \"_default_leaf_radius\": 4.0, \"_default_leaf_radius_if_cluster\": 7.0, \"size\": 153.93804002589985}, {\"x\": 110.0, \"y\": 0.6324555320336759, \"type\": \"subcluster\", \"id\": 294, \"cluster_id\": null, \"edgecolor\": \"#ff7f0e\", \"label\": \"\", \"hovertext\": {\"# of items\": \"93\", \"linkage id\": 294}, \"fillcolor\": \"#fff\", \"radius\": 7.0, \"opacity\": 1.0, \"labelsize\": 10.0, \"labelcolor\": \"#fff\", \"_default_leaf_radius\": 4.0, \"_default_leaf_radius_if_cluster\": 7.0, \"size\": 153.93804002589985}, {\"x\": 100.0, \"y\": 0.6480740698407862, \"type\": \"subcluster\", \"id\": 295, \"cluster_id\": null, \"edgecolor\": \"#ff7f0e\", \"label\": \"\", \"hovertext\": {\"# of items\": \"97\", \"linkage id\": 295}, \"fillcolor\": \"#fff\", \"radius\": 7.0, \"opacity\": 1.0, \"labelsize\": 10.0, \"labelcolor\": \"#fff\", \"_default_leaf_radius\": 4.0, \"_default_leaf_radius_if_cluster\": 7.0, \"size\": 153.93804002589985}, {\"x\": 87.5, \"y\": 0.7348469228349535, \"type\": \"cluster\", \"id\": 296, \"cluster_id\": 0.0, \"edgecolor\": \"#ff7f0e\", \"label\": \"0\", \"hovertext\": {\"# of items\": \"98\", \"linkage id\": 296}, \"fillcolor\": \"#ff7f0e\", \"radius\": 7.0, \"opacity\": 1.0, \"labelsize\": 10.0, \"labelcolor\": \"#fff\", \"_default_leaf_radius\": 4.0, \"_default_leaf_radius_if_cluster\": 7.0, \"size\": 153.93804002589985}, {\"x\": 73.75, \"y\": 0.818535277187245, \"type\": \"supercluster\", \"id\": 297, \"cluster_id\": null, \"edgecolor\": \"#1f77b4\", \"label\": \"\", \"hovertext\": {\"# of items\": \"100\", \"linkage id\": 297}, \"fillcolor\": \"#1f77b4\", \"radius\": 7.0, \"opacity\": 1.0, \"labelsize\": 10.0, \"labelcolor\": \"#fff\", \"_default_leaf_radius\": 4.0, \"_default_leaf_radius_if_cluster\": 7.0, \"size\": 153.93804002589985}, {\"x\": 44.0625, \"y\": 1.6401219466856727, \"type\": \"supercluster\", \"id\": 298, \"cluster_id\": null, \"edgecolor\": \"#1f77b4\", \"label\": \"\", \"hovertext\": {\"# of items\": \"150\", \"linkage id\": 298}, \"fillcolor\": \"#1f77b4\", \"radius\": 7.0, \"opacity\": 1.0, \"labelsize\": 10.0, \"labelcolor\": \"#fff\", \"_default_leaf_radius\": 4.0, \"_default_leaf_radius_if_cluster\": 7.0, \"size\": 153.93804002589985}]}}, {\"mode\": \"vega-lite\"});\n",
       "</script>"
      ],
      "text/plain": [
       "alt.LayerChart(...)"
      ]
     },
     "metadata": {},
     "output_type": "display_data"
    }
   ],
   "source": [
    "from sklearn.cluster import AgglomerativeClustering\n",
    "from sklearn.datasets import load_iris\n",
    "import idendro\n",
    "\n",
    "data = load_iris(as_frame=True)\n",
    "\n",
    "# do the usual scikit-learn hierarchical clustering\n",
    "model = AgglomerativeClustering(\n",
    "    distance_threshold=0.8,\n",
    "    linkage='single',\n",
    "    n_clusters=None\n",
    ").fit(data['data'])\n",
    "\n",
    "#pass it to idendro and visualize\n",
    "idd = idendro.IDendro()\n",
    "idd.set_cluster_info(idendro.ScikitLearnClusteringData(model))\n",
    "\n",
    "idd.create_dendrogram().plot(\n",
    "    backend='altair',\n",
    "    height=200, width=629\n",
    ")"
   ]
  },
  {
   "attachments": {},
   "cell_type": "markdown",
   "metadata": {},
   "source": [
    "### HDBSCAN\n",
    "\n",
    "IDendro can visualize [HDBSCAN](https://hdbscan.readthedocs.io/) clustering results, too. Wrap the HDBSCAN model object with `idendro.HDBSCANClusteringData` before passing it as clustering information. The model object is available via `cluster_data.get_model()` function in all callback functions (see case studies for ideas on how it can be leveraged)."
   ]
  },
  {
   "cell_type": "code",
   "execution_count": null,
   "metadata": {},
   "outputs": [
    {
     "data": {
      "text/html": [
       "\n",
       "<div id=\"altair-viz-12d2dac50b86436a8fa37e92ba40eb62\"></div>\n",
       "<script type=\"text/javascript\">\n",
       "  var VEGA_DEBUG = (typeof VEGA_DEBUG == \"undefined\") ? {} : VEGA_DEBUG;\n",
       "  (function(spec, embedOpt){\n",
       "    let outputDiv = document.currentScript.previousElementSibling;\n",
       "    if (outputDiv.id !== \"altair-viz-12d2dac50b86436a8fa37e92ba40eb62\") {\n",
       "      outputDiv = document.getElementById(\"altair-viz-12d2dac50b86436a8fa37e92ba40eb62\");\n",
       "    }\n",
       "    const paths = {\n",
       "      \"vega\": \"https://cdn.jsdelivr.net/npm//vega@5?noext\",\n",
       "      \"vega-lib\": \"https://cdn.jsdelivr.net/npm//vega-lib?noext\",\n",
       "      \"vega-lite\": \"https://cdn.jsdelivr.net/npm//vega-lite@4.17.0?noext\",\n",
       "      \"vega-embed\": \"https://cdn.jsdelivr.net/npm//vega-embed@6?noext\",\n",
       "    };\n",
       "\n",
       "    function maybeLoadScript(lib, version) {\n",
       "      var key = `${lib.replace(\"-\", \"\")}_version`;\n",
       "      return (VEGA_DEBUG[key] == version) ?\n",
       "        Promise.resolve(paths[lib]) :\n",
       "        new Promise(function(resolve, reject) {\n",
       "          var s = document.createElement('script');\n",
       "          document.getElementsByTagName(\"head\")[0].appendChild(s);\n",
       "          s.async = true;\n",
       "          s.onload = () => {\n",
       "            VEGA_DEBUG[key] = version;\n",
       "            return resolve(paths[lib]);\n",
       "          };\n",
       "          s.onerror = () => reject(`Error loading script: ${paths[lib]}`);\n",
       "          s.src = paths[lib];\n",
       "        });\n",
       "    }\n",
       "\n",
       "    function showError(err) {\n",
       "      outputDiv.innerHTML = `<div class=\"error\" style=\"color:red;\">${err}</div>`;\n",
       "      throw err;\n",
       "    }\n",
       "\n",
       "    function displayChart(vegaEmbed) {\n",
       "      vegaEmbed(outputDiv, spec, embedOpt)\n",
       "        .catch(err => showError(`Javascript Error: ${err.message}<br>This usually means there's a typo in your chart specification. See the javascript console for the full traceback.`));\n",
       "    }\n",
       "\n",
       "    if(typeof define === \"function\" && define.amd) {\n",
       "      requirejs.config({paths});\n",
       "      require([\"vega-embed\"], displayChart, err => showError(`Error loading script: ${err.message}`));\n",
       "    } else {\n",
       "      maybeLoadScript(\"vega\", \"5\")\n",
       "        .then(() => maybeLoadScript(\"vega-lite\", \"4.17.0\"))\n",
       "        .then(() => maybeLoadScript(\"vega-embed\", \"6\"))\n",
       "        .catch(showError)\n",
       "        .then(() => displayChart(vegaEmbed));\n",
       "    }\n",
       "  })({\"layer\": [{\"data\": {\"name\": \"data-7b01ad3da9adccd815aced4573f7af1b\"}, \"mark\": \"line\", \"encoding\": {\"color\": {\"field\": \"fillcolor\", \"legend\": null, \"scale\": null, \"type\": \"nominal\"}, \"detail\": {\"field\": \"index\", \"type\": \"quantitative\"}, \"order\": {\"field\": \"_order_helper\", \"type\": \"quantitative\"}, \"strokeDash\": {\"field\": \"strokedash\", \"legend\": null, \"scale\": null, \"type\": \"nominal\"}, \"strokeOpacity\": {\"field\": \"strokeopacity\", \"legend\": null, \"scale\": null, \"type\": \"quantitative\"}, \"strokeWidth\": {\"field\": \"strokewidth\", \"legend\": null, \"scale\": null, \"type\": \"quantitative\"}, \"x\": {\"axis\": {\"grid\": false, \"labelAngle\": 0, \"labelExpr\": \"datum.value == 5.0 ? '1' : datum.value == 15.0 ? '1' : datum.value == 25.0 ? '1' : datum.value == 35.0 ? '1' : datum.value == 45.0 ? '46' : datum.value == 55.0 ? '1' : datum.value == 65.0 ? '1' : datum.value == 75.0 ? '1' : datum.value == 85.0 ? '1' : datum.value == 95.0 ? '96' : ''\", \"labelPadding\": 10, \"orient\": \"bottom\", \"ticks\": false, \"values\": [5.0, 15.0, 25.0, 35.0, 45.0, 55.0, 65.0, 75.0, 85.0, 95.0]}, \"field\": \"x\", \"title\": null, \"type\": \"quantitative\"}, \"y\": {\"axis\": {\"grid\": false}, \"field\": \"y\", \"scale\": {\"reverse\": false, \"type\": \"linear\"}, \"title\": null, \"type\": \"quantitative\"}}}, {\"layer\": [{\"layer\": [{\"mark\": \"point\", \"encoding\": {\"fill\": {\"field\": \"fillcolor\", \"scale\": null, \"type\": \"nominal\"}, \"opacity\": {\"field\": \"opacity\", \"scale\": null, \"type\": \"quantitative\"}, \"size\": {\"field\": \"size\", \"scale\": null, \"type\": \"quantitative\"}, \"stroke\": {\"field\": \"edgecolor\", \"scale\": null, \"type\": \"nominal\"}, \"tooltip\": {\"field\": \"hovertext\", \"type\": \"nominal\"}, \"x\": {\"axis\": {\"grid\": false, \"labelAngle\": 0, \"labelExpr\": \"datum.value == 5.0 ? '1' : datum.value == 15.0 ? '1' : datum.value == 25.0 ? '1' : datum.value == 35.0 ? '1' : datum.value == 45.0 ? '46' : datum.value == 55.0 ? '1' : datum.value == 65.0 ? '1' : datum.value == 75.0 ? '1' : datum.value == 85.0 ? '1' : datum.value == 95.0 ? '96' : ''\", \"labelPadding\": 10, \"orient\": \"bottom\", \"ticks\": false, \"values\": [5.0, 15.0, 25.0, 35.0, 45.0, 55.0, 65.0, 75.0, 85.0, 95.0]}, \"field\": \"x\", \"title\": null, \"type\": \"quantitative\"}, \"y\": {\"axis\": {\"grid\": false}, \"field\": \"y\", \"scale\": {\"reverse\": false, \"type\": \"linear\"}, \"title\": null, \"type\": \"quantitative\"}}}, {\"mark\": {\"type\": \"text\", \"fontWeight\": \"bold\"}, \"encoding\": {\"color\": {\"field\": \"labelcolor\", \"scale\": null, \"type\": \"nominal\"}, \"size\": {\"field\": \"labelsize\", \"scale\": null, \"type\": \"quantitative\"}, \"text\": {\"field\": \"label\", \"type\": \"nominal\"}, \"tooltip\": {\"field\": \"hovertext\", \"type\": \"nominal\"}, \"x\": {\"axis\": {\"grid\": false, \"labelAngle\": 0, \"labelExpr\": \"datum.value == 5.0 ? '1' : datum.value == 15.0 ? '1' : datum.value == 25.0 ? '1' : datum.value == 35.0 ? '1' : datum.value == 45.0 ? '46' : datum.value == 55.0 ? '1' : datum.value == 65.0 ? '1' : datum.value == 75.0 ? '1' : datum.value == 85.0 ? '1' : datum.value == 95.0 ? '96' : ''\", \"labelPadding\": 10, \"orient\": \"bottom\", \"ticks\": false, \"values\": [5.0, 15.0, 25.0, 35.0, 45.0, 55.0, 65.0, 75.0, 85.0, 95.0]}, \"field\": \"x\", \"title\": null, \"type\": \"quantitative\"}, \"y\": {\"axis\": {\"grid\": false}, \"field\": \"y\", \"scale\": {\"reverse\": false, \"type\": \"linear\"}, \"title\": null, \"type\": \"quantitative\"}}}]}], \"data\": {\"name\": \"data-4855630e76484fecf13a5d0c65102b60\"}}], \"height\": 200, \"width\": 550, \"$schema\": \"https://vega.github.io/schema/vega-lite/v4.17.0.json\", \"datasets\": {\"data-7b01ad3da9adccd815aced4573f7af1b\": [{\"index\": 0, \"x\": 35.0, \"y\": 0.0, \"fillcolor\": \"#ff7f0e\", \"id\": 267, \"children_id\": [22, 263], \"cluster_id\": null, \"strokewidth\": 1.0, \"strokedash\": [1, 0], \"strokeopacity\": 1.0, \"_order_helper\": 0}, {\"index\": 0, \"x\": 35.0, \"y\": 0.53851648071345, \"fillcolor\": \"#ff7f0e\", \"id\": 267, \"children_id\": [22, 263], \"cluster_id\": null, \"strokewidth\": 1.0, \"strokedash\": [1, 0], \"strokeopacity\": 1.0, \"_order_helper\": 1}, {\"index\": 0, \"x\": 45.0, \"y\": 0.53851648071345, \"fillcolor\": \"#ff7f0e\", \"id\": 267, \"children_id\": [22, 263], \"cluster_id\": null, \"strokewidth\": 1.0, \"strokedash\": [1, 0], \"strokeopacity\": 1.0, \"_order_helper\": 2}, {\"index\": 0, \"x\": 45.0, \"y\": 0.0, \"fillcolor\": \"#ff7f0e\", \"id\": 267, \"children_id\": [22, 263], \"cluster_id\": null, \"strokewidth\": 1.0, \"strokedash\": [1, 0], \"strokeopacity\": 1.0, \"_order_helper\": 3}, {\"index\": 1, \"x\": 25.0, \"y\": 0.0, \"fillcolor\": \"#ff7f0e\", \"id\": 272, \"children_id\": [14, 267], \"cluster_id\": null, \"strokewidth\": 1.0, \"strokedash\": [1, 0], \"strokeopacity\": 1.0, \"_order_helper\": 0}, {\"index\": 1, \"x\": 25.0, \"y\": 0.5830951894845297, \"fillcolor\": \"#ff7f0e\", \"id\": 272, \"children_id\": [14, 267], \"cluster_id\": null, \"strokewidth\": 1.0, \"strokedash\": [1, 0], \"strokeopacity\": 1.0, \"_order_helper\": 1}, {\"index\": 1, \"x\": 40.0, \"y\": 0.5830951894845297, \"fillcolor\": \"#ff7f0e\", \"id\": 272, \"children_id\": [14, 267], \"cluster_id\": null, \"strokewidth\": 1.0, \"strokedash\": [1, 0], \"strokeopacity\": 1.0, \"_order_helper\": 2}, {\"index\": 1, \"x\": 40.0, \"y\": 0.53851648071345, \"fillcolor\": \"#ff7f0e\", \"id\": 272, \"children_id\": [14, 267], \"cluster_id\": null, \"strokewidth\": 1.0, \"strokedash\": [1, 0], \"strokeopacity\": 1.0, \"_order_helper\": 3}, {\"index\": 2, \"x\": 15.0, \"y\": 0.0, \"fillcolor\": \"#ff7f0e\", \"id\": 280, \"children_id\": [15, 272], \"cluster_id\": null, \"strokewidth\": 1.0, \"strokedash\": [1, 0], \"strokeopacity\": 1.0, \"_order_helper\": 0}, {\"index\": 2, \"x\": 15.0, \"y\": 0.6403124237432853, \"fillcolor\": \"#ff7f0e\", \"id\": 280, \"children_id\": [15, 272], \"cluster_id\": null, \"strokewidth\": 1.0, \"strokedash\": [1, 0], \"strokeopacity\": 1.0, \"_order_helper\": 1}, {\"index\": 2, \"x\": 32.5, \"y\": 0.6403124237432853, \"fillcolor\": \"#ff7f0e\", \"id\": 280, \"children_id\": [15, 272], \"cluster_id\": null, \"strokewidth\": 1.0, \"strokedash\": [1, 0], \"strokeopacity\": 1.0, \"_order_helper\": 2}, {\"index\": 2, \"x\": 32.5, \"y\": 0.5830951894845297, \"fillcolor\": \"#ff7f0e\", \"id\": 280, \"children_id\": [15, 272], \"cluster_id\": null, \"strokewidth\": 1.0, \"strokedash\": [1, 0], \"strokeopacity\": 1.0, \"_order_helper\": 3}, {\"index\": 3, \"x\": 5.0, \"y\": 0.0, \"fillcolor\": \"#ff7f0e\", \"id\": 291, \"children_id\": [41, 280], \"cluster_id\": 0.0, \"strokewidth\": 1.0, \"strokedash\": [1, 0], \"strokeopacity\": 1.0, \"_order_helper\": 0}, {\"index\": 3, \"x\": 5.0, \"y\": 0.7937253933193773, \"fillcolor\": \"#ff7f0e\", \"id\": 291, \"children_id\": [41, 280], \"cluster_id\": 0.0, \"strokewidth\": 1.0, \"strokedash\": [1, 0], \"strokeopacity\": 1.0, \"_order_helper\": 1}, {\"index\": 3, \"x\": 23.75, \"y\": 0.7937253933193773, \"fillcolor\": \"#ff7f0e\", \"id\": 291, \"children_id\": [41, 280], \"cluster_id\": 0.0, \"strokewidth\": 1.0, \"strokedash\": [1, 0], \"strokeopacity\": 1.0, \"_order_helper\": 2}, {\"index\": 3, \"x\": 23.75, \"y\": 0.6403124237432853, \"fillcolor\": \"#ff7f0e\", \"id\": 291, \"children_id\": [41, 280], \"cluster_id\": 0.0, \"strokewidth\": 1.0, \"strokedash\": [1, 0], \"strokeopacity\": 1.0, \"_order_helper\": 3}, {\"index\": 4, \"x\": 85.0, \"y\": 0.0, \"fillcolor\": \"#ff7f0e\", \"id\": 294, \"children_id\": [106, 293], \"cluster_id\": null, \"strokewidth\": 1.0, \"strokedash\": [1, 0], \"strokeopacity\": 1.0, \"_order_helper\": 0}, {\"index\": 4, \"x\": 85.0, \"y\": 0.883176086632784, \"fillcolor\": \"#ff7f0e\", \"id\": 294, \"children_id\": [106, 293], \"cluster_id\": null, \"strokewidth\": 1.0, \"strokedash\": [1, 0], \"strokeopacity\": 1.0, \"_order_helper\": 1}, {\"index\": 4, \"x\": 95.0, \"y\": 0.883176086632784, \"fillcolor\": \"#ff7f0e\", \"id\": 294, \"children_id\": [106, 293], \"cluster_id\": null, \"strokewidth\": 1.0, \"strokedash\": [1, 0], \"strokeopacity\": 1.0, \"_order_helper\": 2}, {\"index\": 4, \"x\": 95.0, \"y\": 0.0, \"fillcolor\": \"#ff7f0e\", \"id\": 294, \"children_id\": [106, 293], \"cluster_id\": null, \"strokewidth\": 1.0, \"strokedash\": [1, 0], \"strokeopacity\": 1.0, \"_order_helper\": 3}, {\"index\": 5, \"x\": 75.0, \"y\": 0.0, \"fillcolor\": \"#ff7f0e\", \"id\": 295, \"children_id\": [118, 294], \"cluster_id\": null, \"strokewidth\": 1.0, \"strokedash\": [1, 0], \"strokeopacity\": 1.0, \"_order_helper\": 0}, {\"index\": 5, \"x\": 75.0, \"y\": 0.9643650760992959, \"fillcolor\": \"#ff7f0e\", \"id\": 295, \"children_id\": [118, 294], \"cluster_id\": null, \"strokewidth\": 1.0, \"strokedash\": [1, 0], \"strokeopacity\": 1.0, \"_order_helper\": 1}, {\"index\": 5, \"x\": 90.0, \"y\": 0.9643650760992959, \"fillcolor\": \"#ff7f0e\", \"id\": 295, \"children_id\": [118, 294], \"cluster_id\": null, \"strokewidth\": 1.0, \"strokedash\": [1, 0], \"strokeopacity\": 1.0, \"_order_helper\": 2}, {\"index\": 5, \"x\": 90.0, \"y\": 0.883176086632784, \"fillcolor\": \"#ff7f0e\", \"id\": 295, \"children_id\": [118, 294], \"cluster_id\": null, \"strokewidth\": 1.0, \"strokedash\": [1, 0], \"strokeopacity\": 1.0, \"_order_helper\": 3}, {\"index\": 6, \"x\": 65.0, \"y\": 0.0, \"fillcolor\": \"#ff7f0e\", \"id\": 296, \"children_id\": [117, 295], \"cluster_id\": null, \"strokewidth\": 1.0, \"strokedash\": [1, 0], \"strokeopacity\": 1.0, \"_order_helper\": 0}, {\"index\": 6, \"x\": 65.0, \"y\": 1.019803902718557, \"fillcolor\": \"#ff7f0e\", \"id\": 296, \"children_id\": [117, 295], \"cluster_id\": null, \"strokewidth\": 1.0, \"strokedash\": [1, 0], \"strokeopacity\": 1.0, \"_order_helper\": 1}, {\"index\": 6, \"x\": 82.5, \"y\": 1.019803902718557, \"fillcolor\": \"#ff7f0e\", \"id\": 296, \"children_id\": [117, 295], \"cluster_id\": null, \"strokewidth\": 1.0, \"strokedash\": [1, 0], \"strokeopacity\": 1.0, \"_order_helper\": 2}, {\"index\": 6, \"x\": 82.5, \"y\": 0.9643650760992959, \"fillcolor\": \"#ff7f0e\", \"id\": 296, \"children_id\": [117, 295], \"cluster_id\": null, \"strokewidth\": 1.0, \"strokedash\": [1, 0], \"strokeopacity\": 1.0, \"_order_helper\": 3}, {\"index\": 7, \"x\": 55.0, \"y\": 0.0, \"fillcolor\": \"#ff7f0e\", \"id\": 297, \"children_id\": [131, 296], \"cluster_id\": 1.0, \"strokewidth\": 1.0, \"strokedash\": [1, 0], \"strokeopacity\": 1.0, \"_order_helper\": 0}, {\"index\": 7, \"x\": 55.0, \"y\": 1.02469507659596, \"fillcolor\": \"#ff7f0e\", \"id\": 297, \"children_id\": [131, 296], \"cluster_id\": 1.0, \"strokewidth\": 1.0, \"strokedash\": [1, 0], \"strokeopacity\": 1.0, \"_order_helper\": 1}, {\"index\": 7, \"x\": 73.75, \"y\": 1.02469507659596, \"fillcolor\": \"#ff7f0e\", \"id\": 297, \"children_id\": [131, 296], \"cluster_id\": 1.0, \"strokewidth\": 1.0, \"strokedash\": [1, 0], \"strokeopacity\": 1.0, \"_order_helper\": 2}, {\"index\": 7, \"x\": 73.75, \"y\": 1.019803902718557, \"fillcolor\": \"#ff7f0e\", \"id\": 297, \"children_id\": [131, 296], \"cluster_id\": 1.0, \"strokewidth\": 1.0, \"strokedash\": [1, 0], \"strokeopacity\": 1.0, \"_order_helper\": 3}, {\"index\": 8, \"x\": 14.375, \"y\": 0.7937253933193773, \"fillcolor\": \"#1f77b4\", \"id\": 298, \"children_id\": [291, 297], \"cluster_id\": null, \"strokewidth\": 1.0, \"strokedash\": [1, 0], \"strokeopacity\": 1.0, \"_order_helper\": 0}, {\"index\": 8, \"x\": 14.375, \"y\": 1.6401219466856727, \"fillcolor\": \"#1f77b4\", \"id\": 298, \"children_id\": [291, 297], \"cluster_id\": null, \"strokewidth\": 1.0, \"strokedash\": [1, 0], \"strokeopacity\": 1.0, \"_order_helper\": 1}, {\"index\": 8, \"x\": 64.375, \"y\": 1.6401219466856727, \"fillcolor\": \"#1f77b4\", \"id\": 298, \"children_id\": [291, 297], \"cluster_id\": null, \"strokewidth\": 1.0, \"strokedash\": [1, 0], \"strokeopacity\": 1.0, \"_order_helper\": 2}, {\"index\": 8, \"x\": 64.375, \"y\": 1.02469507659596, \"fillcolor\": \"#1f77b4\", \"id\": 298, \"children_id\": [291, 297], \"cluster_id\": null, \"strokewidth\": 1.0, \"strokedash\": [1, 0], \"strokeopacity\": 1.0, \"_order_helper\": 3}], \"data-4855630e76484fecf13a5d0c65102b60\": [{\"x\": 5.0, \"y\": 0.0, \"type\": \"leaf\", \"id\": 41, \"cluster_id\": null, \"edgecolor\": \"#ff7f0e\", \"label\": \"\", \"hovertext\": {\"# of items\": \"1\", \"linkage id\": 41}, \"fillcolor\": \"#ff7f0e\", \"radius\": 4.0, \"opacity\": 1.0, \"labelsize\": 10.0, \"labelcolor\": \"#fff\", \"_default_leaf_radius\": 4.0, \"_default_leaf_radius_if_cluster\": 7.0, \"size\": 50.26548245743669}, {\"x\": 15.0, \"y\": 0.0, \"type\": \"leaf\", \"id\": 15, \"cluster_id\": null, \"edgecolor\": \"#ff7f0e\", \"label\": \"\", \"hovertext\": {\"# of items\": \"1\", \"linkage id\": 15}, \"fillcolor\": \"#ff7f0e\", \"radius\": 4.0, \"opacity\": 1.0, \"labelsize\": 10.0, \"labelcolor\": \"#fff\", \"_default_leaf_radius\": 4.0, \"_default_leaf_radius_if_cluster\": 7.0, \"size\": 50.26548245743669}, {\"x\": 25.0, \"y\": 0.0, \"type\": \"leaf\", \"id\": 14, \"cluster_id\": null, \"edgecolor\": \"#ff7f0e\", \"label\": \"\", \"hovertext\": {\"# of items\": \"1\", \"linkage id\": 14}, \"fillcolor\": \"#ff7f0e\", \"radius\": 4.0, \"opacity\": 1.0, \"labelsize\": 10.0, \"labelcolor\": \"#fff\", \"_default_leaf_radius\": 4.0, \"_default_leaf_radius_if_cluster\": 7.0, \"size\": 50.26548245743669}, {\"x\": 35.0, \"y\": 0.0, \"type\": \"leaf\", \"id\": 22, \"cluster_id\": null, \"edgecolor\": \"#ff7f0e\", \"label\": \"\", \"hovertext\": {\"# of items\": \"1\", \"linkage id\": 22}, \"fillcolor\": \"#ff7f0e\", \"radius\": 4.0, \"opacity\": 1.0, \"labelsize\": 10.0, \"labelcolor\": \"#fff\", \"_default_leaf_radius\": 4.0, \"_default_leaf_radius_if_cluster\": 7.0, \"size\": 50.26548245743669}, {\"x\": 45.0, \"y\": 0.0, \"type\": \"leaf\", \"id\": 263, \"cluster_id\": null, \"edgecolor\": \"#ff7f0e\", \"label\": \"\", \"hovertext\": {\"# of items\": \"46\", \"linkage id\": 263}, \"fillcolor\": \"#ff7f0e\", \"radius\": 4.0, \"opacity\": 1.0, \"labelsize\": 10.0, \"labelcolor\": \"#fff\", \"_default_leaf_radius\": 4.0, \"_default_leaf_radius_if_cluster\": 7.0, \"size\": 50.26548245743669}, {\"x\": 55.0, \"y\": 0.0, \"type\": \"leaf\", \"id\": 131, \"cluster_id\": null, \"edgecolor\": \"#ff7f0e\", \"label\": \"\", \"hovertext\": {\"# of items\": \"1\", \"linkage id\": 131}, \"fillcolor\": \"#ff7f0e\", \"radius\": 4.0, \"opacity\": 1.0, \"labelsize\": 10.0, \"labelcolor\": \"#fff\", \"_default_leaf_radius\": 4.0, \"_default_leaf_radius_if_cluster\": 7.0, \"size\": 50.26548245743669}, {\"x\": 65.0, \"y\": 0.0, \"type\": \"leaf\", \"id\": 117, \"cluster_id\": null, \"edgecolor\": \"#ff7f0e\", \"label\": \"\", \"hovertext\": {\"# of items\": \"1\", \"linkage id\": 117}, \"fillcolor\": \"#ff7f0e\", \"radius\": 4.0, \"opacity\": 1.0, \"labelsize\": 10.0, \"labelcolor\": \"#fff\", \"_default_leaf_radius\": 4.0, \"_default_leaf_radius_if_cluster\": 7.0, \"size\": 50.26548245743669}, {\"x\": 75.0, \"y\": 0.0, \"type\": \"leaf\", \"id\": 118, \"cluster_id\": null, \"edgecolor\": \"#ff7f0e\", \"label\": \"\", \"hovertext\": {\"# of items\": \"1\", \"linkage id\": 118}, \"fillcolor\": \"#ff7f0e\", \"radius\": 4.0, \"opacity\": 1.0, \"labelsize\": 10.0, \"labelcolor\": \"#fff\", \"_default_leaf_radius\": 4.0, \"_default_leaf_radius_if_cluster\": 7.0, \"size\": 50.26548245743669}, {\"x\": 85.0, \"y\": 0.0, \"type\": \"leaf\", \"id\": 106, \"cluster_id\": null, \"edgecolor\": \"#ff7f0e\", \"label\": \"\", \"hovertext\": {\"# of items\": \"1\", \"linkage id\": 106}, \"fillcolor\": \"#ff7f0e\", \"radius\": 4.0, \"opacity\": 1.0, \"labelsize\": 10.0, \"labelcolor\": \"#fff\", \"_default_leaf_radius\": 4.0, \"_default_leaf_radius_if_cluster\": 7.0, \"size\": 50.26548245743669}, {\"x\": 95.0, \"y\": 0.0, \"type\": \"leaf\", \"id\": 293, \"cluster_id\": null, \"edgecolor\": \"#ff7f0e\", \"label\": \"\", \"hovertext\": {\"# of items\": \"96\", \"linkage id\": 293}, \"fillcolor\": \"#ff7f0e\", \"radius\": 4.0, \"opacity\": 1.0, \"labelsize\": 10.0, \"labelcolor\": \"#fff\", \"_default_leaf_radius\": 4.0, \"_default_leaf_radius_if_cluster\": 7.0, \"size\": 50.26548245743669}, {\"x\": 40.0, \"y\": 0.53851648071345, \"type\": \"subcluster\", \"id\": 267, \"cluster_id\": null, \"edgecolor\": \"#ff7f0e\", \"label\": \"\", \"hovertext\": {\"# of items\": \"47\", \"linkage id\": 267}, \"fillcolor\": \"#fff\", \"radius\": 7.0, \"opacity\": 1.0, \"labelsize\": 10.0, \"labelcolor\": \"#fff\", \"_default_leaf_radius\": 4.0, \"_default_leaf_radius_if_cluster\": 7.0, \"size\": 153.93804002589985}, {\"x\": 32.5, \"y\": 0.5830951894845297, \"type\": \"subcluster\", \"id\": 272, \"cluster_id\": null, \"edgecolor\": \"#ff7f0e\", \"label\": \"\", \"hovertext\": {\"# of items\": \"48\", \"linkage id\": 272}, \"fillcolor\": \"#fff\", \"radius\": 7.0, \"opacity\": 1.0, \"labelsize\": 10.0, \"labelcolor\": \"#fff\", \"_default_leaf_radius\": 4.0, \"_default_leaf_radius_if_cluster\": 7.0, \"size\": 153.93804002589985}, {\"x\": 23.75, \"y\": 0.6403124237432853, \"type\": \"subcluster\", \"id\": 280, \"cluster_id\": null, \"edgecolor\": \"#ff7f0e\", \"label\": \"\", \"hovertext\": {\"# of items\": \"49\", \"linkage id\": 280}, \"fillcolor\": \"#fff\", \"radius\": 7.0, \"opacity\": 1.0, \"labelsize\": 10.0, \"labelcolor\": \"#fff\", \"_default_leaf_radius\": 4.0, \"_default_leaf_radius_if_cluster\": 7.0, \"size\": 153.93804002589985}, {\"x\": 14.375, \"y\": 0.7937253933193773, \"type\": \"cluster\", \"id\": 291, \"cluster_id\": 0.0, \"edgecolor\": \"#ff7f0e\", \"label\": \"0\", \"hovertext\": {\"# of items\": \"50\", \"linkage id\": 291}, \"fillcolor\": \"#ff7f0e\", \"radius\": 7.0, \"opacity\": 1.0, \"labelsize\": 10.0, \"labelcolor\": \"#fff\", \"_default_leaf_radius\": 4.0, \"_default_leaf_radius_if_cluster\": 7.0, \"size\": 153.93804002589985}, {\"x\": 90.0, \"y\": 0.883176086632784, \"type\": \"subcluster\", \"id\": 294, \"cluster_id\": null, \"edgecolor\": \"#ff7f0e\", \"label\": \"\", \"hovertext\": {\"# of items\": \"97\", \"linkage id\": 294}, \"fillcolor\": \"#fff\", \"radius\": 7.0, \"opacity\": 1.0, \"labelsize\": 10.0, \"labelcolor\": \"#fff\", \"_default_leaf_radius\": 4.0, \"_default_leaf_radius_if_cluster\": 7.0, \"size\": 153.93804002589985}, {\"x\": 82.5, \"y\": 0.9643650760992959, \"type\": \"subcluster\", \"id\": 295, \"cluster_id\": null, \"edgecolor\": \"#ff7f0e\", \"label\": \"\", \"hovertext\": {\"# of items\": \"98\", \"linkage id\": 295}, \"fillcolor\": \"#fff\", \"radius\": 7.0, \"opacity\": 1.0, \"labelsize\": 10.0, \"labelcolor\": \"#fff\", \"_default_leaf_radius\": 4.0, \"_default_leaf_radius_if_cluster\": 7.0, \"size\": 153.93804002589985}, {\"x\": 73.75, \"y\": 1.019803902718557, \"type\": \"subcluster\", \"id\": 296, \"cluster_id\": null, \"edgecolor\": \"#ff7f0e\", \"label\": \"\", \"hovertext\": {\"# of items\": \"99\", \"linkage id\": 296}, \"fillcolor\": \"#fff\", \"radius\": 7.0, \"opacity\": 1.0, \"labelsize\": 10.0, \"labelcolor\": \"#fff\", \"_default_leaf_radius\": 4.0, \"_default_leaf_radius_if_cluster\": 7.0, \"size\": 153.93804002589985}, {\"x\": 64.375, \"y\": 1.02469507659596, \"type\": \"cluster\", \"id\": 297, \"cluster_id\": 1.0, \"edgecolor\": \"#ff7f0e\", \"label\": \"1\", \"hovertext\": {\"# of items\": \"100\", \"linkage id\": 297}, \"fillcolor\": \"#ff7f0e\", \"radius\": 7.0, \"opacity\": 1.0, \"labelsize\": 10.0, \"labelcolor\": \"#fff\", \"_default_leaf_radius\": 4.0, \"_default_leaf_radius_if_cluster\": 7.0, \"size\": 153.93804002589985}, {\"x\": 39.375, \"y\": 1.6401219466856727, \"type\": \"supercluster\", \"id\": 298, \"cluster_id\": null, \"edgecolor\": \"#1f77b4\", \"label\": \"\", \"hovertext\": {\"# of items\": \"150\", \"linkage id\": 298}, \"fillcolor\": \"#1f77b4\", \"radius\": 7.0, \"opacity\": 1.0, \"labelsize\": 10.0, \"labelcolor\": \"#fff\", \"_default_leaf_radius\": 4.0, \"_default_leaf_radius_if_cluster\": 7.0, \"size\": 153.93804002589985}]}}, {\"mode\": \"vega-lite\"});\n",
       "</script>"
      ],
      "text/plain": [
       "alt.LayerChart(...)"
      ]
     },
     "metadata": {},
     "output_type": "display_data"
    }
   ],
   "source": [
    "import hdbscan\n",
    "clusterer = hdbscan.HDBSCAN()\n",
    "clusterer.fit(data['data'])\n",
    "\n",
    "#pass it to idendro and visualize\n",
    "idd = idendro.IDendro()\n",
    "idd.set_cluster_info(idendro.HDBSCANClusteringData(clusterer))\n",
    "\n",
    "idd.create_dendrogram().plot(\n",
    "    backend='altair',\n",
    "    height=200, width=629\n",
    ")"
   ]
  },
  {
   "attachments": {},
   "cell_type": "markdown",
   "metadata": {},
   "source": [
    "## Visualization backend support\n",
    "\n",
    "IDendro can visualize dendrograms in Plotly, Altair and Matplotlib (limited support). Switching visualization frontends is as simple as passing an argument to the `plot()` function.\n",
    "\n",
    "Alternatively, you can also use helper functions available at `idendro.targets` (`to_altair`, `to_plotly`, `to_matplotlib`, `to_json`)."
   ]
  },
  {
   "cell_type": "code",
   "execution_count": null,
   "metadata": {},
   "outputs": [],
   "source": [
    "import os, sys\n",
    "sys.path.insert(1, os.path.join(sys.path[0], '../..'))\n",
    "import altair \n",
    "altair.renderers.set_embed_options(actions=False)\n",
    "pass"
   ]
  },
  {
   "cell_type": "code",
   "execution_count": null,
   "metadata": {},
   "outputs": [],
   "source": [
    "import scipy.cluster.hierarchy as sch\n",
    "from sklearn.datasets import load_iris\n",
    "import idendro\n",
    "from matplotlib import pyplot as plt\n",
    "\n",
    "# do the usual scipy hierarchical clustering\n",
    "data = load_iris(as_frame=True)\n",
    "linkage_matrix = sch.linkage(\n",
    "    data['data'], method='single', metric='euclidean'\n",
    ")\n",
    "flat_clusters = sch.fcluster(\n",
    "    linkage_matrix, t=0.8, criterion='distance'\n",
    ")\n",
    "\n",
    "#pass it to idendro and visualize\n",
    "cl_data = idendro.ClusteringData(\n",
    "    linkage_matrix = linkage_matrix, \n",
    "    cluster_assignments = flat_clusters\n",
    ")\n",
    "\n",
    "idd = idendro.IDendro()\n",
    "idd.set_cluster_info(cl_data)\n",
    "\n",
    "dendrogram = idd.create_dendrogram()"
   ]
  },
  {
   "attachments": {},
   "cell_type": "markdown",
   "metadata": {},
   "source": [
    "### Altair"
   ]
  },
  {
   "cell_type": "code",
   "execution_count": null,
   "metadata": {},
   "outputs": [
    {
     "data": {
      "text/html": [
       "\n",
       "<div id=\"altair-viz-a290173c52204c0bb433fa9970e44957\"></div>\n",
       "<script type=\"text/javascript\">\n",
       "  var VEGA_DEBUG = (typeof VEGA_DEBUG == \"undefined\") ? {} : VEGA_DEBUG;\n",
       "  (function(spec, embedOpt){\n",
       "    let outputDiv = document.currentScript.previousElementSibling;\n",
       "    if (outputDiv.id !== \"altair-viz-a290173c52204c0bb433fa9970e44957\") {\n",
       "      outputDiv = document.getElementById(\"altair-viz-a290173c52204c0bb433fa9970e44957\");\n",
       "    }\n",
       "    const paths = {\n",
       "      \"vega\": \"https://cdn.jsdelivr.net/npm//vega@5?noext\",\n",
       "      \"vega-lib\": \"https://cdn.jsdelivr.net/npm//vega-lib?noext\",\n",
       "      \"vega-lite\": \"https://cdn.jsdelivr.net/npm//vega-lite@4.17.0?noext\",\n",
       "      \"vega-embed\": \"https://cdn.jsdelivr.net/npm//vega-embed@6?noext\",\n",
       "    };\n",
       "\n",
       "    function maybeLoadScript(lib, version) {\n",
       "      var key = `${lib.replace(\"-\", \"\")}_version`;\n",
       "      return (VEGA_DEBUG[key] == version) ?\n",
       "        Promise.resolve(paths[lib]) :\n",
       "        new Promise(function(resolve, reject) {\n",
       "          var s = document.createElement('script');\n",
       "          document.getElementsByTagName(\"head\")[0].appendChild(s);\n",
       "          s.async = true;\n",
       "          s.onload = () => {\n",
       "            VEGA_DEBUG[key] = version;\n",
       "            return resolve(paths[lib]);\n",
       "          };\n",
       "          s.onerror = () => reject(`Error loading script: ${paths[lib]}`);\n",
       "          s.src = paths[lib];\n",
       "        });\n",
       "    }\n",
       "\n",
       "    function showError(err) {\n",
       "      outputDiv.innerHTML = `<div class=\"error\" style=\"color:red;\">${err}</div>`;\n",
       "      throw err;\n",
       "    }\n",
       "\n",
       "    function displayChart(vegaEmbed) {\n",
       "      vegaEmbed(outputDiv, spec, embedOpt)\n",
       "        .catch(err => showError(`Javascript Error: ${err.message}<br>This usually means there's a typo in your chart specification. See the javascript console for the full traceback.`));\n",
       "    }\n",
       "\n",
       "    if(typeof define === \"function\" && define.amd) {\n",
       "      requirejs.config({paths});\n",
       "      require([\"vega-embed\"], displayChart, err => showError(`Error loading script: ${err.message}`));\n",
       "    } else {\n",
       "      maybeLoadScript(\"vega\", \"5\")\n",
       "        .then(() => maybeLoadScript(\"vega-lite\", \"4.17.0\"))\n",
       "        .then(() => maybeLoadScript(\"vega-embed\", \"6\"))\n",
       "        .catch(showError)\n",
       "        .then(() => displayChart(vegaEmbed));\n",
       "    }\n",
       "  })({\"layer\": [{\"data\": {\"name\": \"data-14cecd4bee7b75d255fafc30acb8179d\"}, \"mark\": \"line\", \"encoding\": {\"color\": {\"field\": \"fillcolor\", \"legend\": null, \"scale\": null, \"type\": \"nominal\"}, \"detail\": {\"field\": \"index\", \"type\": \"quantitative\"}, \"order\": {\"field\": \"_order_helper\", \"type\": \"quantitative\"}, \"strokeDash\": {\"field\": \"strokedash\", \"legend\": null, \"scale\": null, \"type\": \"nominal\"}, \"strokeOpacity\": {\"field\": \"strokeopacity\", \"legend\": null, \"scale\": null, \"type\": \"quantitative\"}, \"strokeWidth\": {\"field\": \"strokewidth\", \"legend\": null, \"scale\": null, \"type\": \"quantitative\"}, \"x\": {\"axis\": {\"grid\": false, \"labelAngle\": 0, \"labelExpr\": \"datum.value == 5.0 ? '1' : datum.value == 15.0 ? '1' : datum.value == 25.0 ? '1' : datum.value == 35.0 ? '1' : datum.value == 45.0 ? '46' : datum.value == 55.0 ? '1' : datum.value == 65.0 ? '1' : datum.value == 75.0 ? '1' : datum.value == 85.0 ? '1' : datum.value == 95.0 ? '3' : datum.value == 105.0 ? '1' : datum.value == 115.0 ? '92' : ''\", \"labelPadding\": 10, \"orient\": \"bottom\", \"ticks\": false, \"values\": [5.0, 15.0, 25.0, 35.0, 45.0, 55.0, 65.0, 75.0, 85.0, 95.0, 105.0, 115.0]}, \"field\": \"x\", \"title\": null, \"type\": \"quantitative\"}, \"y\": {\"axis\": {\"grid\": false}, \"field\": \"y\", \"scale\": {\"reverse\": false, \"type\": \"linear\"}, \"title\": null, \"type\": \"quantitative\"}}}, {\"layer\": [{\"layer\": [{\"mark\": \"point\", \"encoding\": {\"fill\": {\"field\": \"fillcolor\", \"scale\": null, \"type\": \"nominal\"}, \"opacity\": {\"field\": \"opacity\", \"scale\": null, \"type\": \"quantitative\"}, \"size\": {\"field\": \"size\", \"scale\": null, \"type\": \"quantitative\"}, \"stroke\": {\"field\": \"edgecolor\", \"scale\": null, \"type\": \"nominal\"}, \"tooltip\": {\"field\": \"hovertext\", \"type\": \"nominal\"}, \"x\": {\"axis\": {\"grid\": false, \"labelAngle\": 0, \"labelExpr\": \"datum.value == 5.0 ? '1' : datum.value == 15.0 ? '1' : datum.value == 25.0 ? '1' : datum.value == 35.0 ? '1' : datum.value == 45.0 ? '46' : datum.value == 55.0 ? '1' : datum.value == 65.0 ? '1' : datum.value == 75.0 ? '1' : datum.value == 85.0 ? '1' : datum.value == 95.0 ? '3' : datum.value == 105.0 ? '1' : datum.value == 115.0 ? '92' : ''\", \"labelPadding\": 10, \"orient\": \"bottom\", \"ticks\": false, \"values\": [5.0, 15.0, 25.0, 35.0, 45.0, 55.0, 65.0, 75.0, 85.0, 95.0, 105.0, 115.0]}, \"field\": \"x\", \"title\": null, \"type\": \"quantitative\"}, \"y\": {\"axis\": {\"grid\": false}, \"field\": \"y\", \"scale\": {\"reverse\": false, \"type\": \"linear\"}, \"title\": null, \"type\": \"quantitative\"}}}, {\"mark\": {\"type\": \"text\", \"fontWeight\": \"bold\"}, \"encoding\": {\"color\": {\"field\": \"labelcolor\", \"scale\": null, \"type\": \"nominal\"}, \"size\": {\"field\": \"labelsize\", \"scale\": null, \"type\": \"quantitative\"}, \"text\": {\"field\": \"label\", \"type\": \"nominal\"}, \"tooltip\": {\"field\": \"hovertext\", \"type\": \"nominal\"}, \"x\": {\"axis\": {\"grid\": false, \"labelAngle\": 0, \"labelExpr\": \"datum.value == 5.0 ? '1' : datum.value == 15.0 ? '1' : datum.value == 25.0 ? '1' : datum.value == 35.0 ? '1' : datum.value == 45.0 ? '46' : datum.value == 55.0 ? '1' : datum.value == 65.0 ? '1' : datum.value == 75.0 ? '1' : datum.value == 85.0 ? '1' : datum.value == 95.0 ? '3' : datum.value == 105.0 ? '1' : datum.value == 115.0 ? '92' : ''\", \"labelPadding\": 10, \"orient\": \"bottom\", \"ticks\": false, \"values\": [5.0, 15.0, 25.0, 35.0, 45.0, 55.0, 65.0, 75.0, 85.0, 95.0, 105.0, 115.0]}, \"field\": \"x\", \"title\": null, \"type\": \"quantitative\"}, \"y\": {\"axis\": {\"grid\": false}, \"field\": \"y\", \"scale\": {\"reverse\": false, \"type\": \"linear\"}, \"title\": null, \"type\": \"quantitative\"}}}]}], \"data\": {\"name\": \"data-0bad9ac68e1ead0298d3c832bc7a79db\"}}], \"height\": 200, \"width\": 629, \"$schema\": \"https://vega.github.io/schema/vega-lite/v4.17.0.json\", \"datasets\": {\"data-14cecd4bee7b75d255fafc30acb8179d\": [{\"index\": 0, \"x\": 35.0, \"y\": 0.0, \"fillcolor\": \"#ff7f0e\", \"id\": 269, \"children_id\": [15, 263], \"cluster_id\": null, \"strokewidth\": 1.0, \"strokedash\": [1, 0], \"strokeopacity\": 1.0, \"_order_helper\": 0}, {\"index\": 0, \"x\": 35.0, \"y\": 0.3605551275463992, \"fillcolor\": \"#ff7f0e\", \"id\": 269, \"children_id\": [15, 263], \"cluster_id\": null, \"strokewidth\": 1.0, \"strokedash\": [1, 0], \"strokeopacity\": 1.0, \"_order_helper\": 1}, {\"index\": 0, \"x\": 45.0, \"y\": 0.3605551275463992, \"fillcolor\": \"#ff7f0e\", \"id\": 269, \"children_id\": [15, 263], \"cluster_id\": null, \"strokewidth\": 1.0, \"strokedash\": [1, 0], \"strokeopacity\": 1.0, \"_order_helper\": 2}, {\"index\": 0, \"x\": 45.0, \"y\": 0.0, \"fillcolor\": \"#ff7f0e\", \"id\": 269, \"children_id\": [15, 263], \"cluster_id\": null, \"strokewidth\": 1.0, \"strokedash\": [1, 0], \"strokeopacity\": 1.0, \"_order_helper\": 3}, {\"index\": 1, \"x\": 25.0, \"y\": 0.0, \"fillcolor\": \"#ff7f0e\", \"id\": 278, \"children_id\": [14, 269], \"cluster_id\": null, \"strokewidth\": 1.0, \"strokedash\": [1, 0], \"strokeopacity\": 1.0, \"_order_helper\": 0}, {\"index\": 1, \"x\": 25.0, \"y\": 0.412310562561766, \"fillcolor\": \"#ff7f0e\", \"id\": 278, \"children_id\": [14, 269], \"cluster_id\": null, \"strokewidth\": 1.0, \"strokedash\": [1, 0], \"strokeopacity\": 1.0, \"_order_helper\": 1}, {\"index\": 1, \"x\": 40.0, \"y\": 0.412310562561766, \"fillcolor\": \"#ff7f0e\", \"id\": 278, \"children_id\": [14, 269], \"cluster_id\": null, \"strokewidth\": 1.0, \"strokedash\": [1, 0], \"strokeopacity\": 1.0, \"_order_helper\": 2}, {\"index\": 1, \"x\": 40.0, \"y\": 0.3605551275463992, \"fillcolor\": \"#ff7f0e\", \"id\": 278, \"children_id\": [14, 269], \"cluster_id\": null, \"strokewidth\": 1.0, \"strokedash\": [1, 0], \"strokeopacity\": 1.0, \"_order_helper\": 3}, {\"index\": 2, \"x\": 15.0, \"y\": 0.0, \"fillcolor\": \"#ff7f0e\", \"id\": 285, \"children_id\": [22, 278], \"cluster_id\": null, \"strokewidth\": 1.0, \"strokedash\": [1, 0], \"strokeopacity\": 1.0, \"_order_helper\": 0}, {\"index\": 2, \"x\": 15.0, \"y\": 0.45825756949558394, \"fillcolor\": \"#ff7f0e\", \"id\": 285, \"children_id\": [22, 278], \"cluster_id\": null, \"strokewidth\": 1.0, \"strokedash\": [1, 0], \"strokeopacity\": 1.0, \"_order_helper\": 1}, {\"index\": 2, \"x\": 32.5, \"y\": 0.45825756949558394, \"fillcolor\": \"#ff7f0e\", \"id\": 285, \"children_id\": [22, 278], \"cluster_id\": null, \"strokewidth\": 1.0, \"strokedash\": [1, 0], \"strokeopacity\": 1.0, \"_order_helper\": 2}, {\"index\": 2, \"x\": 32.5, \"y\": 0.412310562561766, \"fillcolor\": \"#ff7f0e\", \"id\": 285, \"children_id\": [22, 278], \"cluster_id\": null, \"strokewidth\": 1.0, \"strokedash\": [1, 0], \"strokeopacity\": 1.0, \"_order_helper\": 3}, {\"index\": 3, \"x\": 5.0, \"y\": 0.0, \"fillcolor\": \"#ff7f0e\", \"id\": 293, \"children_id\": [41, 285], \"cluster_id\": 1.0, \"strokewidth\": 1.0, \"strokedash\": [1, 0], \"strokeopacity\": 1.0, \"_order_helper\": 0}, {\"index\": 3, \"x\": 5.0, \"y\": 0.6244997998398398, \"fillcolor\": \"#ff7f0e\", \"id\": 293, \"children_id\": [41, 285], \"cluster_id\": 1.0, \"strokewidth\": 1.0, \"strokedash\": [1, 0], \"strokeopacity\": 1.0, \"_order_helper\": 1}, {\"index\": 3, \"x\": 23.75, \"y\": 0.6244997998398398, \"fillcolor\": \"#ff7f0e\", \"id\": 293, \"children_id\": [41, 285], \"cluster_id\": 1.0, \"strokewidth\": 1.0, \"strokedash\": [1, 0], \"strokeopacity\": 1.0, \"_order_helper\": 2}, {\"index\": 3, \"x\": 23.75, \"y\": 0.45825756949558394, \"fillcolor\": \"#ff7f0e\", \"id\": 293, \"children_id\": [41, 285], \"cluster_id\": 1.0, \"strokewidth\": 1.0, \"strokedash\": [1, 0], \"strokeopacity\": 1.0, \"_order_helper\": 3}, {\"index\": 4, \"x\": 55.0, \"y\": 0.0, \"fillcolor\": \"#2ca02c\", \"id\": 279, \"children_id\": [117, 131], \"cluster_id\": 2.0, \"strokewidth\": 1.0, \"strokedash\": [1, 0], \"strokeopacity\": 1.0, \"_order_helper\": 0}, {\"index\": 4, \"x\": 55.0, \"y\": 0.4123105625617661, \"fillcolor\": \"#2ca02c\", \"id\": 279, \"children_id\": [117, 131], \"cluster_id\": 2.0, \"strokewidth\": 1.0, \"strokedash\": [1, 0], \"strokeopacity\": 1.0, \"_order_helper\": 1}, {\"index\": 4, \"x\": 65.0, \"y\": 0.4123105625617661, \"fillcolor\": \"#2ca02c\", \"id\": 279, \"children_id\": [117, 131], \"cluster_id\": 2.0, \"strokewidth\": 1.0, \"strokedash\": [1, 0], \"strokeopacity\": 1.0, \"_order_helper\": 2}, {\"index\": 4, \"x\": 65.0, \"y\": 0.0, \"fillcolor\": \"#2ca02c\", \"id\": 279, \"children_id\": [117, 131], \"cluster_id\": 2.0, \"strokewidth\": 1.0, \"strokedash\": [1, 0], \"strokeopacity\": 1.0, \"_order_helper\": 3}, {\"index\": 5, \"x\": 85.0, \"y\": 0.0, \"fillcolor\": \"#d62728\", \"id\": 273, \"children_id\": [98, 265], \"cluster_id\": null, \"strokewidth\": 1.0, \"strokedash\": [1, 0], \"strokeopacity\": 1.0, \"_order_helper\": 0}, {\"index\": 5, \"x\": 85.0, \"y\": 0.3872983346207412, \"fillcolor\": \"#d62728\", \"id\": 273, \"children_id\": [98, 265], \"cluster_id\": null, \"strokewidth\": 1.0, \"strokedash\": [1, 0], \"strokeopacity\": 1.0, \"_order_helper\": 1}, {\"index\": 5, \"x\": 95.0, \"y\": 0.3872983346207412, \"fillcolor\": \"#d62728\", \"id\": 273, \"children_id\": [98, 265], \"cluster_id\": null, \"strokewidth\": 1.0, \"strokedash\": [1, 0], \"strokeopacity\": 1.0, \"_order_helper\": 2}, {\"index\": 5, \"x\": 95.0, \"y\": 0.0, \"fillcolor\": \"#d62728\", \"id\": 273, \"children_id\": [98, 265], \"cluster_id\": null, \"strokewidth\": 1.0, \"strokedash\": [1, 0], \"strokeopacity\": 1.0, \"_order_helper\": 3}, {\"index\": 6, \"x\": 105.0, \"y\": 0.0, \"fillcolor\": \"#d62728\", \"id\": 294, \"children_id\": [109, 292], \"cluster_id\": null, \"strokewidth\": 1.0, \"strokedash\": [1, 0], \"strokeopacity\": 1.0, \"_order_helper\": 0}, {\"index\": 6, \"x\": 105.0, \"y\": 0.6324555320336759, \"fillcolor\": \"#d62728\", \"id\": 294, \"children_id\": [109, 292], \"cluster_id\": null, \"strokewidth\": 1.0, \"strokedash\": [1, 0], \"strokeopacity\": 1.0, \"_order_helper\": 1}, {\"index\": 6, \"x\": 115.0, \"y\": 0.6324555320336759, \"fillcolor\": \"#d62728\", \"id\": 294, \"children_id\": [109, 292], \"cluster_id\": null, \"strokewidth\": 1.0, \"strokedash\": [1, 0], \"strokeopacity\": 1.0, \"_order_helper\": 2}, {\"index\": 6, \"x\": 115.0, \"y\": 0.0, \"fillcolor\": \"#d62728\", \"id\": 294, \"children_id\": [109, 292], \"cluster_id\": null, \"strokewidth\": 1.0, \"strokedash\": [1, 0], \"strokeopacity\": 1.0, \"_order_helper\": 3}, {\"index\": 7, \"x\": 90.0, \"y\": 0.3872983346207412, \"fillcolor\": \"#d62728\", \"id\": 295, \"children_id\": [273, 294], \"cluster_id\": null, \"strokewidth\": 1.0, \"strokedash\": [1, 0], \"strokeopacity\": 1.0, \"_order_helper\": 0}, {\"index\": 7, \"x\": 90.0, \"y\": 0.6480740698407862, \"fillcolor\": \"#d62728\", \"id\": 295, \"children_id\": [273, 294], \"cluster_id\": null, \"strokewidth\": 1.0, \"strokedash\": [1, 0], \"strokeopacity\": 1.0, \"_order_helper\": 1}, {\"index\": 7, \"x\": 110.0, \"y\": 0.6480740698407862, \"fillcolor\": \"#d62728\", \"id\": 295, \"children_id\": [273, 294], \"cluster_id\": null, \"strokewidth\": 1.0, \"strokedash\": [1, 0], \"strokeopacity\": 1.0, \"_order_helper\": 2}, {\"index\": 7, \"x\": 110.0, \"y\": 0.6324555320336759, \"fillcolor\": \"#d62728\", \"id\": 295, \"children_id\": [273, 294], \"cluster_id\": null, \"strokewidth\": 1.0, \"strokedash\": [1, 0], \"strokeopacity\": 1.0, \"_order_helper\": 3}, {\"index\": 8, \"x\": 75.0, \"y\": 0.0, \"fillcolor\": \"#d62728\", \"id\": 296, \"children_id\": [106, 295], \"cluster_id\": 3.0, \"strokewidth\": 1.0, \"strokedash\": [1, 0], \"strokeopacity\": 1.0, \"_order_helper\": 0}, {\"index\": 8, \"x\": 75.0, \"y\": 0.7348469228349535, \"fillcolor\": \"#d62728\", \"id\": 296, \"children_id\": [106, 295], \"cluster_id\": 3.0, \"strokewidth\": 1.0, \"strokedash\": [1, 0], \"strokeopacity\": 1.0, \"_order_helper\": 1}, {\"index\": 8, \"x\": 100.0, \"y\": 0.7348469228349535, \"fillcolor\": \"#d62728\", \"id\": 296, \"children_id\": [106, 295], \"cluster_id\": 3.0, \"strokewidth\": 1.0, \"strokedash\": [1, 0], \"strokeopacity\": 1.0, \"_order_helper\": 2}, {\"index\": 8, \"x\": 100.0, \"y\": 0.6480740698407862, \"fillcolor\": \"#d62728\", \"id\": 296, \"children_id\": [106, 295], \"cluster_id\": 3.0, \"strokewidth\": 1.0, \"strokedash\": [1, 0], \"strokeopacity\": 1.0, \"_order_helper\": 3}, {\"index\": 9, \"x\": 60.0, \"y\": 0.4123105625617661, \"fillcolor\": \"#1f77b4\", \"id\": 297, \"children_id\": [279, 296], \"cluster_id\": null, \"strokewidth\": 1.0, \"strokedash\": [1, 0], \"strokeopacity\": 1.0, \"_order_helper\": 0}, {\"index\": 9, \"x\": 60.0, \"y\": 0.818535277187245, \"fillcolor\": \"#1f77b4\", \"id\": 297, \"children_id\": [279, 296], \"cluster_id\": null, \"strokewidth\": 1.0, \"strokedash\": [1, 0], \"strokeopacity\": 1.0, \"_order_helper\": 1}, {\"index\": 9, \"x\": 87.5, \"y\": 0.818535277187245, \"fillcolor\": \"#1f77b4\", \"id\": 297, \"children_id\": [279, 296], \"cluster_id\": null, \"strokewidth\": 1.0, \"strokedash\": [1, 0], \"strokeopacity\": 1.0, \"_order_helper\": 2}, {\"index\": 9, \"x\": 87.5, \"y\": 0.7348469228349535, \"fillcolor\": \"#1f77b4\", \"id\": 297, \"children_id\": [279, 296], \"cluster_id\": null, \"strokewidth\": 1.0, \"strokedash\": [1, 0], \"strokeopacity\": 1.0, \"_order_helper\": 3}, {\"index\": 10, \"x\": 14.375, \"y\": 0.6244997998398398, \"fillcolor\": \"#1f77b4\", \"id\": 298, \"children_id\": [293, 297], \"cluster_id\": null, \"strokewidth\": 1.0, \"strokedash\": [1, 0], \"strokeopacity\": 1.0, \"_order_helper\": 0}, {\"index\": 10, \"x\": 14.375, \"y\": 1.6401219466856727, \"fillcolor\": \"#1f77b4\", \"id\": 298, \"children_id\": [293, 297], \"cluster_id\": null, \"strokewidth\": 1.0, \"strokedash\": [1, 0], \"strokeopacity\": 1.0, \"_order_helper\": 1}, {\"index\": 10, \"x\": 73.75, \"y\": 1.6401219466856727, \"fillcolor\": \"#1f77b4\", \"id\": 298, \"children_id\": [293, 297], \"cluster_id\": null, \"strokewidth\": 1.0, \"strokedash\": [1, 0], \"strokeopacity\": 1.0, \"_order_helper\": 2}, {\"index\": 10, \"x\": 73.75, \"y\": 0.818535277187245, \"fillcolor\": \"#1f77b4\", \"id\": 298, \"children_id\": [293, 297], \"cluster_id\": null, \"strokewidth\": 1.0, \"strokedash\": [1, 0], \"strokeopacity\": 1.0, \"_order_helper\": 3}], \"data-0bad9ac68e1ead0298d3c832bc7a79db\": [{\"x\": 5.0, \"y\": 0.0, \"type\": \"leaf\", \"id\": 41, \"cluster_id\": null, \"edgecolor\": \"#ff7f0e\", \"label\": \"\", \"hovertext\": {\"# of items\": \"1\", \"linkage id\": 41}, \"fillcolor\": \"#ff7f0e\", \"radius\": 4.0, \"opacity\": 1.0, \"labelsize\": 10.0, \"labelcolor\": \"#fff\", \"_default_leaf_radius\": 4.0, \"_default_leaf_radius_if_cluster\": 7.0, \"size\": 50.26548245743669}, {\"x\": 15.0, \"y\": 0.0, \"type\": \"leaf\", \"id\": 22, \"cluster_id\": null, \"edgecolor\": \"#ff7f0e\", \"label\": \"\", \"hovertext\": {\"# of items\": \"1\", \"linkage id\": 22}, \"fillcolor\": \"#ff7f0e\", \"radius\": 4.0, \"opacity\": 1.0, \"labelsize\": 10.0, \"labelcolor\": \"#fff\", \"_default_leaf_radius\": 4.0, \"_default_leaf_radius_if_cluster\": 7.0, \"size\": 50.26548245743669}, {\"x\": 25.0, \"y\": 0.0, \"type\": \"leaf\", \"id\": 14, \"cluster_id\": null, \"edgecolor\": \"#ff7f0e\", \"label\": \"\", \"hovertext\": {\"# of items\": \"1\", \"linkage id\": 14}, \"fillcolor\": \"#ff7f0e\", \"radius\": 4.0, \"opacity\": 1.0, \"labelsize\": 10.0, \"labelcolor\": \"#fff\", \"_default_leaf_radius\": 4.0, \"_default_leaf_radius_if_cluster\": 7.0, \"size\": 50.26548245743669}, {\"x\": 35.0, \"y\": 0.0, \"type\": \"leaf\", \"id\": 15, \"cluster_id\": null, \"edgecolor\": \"#ff7f0e\", \"label\": \"\", \"hovertext\": {\"# of items\": \"1\", \"linkage id\": 15}, \"fillcolor\": \"#ff7f0e\", \"radius\": 4.0, \"opacity\": 1.0, \"labelsize\": 10.0, \"labelcolor\": \"#fff\", \"_default_leaf_radius\": 4.0, \"_default_leaf_radius_if_cluster\": 7.0, \"size\": 50.26548245743669}, {\"x\": 45.0, \"y\": 0.0, \"type\": \"leaf\", \"id\": 263, \"cluster_id\": null, \"edgecolor\": \"#ff7f0e\", \"label\": \"\", \"hovertext\": {\"# of items\": \"46\", \"linkage id\": 263}, \"fillcolor\": \"#ff7f0e\", \"radius\": 4.0, \"opacity\": 1.0, \"labelsize\": 10.0, \"labelcolor\": \"#fff\", \"_default_leaf_radius\": 4.0, \"_default_leaf_radius_if_cluster\": 7.0, \"size\": 50.26548245743669}, {\"x\": 55.0, \"y\": 0.0, \"type\": \"leaf\", \"id\": 117, \"cluster_id\": null, \"edgecolor\": \"#2ca02c\", \"label\": \"\", \"hovertext\": {\"# of items\": \"1\", \"linkage id\": 117}, \"fillcolor\": \"#2ca02c\", \"radius\": 4.0, \"opacity\": 1.0, \"labelsize\": 10.0, \"labelcolor\": \"#fff\", \"_default_leaf_radius\": 4.0, \"_default_leaf_radius_if_cluster\": 7.0, \"size\": 50.26548245743669}, {\"x\": 65.0, \"y\": 0.0, \"type\": \"leaf\", \"id\": 131, \"cluster_id\": null, \"edgecolor\": \"#2ca02c\", \"label\": \"\", \"hovertext\": {\"# of items\": \"1\", \"linkage id\": 131}, \"fillcolor\": \"#2ca02c\", \"radius\": 4.0, \"opacity\": 1.0, \"labelsize\": 10.0, \"labelcolor\": \"#fff\", \"_default_leaf_radius\": 4.0, \"_default_leaf_radius_if_cluster\": 7.0, \"size\": 50.26548245743669}, {\"x\": 75.0, \"y\": 0.0, \"type\": \"leaf\", \"id\": 106, \"cluster_id\": null, \"edgecolor\": \"#d62728\", \"label\": \"\", \"hovertext\": {\"# of items\": \"1\", \"linkage id\": 106}, \"fillcolor\": \"#d62728\", \"radius\": 4.0, \"opacity\": 1.0, \"labelsize\": 10.0, \"labelcolor\": \"#fff\", \"_default_leaf_radius\": 4.0, \"_default_leaf_radius_if_cluster\": 7.0, \"size\": 50.26548245743669}, {\"x\": 85.0, \"y\": 0.0, \"type\": \"leaf\", \"id\": 98, \"cluster_id\": null, \"edgecolor\": \"#d62728\", \"label\": \"\", \"hovertext\": {\"# of items\": \"1\", \"linkage id\": 98}, \"fillcolor\": \"#d62728\", \"radius\": 4.0, \"opacity\": 1.0, \"labelsize\": 10.0, \"labelcolor\": \"#fff\", \"_default_leaf_radius\": 4.0, \"_default_leaf_radius_if_cluster\": 7.0, \"size\": 50.26548245743669}, {\"x\": 95.0, \"y\": 0.0, \"type\": \"leaf\", \"id\": 265, \"cluster_id\": null, \"edgecolor\": \"#d62728\", \"label\": \"\", \"hovertext\": {\"# of items\": \"3\", \"linkage id\": 265}, \"fillcolor\": \"#d62728\", \"radius\": 4.0, \"opacity\": 1.0, \"labelsize\": 10.0, \"labelcolor\": \"#fff\", \"_default_leaf_radius\": 4.0, \"_default_leaf_radius_if_cluster\": 7.0, \"size\": 50.26548245743669}, {\"x\": 105.0, \"y\": 0.0, \"type\": \"leaf\", \"id\": 109, \"cluster_id\": null, \"edgecolor\": \"#d62728\", \"label\": \"\", \"hovertext\": {\"# of items\": \"1\", \"linkage id\": 109}, \"fillcolor\": \"#d62728\", \"radius\": 4.0, \"opacity\": 1.0, \"labelsize\": 10.0, \"labelcolor\": \"#fff\", \"_default_leaf_radius\": 4.0, \"_default_leaf_radius_if_cluster\": 7.0, \"size\": 50.26548245743669}, {\"x\": 115.0, \"y\": 0.0, \"type\": \"leaf\", \"id\": 292, \"cluster_id\": null, \"edgecolor\": \"#d62728\", \"label\": \"\", \"hovertext\": {\"# of items\": \"92\", \"linkage id\": 292}, \"fillcolor\": \"#d62728\", \"radius\": 4.0, \"opacity\": 1.0, \"labelsize\": 10.0, \"labelcolor\": \"#fff\", \"_default_leaf_radius\": 4.0, \"_default_leaf_radius_if_cluster\": 7.0, \"size\": 50.26548245743669}, {\"x\": 40.0, \"y\": 0.3605551275463992, \"type\": \"subcluster\", \"id\": 269, \"cluster_id\": null, \"edgecolor\": \"#ff7f0e\", \"label\": \"\", \"hovertext\": {\"# of items\": \"47\", \"linkage id\": 269}, \"fillcolor\": \"#fff\", \"radius\": 7.0, \"opacity\": 1.0, \"labelsize\": 10.0, \"labelcolor\": \"#fff\", \"_default_leaf_radius\": 4.0, \"_default_leaf_radius_if_cluster\": 7.0, \"size\": 153.93804002589985}, {\"x\": 32.5, \"y\": 0.412310562561766, \"type\": \"subcluster\", \"id\": 278, \"cluster_id\": null, \"edgecolor\": \"#ff7f0e\", \"label\": \"\", \"hovertext\": {\"# of items\": \"48\", \"linkage id\": 278}, \"fillcolor\": \"#fff\", \"radius\": 7.0, \"opacity\": 1.0, \"labelsize\": 10.0, \"labelcolor\": \"#fff\", \"_default_leaf_radius\": 4.0, \"_default_leaf_radius_if_cluster\": 7.0, \"size\": 153.93804002589985}, {\"x\": 23.75, \"y\": 0.45825756949558394, \"type\": \"subcluster\", \"id\": 285, \"cluster_id\": null, \"edgecolor\": \"#ff7f0e\", \"label\": \"\", \"hovertext\": {\"# of items\": \"49\", \"linkage id\": 285}, \"fillcolor\": \"#fff\", \"radius\": 7.0, \"opacity\": 1.0, \"labelsize\": 10.0, \"labelcolor\": \"#fff\", \"_default_leaf_radius\": 4.0, \"_default_leaf_radius_if_cluster\": 7.0, \"size\": 153.93804002589985}, {\"x\": 14.375, \"y\": 0.6244997998398398, \"type\": \"cluster\", \"id\": 293, \"cluster_id\": 1.0, \"edgecolor\": \"#ff7f0e\", \"label\": \"1\", \"hovertext\": {\"# of items\": \"50\", \"linkage id\": 293}, \"fillcolor\": \"#ff7f0e\", \"radius\": 7.0, \"opacity\": 1.0, \"labelsize\": 10.0, \"labelcolor\": \"#fff\", \"_default_leaf_radius\": 4.0, \"_default_leaf_radius_if_cluster\": 7.0, \"size\": 153.93804002589985}, {\"x\": 60.0, \"y\": 0.4123105625617661, \"type\": \"cluster\", \"id\": 279, \"cluster_id\": 2.0, \"edgecolor\": \"#2ca02c\", \"label\": \"2\", \"hovertext\": {\"# of items\": \"2\", \"linkage id\": 279}, \"fillcolor\": \"#2ca02c\", \"radius\": 7.0, \"opacity\": 1.0, \"labelsize\": 10.0, \"labelcolor\": \"#fff\", \"_default_leaf_radius\": 4.0, \"_default_leaf_radius_if_cluster\": 7.0, \"size\": 153.93804002589985}, {\"x\": 90.0, \"y\": 0.3872983346207412, \"type\": \"subcluster\", \"id\": 273, \"cluster_id\": null, \"edgecolor\": \"#d62728\", \"label\": \"\", \"hovertext\": {\"# of items\": \"4\", \"linkage id\": 273}, \"fillcolor\": \"#fff\", \"radius\": 7.0, \"opacity\": 1.0, \"labelsize\": 10.0, \"labelcolor\": \"#fff\", \"_default_leaf_radius\": 4.0, \"_default_leaf_radius_if_cluster\": 7.0, \"size\": 153.93804002589985}, {\"x\": 110.0, \"y\": 0.6324555320336759, \"type\": \"subcluster\", \"id\": 294, \"cluster_id\": null, \"edgecolor\": \"#d62728\", \"label\": \"\", \"hovertext\": {\"# of items\": \"93\", \"linkage id\": 294}, \"fillcolor\": \"#fff\", \"radius\": 7.0, \"opacity\": 1.0, \"labelsize\": 10.0, \"labelcolor\": \"#fff\", \"_default_leaf_radius\": 4.0, \"_default_leaf_radius_if_cluster\": 7.0, \"size\": 153.93804002589985}, {\"x\": 100.0, \"y\": 0.6480740698407862, \"type\": \"subcluster\", \"id\": 295, \"cluster_id\": null, \"edgecolor\": \"#d62728\", \"label\": \"\", \"hovertext\": {\"# of items\": \"97\", \"linkage id\": 295}, \"fillcolor\": \"#fff\", \"radius\": 7.0, \"opacity\": 1.0, \"labelsize\": 10.0, \"labelcolor\": \"#fff\", \"_default_leaf_radius\": 4.0, \"_default_leaf_radius_if_cluster\": 7.0, \"size\": 153.93804002589985}, {\"x\": 87.5, \"y\": 0.7348469228349535, \"type\": \"cluster\", \"id\": 296, \"cluster_id\": 3.0, \"edgecolor\": \"#d62728\", \"label\": \"3\", \"hovertext\": {\"# of items\": \"98\", \"linkage id\": 296}, \"fillcolor\": \"#d62728\", \"radius\": 7.0, \"opacity\": 1.0, \"labelsize\": 10.0, \"labelcolor\": \"#fff\", \"_default_leaf_radius\": 4.0, \"_default_leaf_radius_if_cluster\": 7.0, \"size\": 153.93804002589985}, {\"x\": 73.75, \"y\": 0.818535277187245, \"type\": \"supercluster\", \"id\": 297, \"cluster_id\": null, \"edgecolor\": \"#1f77b4\", \"label\": \"\", \"hovertext\": {\"# of items\": \"100\", \"linkage id\": 297}, \"fillcolor\": \"#1f77b4\", \"radius\": 7.0, \"opacity\": 1.0, \"labelsize\": 10.0, \"labelcolor\": \"#fff\", \"_default_leaf_radius\": 4.0, \"_default_leaf_radius_if_cluster\": 7.0, \"size\": 153.93804002589985}, {\"x\": 44.0625, \"y\": 1.6401219466856727, \"type\": \"supercluster\", \"id\": 298, \"cluster_id\": null, \"edgecolor\": \"#1f77b4\", \"label\": \"\", \"hovertext\": {\"# of items\": \"150\", \"linkage id\": 298}, \"fillcolor\": \"#1f77b4\", \"radius\": 7.0, \"opacity\": 1.0, \"labelsize\": 10.0, \"labelcolor\": \"#fff\", \"_default_leaf_radius\": 4.0, \"_default_leaf_radius_if_cluster\": 7.0, \"size\": 153.93804002589985}]}}, {\"actions\": false, \"mode\": \"vega-lite\"});\n",
       "</script>"
      ],
      "text/plain": [
       "alt.LayerChart(...)"
      ]
     },
     "metadata": {},
     "output_type": "display_data"
    }
   ],
   "source": [
    "dendrogram.plot(\n",
    "    backend='altair',\n",
    "    height=200, width=629,    \n",
    ")"
   ]
  },
  {
   "attachments": {},
   "cell_type": "markdown",
   "metadata": {},
   "source": [
    "### Plotly"
   ]
  },
  {
   "cell_type": "code",
   "execution_count": null,
   "metadata": {},
   "outputs": [
    {
     "data": {
      "application/vnd.plotly.v1+json": {
       "config": {
        "plotlyServerURL": "https://plot.ly"
       },
       "data": [
        {
         "hoverinfo": "text",
         "line": {
          "color": "#ff7f0e",
          "dash": "1, 0",
          "width": 1
         },
         "mode": "lines",
         "opacity": 1,
         "type": "scatter",
         "x": [
          35,
          35,
          45,
          45
         ],
         "y": [
          0,
          0.3605551275463992,
          0.3605551275463992,
          0
         ]
        },
        {
         "hoverinfo": "text",
         "line": {
          "color": "#ff7f0e",
          "dash": "1, 0",
          "width": 1
         },
         "mode": "lines",
         "opacity": 1,
         "type": "scatter",
         "x": [
          25,
          25,
          40,
          40
         ],
         "y": [
          0,
          0.412310562561766,
          0.412310562561766,
          0.3605551275463992
         ]
        },
        {
         "hoverinfo": "text",
         "line": {
          "color": "#ff7f0e",
          "dash": "1, 0",
          "width": 1
         },
         "mode": "lines",
         "opacity": 1,
         "type": "scatter",
         "x": [
          15,
          15,
          32.5,
          32.5
         ],
         "y": [
          0,
          0.45825756949558394,
          0.45825756949558394,
          0.412310562561766
         ]
        },
        {
         "hoverinfo": "text",
         "line": {
          "color": "#ff7f0e",
          "dash": "1, 0",
          "width": 1
         },
         "mode": "lines",
         "opacity": 1,
         "type": "scatter",
         "x": [
          5,
          5,
          23.75,
          23.75
         ],
         "y": [
          0,
          0.6244997998398398,
          0.6244997998398398,
          0.45825756949558394
         ]
        },
        {
         "hoverinfo": "text",
         "line": {
          "color": "#2ca02c",
          "dash": "1, 0",
          "width": 1
         },
         "mode": "lines",
         "opacity": 1,
         "type": "scatter",
         "x": [
          55,
          55,
          65,
          65
         ],
         "y": [
          0,
          0.4123105625617661,
          0.4123105625617661,
          0
         ]
        },
        {
         "hoverinfo": "text",
         "line": {
          "color": "#d62728",
          "dash": "1, 0",
          "width": 1
         },
         "mode": "lines",
         "opacity": 1,
         "type": "scatter",
         "x": [
          85,
          85,
          95,
          95
         ],
         "y": [
          0,
          0.3872983346207412,
          0.3872983346207412,
          0
         ]
        },
        {
         "hoverinfo": "text",
         "line": {
          "color": "#d62728",
          "dash": "1, 0",
          "width": 1
         },
         "mode": "lines",
         "opacity": 1,
         "type": "scatter",
         "x": [
          105,
          105,
          115,
          115
         ],
         "y": [
          0,
          0.6324555320336759,
          0.6324555320336759,
          0
         ]
        },
        {
         "hoverinfo": "text",
         "line": {
          "color": "#d62728",
          "dash": "1, 0",
          "width": 1
         },
         "mode": "lines",
         "opacity": 1,
         "type": "scatter",
         "x": [
          90,
          90,
          110,
          110
         ],
         "y": [
          0.3872983346207412,
          0.6480740698407862,
          0.6480740698407862,
          0.6324555320336759
         ]
        },
        {
         "hoverinfo": "text",
         "line": {
          "color": "#d62728",
          "dash": "1, 0",
          "width": 1
         },
         "mode": "lines",
         "opacity": 1,
         "type": "scatter",
         "x": [
          75,
          75,
          100,
          100
         ],
         "y": [
          0,
          0.7348469228349535,
          0.7348469228349535,
          0.6480740698407862
         ]
        },
        {
         "hoverinfo": "text",
         "line": {
          "color": "#1f77b4",
          "dash": "1, 0",
          "width": 1
         },
         "mode": "lines",
         "opacity": 1,
         "type": "scatter",
         "x": [
          60,
          60,
          87.5,
          87.5
         ],
         "y": [
          0.4123105625617661,
          0.818535277187245,
          0.818535277187245,
          0.7348469228349535
         ]
        },
        {
         "hoverinfo": "text",
         "line": {
          "color": "#1f77b4",
          "dash": "1, 0",
          "width": 1
         },
         "mode": "lines",
         "opacity": 1,
         "type": "scatter",
         "x": [
          14.375,
          14.375,
          73.75,
          73.75
         ],
         "y": [
          0.6244997998398398,
          1.6401219466856727,
          1.6401219466856727,
          0.818535277187245
         ]
        },
        {
         "hoverinfo": "text",
         "hovertext": "<b># of items</b> : 1<br><b>linkage id</b> : 41",
         "marker": {
          "color": "#ff7f0e",
          "line": {
           "color": "#ff7f0e",
           "width": 2
          },
          "size": 8
         },
         "mode": "markers+text",
         "opacity": 1,
         "text": "",
         "textfont": {
          "color": "#fff",
          "size": 10
         },
         "type": "scatter",
         "x": [
          5
         ],
         "y": [
          0
         ]
        },
        {
         "hoverinfo": "text",
         "hovertext": "<b># of items</b> : 1<br><b>linkage id</b> : 22",
         "marker": {
          "color": "#ff7f0e",
          "line": {
           "color": "#ff7f0e",
           "width": 2
          },
          "size": 8
         },
         "mode": "markers+text",
         "opacity": 1,
         "text": "",
         "textfont": {
          "color": "#fff",
          "size": 10
         },
         "type": "scatter",
         "x": [
          15
         ],
         "y": [
          0
         ]
        },
        {
         "hoverinfo": "text",
         "hovertext": "<b># of items</b> : 1<br><b>linkage id</b> : 14",
         "marker": {
          "color": "#ff7f0e",
          "line": {
           "color": "#ff7f0e",
           "width": 2
          },
          "size": 8
         },
         "mode": "markers+text",
         "opacity": 1,
         "text": "",
         "textfont": {
          "color": "#fff",
          "size": 10
         },
         "type": "scatter",
         "x": [
          25
         ],
         "y": [
          0
         ]
        },
        {
         "hoverinfo": "text",
         "hovertext": "<b># of items</b> : 1<br><b>linkage id</b> : 15",
         "marker": {
          "color": "#ff7f0e",
          "line": {
           "color": "#ff7f0e",
           "width": 2
          },
          "size": 8
         },
         "mode": "markers+text",
         "opacity": 1,
         "text": "",
         "textfont": {
          "color": "#fff",
          "size": 10
         },
         "type": "scatter",
         "x": [
          35
         ],
         "y": [
          0
         ]
        },
        {
         "hoverinfo": "text",
         "hovertext": "<b># of items</b> : 46<br><b>linkage id</b> : 263",
         "marker": {
          "color": "#ff7f0e",
          "line": {
           "color": "#ff7f0e",
           "width": 2
          },
          "size": 8
         },
         "mode": "markers+text",
         "opacity": 1,
         "text": "",
         "textfont": {
          "color": "#fff",
          "size": 10
         },
         "type": "scatter",
         "x": [
          45
         ],
         "y": [
          0
         ]
        },
        {
         "hoverinfo": "text",
         "hovertext": "<b># of items</b> : 1<br><b>linkage id</b> : 117",
         "marker": {
          "color": "#2ca02c",
          "line": {
           "color": "#2ca02c",
           "width": 2
          },
          "size": 8
         },
         "mode": "markers+text",
         "opacity": 1,
         "text": "",
         "textfont": {
          "color": "#fff",
          "size": 10
         },
         "type": "scatter",
         "x": [
          55
         ],
         "y": [
          0
         ]
        },
        {
         "hoverinfo": "text",
         "hovertext": "<b># of items</b> : 1<br><b>linkage id</b> : 131",
         "marker": {
          "color": "#2ca02c",
          "line": {
           "color": "#2ca02c",
           "width": 2
          },
          "size": 8
         },
         "mode": "markers+text",
         "opacity": 1,
         "text": "",
         "textfont": {
          "color": "#fff",
          "size": 10
         },
         "type": "scatter",
         "x": [
          65
         ],
         "y": [
          0
         ]
        },
        {
         "hoverinfo": "text",
         "hovertext": "<b># of items</b> : 1<br><b>linkage id</b> : 106",
         "marker": {
          "color": "#d62728",
          "line": {
           "color": "#d62728",
           "width": 2
          },
          "size": 8
         },
         "mode": "markers+text",
         "opacity": 1,
         "text": "",
         "textfont": {
          "color": "#fff",
          "size": 10
         },
         "type": "scatter",
         "x": [
          75
         ],
         "y": [
          0
         ]
        },
        {
         "hoverinfo": "text",
         "hovertext": "<b># of items</b> : 1<br><b>linkage id</b> : 98",
         "marker": {
          "color": "#d62728",
          "line": {
           "color": "#d62728",
           "width": 2
          },
          "size": 8
         },
         "mode": "markers+text",
         "opacity": 1,
         "text": "",
         "textfont": {
          "color": "#fff",
          "size": 10
         },
         "type": "scatter",
         "x": [
          85
         ],
         "y": [
          0
         ]
        },
        {
         "hoverinfo": "text",
         "hovertext": "<b># of items</b> : 3<br><b>linkage id</b> : 265",
         "marker": {
          "color": "#d62728",
          "line": {
           "color": "#d62728",
           "width": 2
          },
          "size": 8
         },
         "mode": "markers+text",
         "opacity": 1,
         "text": "",
         "textfont": {
          "color": "#fff",
          "size": 10
         },
         "type": "scatter",
         "x": [
          95
         ],
         "y": [
          0
         ]
        },
        {
         "hoverinfo": "text",
         "hovertext": "<b># of items</b> : 1<br><b>linkage id</b> : 109",
         "marker": {
          "color": "#d62728",
          "line": {
           "color": "#d62728",
           "width": 2
          },
          "size": 8
         },
         "mode": "markers+text",
         "opacity": 1,
         "text": "",
         "textfont": {
          "color": "#fff",
          "size": 10
         },
         "type": "scatter",
         "x": [
          105
         ],
         "y": [
          0
         ]
        },
        {
         "hoverinfo": "text",
         "hovertext": "<b># of items</b> : 92<br><b>linkage id</b> : 292",
         "marker": {
          "color": "#d62728",
          "line": {
           "color": "#d62728",
           "width": 2
          },
          "size": 8
         },
         "mode": "markers+text",
         "opacity": 1,
         "text": "",
         "textfont": {
          "color": "#fff",
          "size": 10
         },
         "type": "scatter",
         "x": [
          115
         ],
         "y": [
          0
         ]
        },
        {
         "hoverinfo": "text",
         "hovertext": "<b># of items</b> : 47<br><b>linkage id</b> : 269",
         "marker": {
          "color": "#fff",
          "line": {
           "color": "#ff7f0e",
           "width": 2
          },
          "size": 14
         },
         "mode": "markers+text",
         "opacity": 1,
         "text": "",
         "textfont": {
          "color": "#fff",
          "size": 10
         },
         "type": "scatter",
         "x": [
          40
         ],
         "y": [
          0.3605551275463992
         ]
        },
        {
         "hoverinfo": "text",
         "hovertext": "<b># of items</b> : 48<br><b>linkage id</b> : 278",
         "marker": {
          "color": "#fff",
          "line": {
           "color": "#ff7f0e",
           "width": 2
          },
          "size": 14
         },
         "mode": "markers+text",
         "opacity": 1,
         "text": "",
         "textfont": {
          "color": "#fff",
          "size": 10
         },
         "type": "scatter",
         "x": [
          32.5
         ],
         "y": [
          0.412310562561766
         ]
        },
        {
         "hoverinfo": "text",
         "hovertext": "<b># of items</b> : 49<br><b>linkage id</b> : 285",
         "marker": {
          "color": "#fff",
          "line": {
           "color": "#ff7f0e",
           "width": 2
          },
          "size": 14
         },
         "mode": "markers+text",
         "opacity": 1,
         "text": "",
         "textfont": {
          "color": "#fff",
          "size": 10
         },
         "type": "scatter",
         "x": [
          23.75
         ],
         "y": [
          0.45825756949558394
         ]
        },
        {
         "hoverinfo": "text",
         "hovertext": "<b># of items</b> : 50<br><b>linkage id</b> : 293",
         "marker": {
          "color": "#ff7f0e",
          "line": {
           "color": "#ff7f0e",
           "width": 2
          },
          "size": 14
         },
         "mode": "markers+text",
         "opacity": 1,
         "text": "1",
         "textfont": {
          "color": "#fff",
          "size": 10
         },
         "type": "scatter",
         "x": [
          14.375
         ],
         "y": [
          0.6244997998398398
         ]
        },
        {
         "hoverinfo": "text",
         "hovertext": "<b># of items</b> : 2<br><b>linkage id</b> : 279",
         "marker": {
          "color": "#2ca02c",
          "line": {
           "color": "#2ca02c",
           "width": 2
          },
          "size": 14
         },
         "mode": "markers+text",
         "opacity": 1,
         "text": "2",
         "textfont": {
          "color": "#fff",
          "size": 10
         },
         "type": "scatter",
         "x": [
          60
         ],
         "y": [
          0.4123105625617661
         ]
        },
        {
         "hoverinfo": "text",
         "hovertext": "<b># of items</b> : 4<br><b>linkage id</b> : 273",
         "marker": {
          "color": "#fff",
          "line": {
           "color": "#d62728",
           "width": 2
          },
          "size": 14
         },
         "mode": "markers+text",
         "opacity": 1,
         "text": "",
         "textfont": {
          "color": "#fff",
          "size": 10
         },
         "type": "scatter",
         "x": [
          90
         ],
         "y": [
          0.3872983346207412
         ]
        },
        {
         "hoverinfo": "text",
         "hovertext": "<b># of items</b> : 93<br><b>linkage id</b> : 294",
         "marker": {
          "color": "#fff",
          "line": {
           "color": "#d62728",
           "width": 2
          },
          "size": 14
         },
         "mode": "markers+text",
         "opacity": 1,
         "text": "",
         "textfont": {
          "color": "#fff",
          "size": 10
         },
         "type": "scatter",
         "x": [
          110
         ],
         "y": [
          0.6324555320336759
         ]
        },
        {
         "hoverinfo": "text",
         "hovertext": "<b># of items</b> : 97<br><b>linkage id</b> : 295",
         "marker": {
          "color": "#fff",
          "line": {
           "color": "#d62728",
           "width": 2
          },
          "size": 14
         },
         "mode": "markers+text",
         "opacity": 1,
         "text": "",
         "textfont": {
          "color": "#fff",
          "size": 10
         },
         "type": "scatter",
         "x": [
          100
         ],
         "y": [
          0.6480740698407862
         ]
        },
        {
         "hoverinfo": "text",
         "hovertext": "<b># of items</b> : 98<br><b>linkage id</b> : 296",
         "marker": {
          "color": "#d62728",
          "line": {
           "color": "#d62728",
           "width": 2
          },
          "size": 14
         },
         "mode": "markers+text",
         "opacity": 1,
         "text": "3",
         "textfont": {
          "color": "#fff",
          "size": 10
         },
         "type": "scatter",
         "x": [
          87.5
         ],
         "y": [
          0.7348469228349535
         ]
        },
        {
         "hoverinfo": "text",
         "hovertext": "<b># of items</b> : 100<br><b>linkage id</b> : 297",
         "marker": {
          "color": "#1f77b4",
          "line": {
           "color": "#1f77b4",
           "width": 2
          },
          "size": 14
         },
         "mode": "markers+text",
         "opacity": 1,
         "text": "",
         "textfont": {
          "color": "#fff",
          "size": 10
         },
         "type": "scatter",
         "x": [
          73.75
         ],
         "y": [
          0.818535277187245
         ]
        },
        {
         "hoverinfo": "text",
         "hovertext": "<b># of items</b> : 150<br><b>linkage id</b> : 298",
         "marker": {
          "color": "#1f77b4",
          "line": {
           "color": "#1f77b4",
           "width": 2
          },
          "size": 14
         },
         "mode": "markers+text",
         "opacity": 1,
         "text": "",
         "textfont": {
          "color": "#fff",
          "size": 10
         },
         "type": "scatter",
         "x": [
          44.0625
         ],
         "y": [
          1.6401219466856727
         ]
        }
       ],
       "layout": {
        "autosize": false,
        "height": 400,
        "hovermode": "closest",
        "showlegend": false,
        "template": {
         "data": {
          "bar": [
           {
            "error_x": {
             "color": "#2a3f5f"
            },
            "error_y": {
             "color": "#2a3f5f"
            },
            "marker": {
             "line": {
              "color": "#E5ECF6",
              "width": 0.5
             },
             "pattern": {
              "fillmode": "overlay",
              "size": 10,
              "solidity": 0.2
             }
            },
            "type": "bar"
           }
          ],
          "barpolar": [
           {
            "marker": {
             "line": {
              "color": "#E5ECF6",
              "width": 0.5
             },
             "pattern": {
              "fillmode": "overlay",
              "size": 10,
              "solidity": 0.2
             }
            },
            "type": "barpolar"
           }
          ],
          "carpet": [
           {
            "aaxis": {
             "endlinecolor": "#2a3f5f",
             "gridcolor": "white",
             "linecolor": "white",
             "minorgridcolor": "white",
             "startlinecolor": "#2a3f5f"
            },
            "baxis": {
             "endlinecolor": "#2a3f5f",
             "gridcolor": "white",
             "linecolor": "white",
             "minorgridcolor": "white",
             "startlinecolor": "#2a3f5f"
            },
            "type": "carpet"
           }
          ],
          "choropleth": [
           {
            "colorbar": {
             "outlinewidth": 0,
             "ticks": ""
            },
            "type": "choropleth"
           }
          ],
          "contour": [
           {
            "colorbar": {
             "outlinewidth": 0,
             "ticks": ""
            },
            "colorscale": [
             [
              0,
              "#0d0887"
             ],
             [
              0.1111111111111111,
              "#46039f"
             ],
             [
              0.2222222222222222,
              "#7201a8"
             ],
             [
              0.3333333333333333,
              "#9c179e"
             ],
             [
              0.4444444444444444,
              "#bd3786"
             ],
             [
              0.5555555555555556,
              "#d8576b"
             ],
             [
              0.6666666666666666,
              "#ed7953"
             ],
             [
              0.7777777777777778,
              "#fb9f3a"
             ],
             [
              0.8888888888888888,
              "#fdca26"
             ],
             [
              1,
              "#f0f921"
             ]
            ],
            "type": "contour"
           }
          ],
          "contourcarpet": [
           {
            "colorbar": {
             "outlinewidth": 0,
             "ticks": ""
            },
            "type": "contourcarpet"
           }
          ],
          "heatmap": [
           {
            "colorbar": {
             "outlinewidth": 0,
             "ticks": ""
            },
            "colorscale": [
             [
              0,
              "#0d0887"
             ],
             [
              0.1111111111111111,
              "#46039f"
             ],
             [
              0.2222222222222222,
              "#7201a8"
             ],
             [
              0.3333333333333333,
              "#9c179e"
             ],
             [
              0.4444444444444444,
              "#bd3786"
             ],
             [
              0.5555555555555556,
              "#d8576b"
             ],
             [
              0.6666666666666666,
              "#ed7953"
             ],
             [
              0.7777777777777778,
              "#fb9f3a"
             ],
             [
              0.8888888888888888,
              "#fdca26"
             ],
             [
              1,
              "#f0f921"
             ]
            ],
            "type": "heatmap"
           }
          ],
          "heatmapgl": [
           {
            "colorbar": {
             "outlinewidth": 0,
             "ticks": ""
            },
            "colorscale": [
             [
              0,
              "#0d0887"
             ],
             [
              0.1111111111111111,
              "#46039f"
             ],
             [
              0.2222222222222222,
              "#7201a8"
             ],
             [
              0.3333333333333333,
              "#9c179e"
             ],
             [
              0.4444444444444444,
              "#bd3786"
             ],
             [
              0.5555555555555556,
              "#d8576b"
             ],
             [
              0.6666666666666666,
              "#ed7953"
             ],
             [
              0.7777777777777778,
              "#fb9f3a"
             ],
             [
              0.8888888888888888,
              "#fdca26"
             ],
             [
              1,
              "#f0f921"
             ]
            ],
            "type": "heatmapgl"
           }
          ],
          "histogram": [
           {
            "marker": {
             "pattern": {
              "fillmode": "overlay",
              "size": 10,
              "solidity": 0.2
             }
            },
            "type": "histogram"
           }
          ],
          "histogram2d": [
           {
            "colorbar": {
             "outlinewidth": 0,
             "ticks": ""
            },
            "colorscale": [
             [
              0,
              "#0d0887"
             ],
             [
              0.1111111111111111,
              "#46039f"
             ],
             [
              0.2222222222222222,
              "#7201a8"
             ],
             [
              0.3333333333333333,
              "#9c179e"
             ],
             [
              0.4444444444444444,
              "#bd3786"
             ],
             [
              0.5555555555555556,
              "#d8576b"
             ],
             [
              0.6666666666666666,
              "#ed7953"
             ],
             [
              0.7777777777777778,
              "#fb9f3a"
             ],
             [
              0.8888888888888888,
              "#fdca26"
             ],
             [
              1,
              "#f0f921"
             ]
            ],
            "type": "histogram2d"
           }
          ],
          "histogram2dcontour": [
           {
            "colorbar": {
             "outlinewidth": 0,
             "ticks": ""
            },
            "colorscale": [
             [
              0,
              "#0d0887"
             ],
             [
              0.1111111111111111,
              "#46039f"
             ],
             [
              0.2222222222222222,
              "#7201a8"
             ],
             [
              0.3333333333333333,
              "#9c179e"
             ],
             [
              0.4444444444444444,
              "#bd3786"
             ],
             [
              0.5555555555555556,
              "#d8576b"
             ],
             [
              0.6666666666666666,
              "#ed7953"
             ],
             [
              0.7777777777777778,
              "#fb9f3a"
             ],
             [
              0.8888888888888888,
              "#fdca26"
             ],
             [
              1,
              "#f0f921"
             ]
            ],
            "type": "histogram2dcontour"
           }
          ],
          "mesh3d": [
           {
            "colorbar": {
             "outlinewidth": 0,
             "ticks": ""
            },
            "type": "mesh3d"
           }
          ],
          "parcoords": [
           {
            "line": {
             "colorbar": {
              "outlinewidth": 0,
              "ticks": ""
             }
            },
            "type": "parcoords"
           }
          ],
          "pie": [
           {
            "automargin": true,
            "type": "pie"
           }
          ],
          "scatter": [
           {
            "fillpattern": {
             "fillmode": "overlay",
             "size": 10,
             "solidity": 0.2
            },
            "type": "scatter"
           }
          ],
          "scatter3d": [
           {
            "line": {
             "colorbar": {
              "outlinewidth": 0,
              "ticks": ""
             }
            },
            "marker": {
             "colorbar": {
              "outlinewidth": 0,
              "ticks": ""
             }
            },
            "type": "scatter3d"
           }
          ],
          "scattercarpet": [
           {
            "marker": {
             "colorbar": {
              "outlinewidth": 0,
              "ticks": ""
             }
            },
            "type": "scattercarpet"
           }
          ],
          "scattergeo": [
           {
            "marker": {
             "colorbar": {
              "outlinewidth": 0,
              "ticks": ""
             }
            },
            "type": "scattergeo"
           }
          ],
          "scattergl": [
           {
            "marker": {
             "colorbar": {
              "outlinewidth": 0,
              "ticks": ""
             }
            },
            "type": "scattergl"
           }
          ],
          "scattermapbox": [
           {
            "marker": {
             "colorbar": {
              "outlinewidth": 0,
              "ticks": ""
             }
            },
            "type": "scattermapbox"
           }
          ],
          "scatterpolar": [
           {
            "marker": {
             "colorbar": {
              "outlinewidth": 0,
              "ticks": ""
             }
            },
            "type": "scatterpolar"
           }
          ],
          "scatterpolargl": [
           {
            "marker": {
             "colorbar": {
              "outlinewidth": 0,
              "ticks": ""
             }
            },
            "type": "scatterpolargl"
           }
          ],
          "scatterternary": [
           {
            "marker": {
             "colorbar": {
              "outlinewidth": 0,
              "ticks": ""
             }
            },
            "type": "scatterternary"
           }
          ],
          "surface": [
           {
            "colorbar": {
             "outlinewidth": 0,
             "ticks": ""
            },
            "colorscale": [
             [
              0,
              "#0d0887"
             ],
             [
              0.1111111111111111,
              "#46039f"
             ],
             [
              0.2222222222222222,
              "#7201a8"
             ],
             [
              0.3333333333333333,
              "#9c179e"
             ],
             [
              0.4444444444444444,
              "#bd3786"
             ],
             [
              0.5555555555555556,
              "#d8576b"
             ],
             [
              0.6666666666666666,
              "#ed7953"
             ],
             [
              0.7777777777777778,
              "#fb9f3a"
             ],
             [
              0.8888888888888888,
              "#fdca26"
             ],
             [
              1,
              "#f0f921"
             ]
            ],
            "type": "surface"
           }
          ],
          "table": [
           {
            "cells": {
             "fill": {
              "color": "#EBF0F8"
             },
             "line": {
              "color": "white"
             }
            },
            "header": {
             "fill": {
              "color": "#C8D4E3"
             },
             "line": {
              "color": "white"
             }
            },
            "type": "table"
           }
          ]
         },
         "layout": {
          "annotationdefaults": {
           "arrowcolor": "#2a3f5f",
           "arrowhead": 0,
           "arrowwidth": 1
          },
          "autotypenumbers": "strict",
          "coloraxis": {
           "colorbar": {
            "outlinewidth": 0,
            "ticks": ""
           }
          },
          "colorscale": {
           "diverging": [
            [
             0,
             "#8e0152"
            ],
            [
             0.1,
             "#c51b7d"
            ],
            [
             0.2,
             "#de77ae"
            ],
            [
             0.3,
             "#f1b6da"
            ],
            [
             0.4,
             "#fde0ef"
            ],
            [
             0.5,
             "#f7f7f7"
            ],
            [
             0.6,
             "#e6f5d0"
            ],
            [
             0.7,
             "#b8e186"
            ],
            [
             0.8,
             "#7fbc41"
            ],
            [
             0.9,
             "#4d9221"
            ],
            [
             1,
             "#276419"
            ]
           ],
           "sequential": [
            [
             0,
             "#0d0887"
            ],
            [
             0.1111111111111111,
             "#46039f"
            ],
            [
             0.2222222222222222,
             "#7201a8"
            ],
            [
             0.3333333333333333,
             "#9c179e"
            ],
            [
             0.4444444444444444,
             "#bd3786"
            ],
            [
             0.5555555555555556,
             "#d8576b"
            ],
            [
             0.6666666666666666,
             "#ed7953"
            ],
            [
             0.7777777777777778,
             "#fb9f3a"
            ],
            [
             0.8888888888888888,
             "#fdca26"
            ],
            [
             1,
             "#f0f921"
            ]
           ],
           "sequentialminus": [
            [
             0,
             "#0d0887"
            ],
            [
             0.1111111111111111,
             "#46039f"
            ],
            [
             0.2222222222222222,
             "#7201a8"
            ],
            [
             0.3333333333333333,
             "#9c179e"
            ],
            [
             0.4444444444444444,
             "#bd3786"
            ],
            [
             0.5555555555555556,
             "#d8576b"
            ],
            [
             0.6666666666666666,
             "#ed7953"
            ],
            [
             0.7777777777777778,
             "#fb9f3a"
            ],
            [
             0.8888888888888888,
             "#fdca26"
            ],
            [
             1,
             "#f0f921"
            ]
           ]
          },
          "colorway": [
           "#636efa",
           "#EF553B",
           "#00cc96",
           "#ab63fa",
           "#FFA15A",
           "#19d3f3",
           "#FF6692",
           "#B6E880",
           "#FF97FF",
           "#FECB52"
          ],
          "font": {
           "color": "#2a3f5f"
          },
          "geo": {
           "bgcolor": "white",
           "lakecolor": "white",
           "landcolor": "#E5ECF6",
           "showlakes": true,
           "showland": true,
           "subunitcolor": "white"
          },
          "hoverlabel": {
           "align": "left"
          },
          "hovermode": "closest",
          "mapbox": {
           "style": "light"
          },
          "paper_bgcolor": "white",
          "plot_bgcolor": "#E5ECF6",
          "polar": {
           "angularaxis": {
            "gridcolor": "white",
            "linecolor": "white",
            "ticks": ""
           },
           "bgcolor": "#E5ECF6",
           "radialaxis": {
            "gridcolor": "white",
            "linecolor": "white",
            "ticks": ""
           }
          },
          "scene": {
           "xaxis": {
            "backgroundcolor": "#E5ECF6",
            "gridcolor": "white",
            "gridwidth": 2,
            "linecolor": "white",
            "showbackground": true,
            "ticks": "",
            "zerolinecolor": "white"
           },
           "yaxis": {
            "backgroundcolor": "#E5ECF6",
            "gridcolor": "white",
            "gridwidth": 2,
            "linecolor": "white",
            "showbackground": true,
            "ticks": "",
            "zerolinecolor": "white"
           },
           "zaxis": {
            "backgroundcolor": "#E5ECF6",
            "gridcolor": "white",
            "gridwidth": 2,
            "linecolor": "white",
            "showbackground": true,
            "ticks": "",
            "zerolinecolor": "white"
           }
          },
          "shapedefaults": {
           "line": {
            "color": "#2a3f5f"
           }
          },
          "ternary": {
           "aaxis": {
            "gridcolor": "white",
            "linecolor": "white",
            "ticks": ""
           },
           "baxis": {
            "gridcolor": "white",
            "linecolor": "white",
            "ticks": ""
           },
           "bgcolor": "#E5ECF6",
           "caxis": {
            "gridcolor": "white",
            "linecolor": "white",
            "ticks": ""
           }
          },
          "title": {
           "x": 0.05
          },
          "xaxis": {
           "automargin": true,
           "gridcolor": "white",
           "linecolor": "white",
           "ticks": "",
           "title": {
            "standoff": 15
           },
           "zerolinecolor": "white",
           "zerolinewidth": 2
          },
          "yaxis": {
           "automargin": true,
           "gridcolor": "white",
           "linecolor": "white",
           "ticks": "",
           "title": {
            "standoff": 15
           },
           "zerolinecolor": "white",
           "zerolinewidth": 2
          }
         }
        },
        "width": 700,
        "xaxis": {
         "mirror": false,
         "range": [
          -0.5,
          120.5
         ],
         "rangemode": "tozero",
         "showgrid": false,
         "showline": true,
         "showticklabels": true,
         "side": "bottom",
         "tickangle": 0,
         "tickmode": "array",
         "ticks": "outside",
         "ticktext": [
          "1",
          "1",
          "1",
          "1",
          "46",
          "1",
          "1",
          "1",
          "1",
          "3",
          "1",
          "92"
         ],
         "tickvals": [
          5,
          15,
          25,
          35,
          45,
          55,
          65,
          75,
          85,
          95,
          105,
          115
         ],
         "type": "linear",
         "zeroline": false
        },
        "yaxis": {
         "mirror": false,
         "range": [
          0,
          1.7221280440199562
         ],
         "rangemode": "tozero",
         "showgrid": false,
         "showline": true,
         "showticklabels": true,
         "tickangle": 0,
         "ticks": "outside",
         "type": "linear",
         "zeroline": false
        }
       }
      },
      "text/html": [
       "<div>                            <div id=\"e9541026-bafa-4bb6-be3e-406dfc93fa0b\" class=\"plotly-graph-div\" style=\"height:400px; width:700px;\"></div>            <script type=\"text/javascript\">                require([\"plotly\"], function(Plotly) {                    window.PLOTLYENV=window.PLOTLYENV || {};                                    if (document.getElementById(\"e9541026-bafa-4bb6-be3e-406dfc93fa0b\")) {                    Plotly.newPlot(                        \"e9541026-bafa-4bb6-be3e-406dfc93fa0b\",                        [{\"hoverinfo\":\"text\",\"line\":{\"color\":\"#ff7f0e\",\"dash\":\"1, 0\",\"width\":1.0},\"mode\":\"lines\",\"opacity\":1.0,\"x\":[35.0,35.0,45.0,45.0],\"y\":[0.0,0.3605551275463992,0.3605551275463992,0.0],\"type\":\"scatter\"},{\"hoverinfo\":\"text\",\"line\":{\"color\":\"#ff7f0e\",\"dash\":\"1, 0\",\"width\":1.0},\"mode\":\"lines\",\"opacity\":1.0,\"x\":[25.0,25.0,40.0,40.0],\"y\":[0.0,0.412310562561766,0.412310562561766,0.3605551275463992],\"type\":\"scatter\"},{\"hoverinfo\":\"text\",\"line\":{\"color\":\"#ff7f0e\",\"dash\":\"1, 0\",\"width\":1.0},\"mode\":\"lines\",\"opacity\":1.0,\"x\":[15.0,15.0,32.5,32.5],\"y\":[0.0,0.45825756949558394,0.45825756949558394,0.412310562561766],\"type\":\"scatter\"},{\"hoverinfo\":\"text\",\"line\":{\"color\":\"#ff7f0e\",\"dash\":\"1, 0\",\"width\":1.0},\"mode\":\"lines\",\"opacity\":1.0,\"x\":[5.0,5.0,23.75,23.75],\"y\":[0.0,0.6244997998398398,0.6244997998398398,0.45825756949558394],\"type\":\"scatter\"},{\"hoverinfo\":\"text\",\"line\":{\"color\":\"#2ca02c\",\"dash\":\"1, 0\",\"width\":1.0},\"mode\":\"lines\",\"opacity\":1.0,\"x\":[55.0,55.0,65.0,65.0],\"y\":[0.0,0.4123105625617661,0.4123105625617661,0.0],\"type\":\"scatter\"},{\"hoverinfo\":\"text\",\"line\":{\"color\":\"#d62728\",\"dash\":\"1, 0\",\"width\":1.0},\"mode\":\"lines\",\"opacity\":1.0,\"x\":[85.0,85.0,95.0,95.0],\"y\":[0.0,0.3872983346207412,0.3872983346207412,0.0],\"type\":\"scatter\"},{\"hoverinfo\":\"text\",\"line\":{\"color\":\"#d62728\",\"dash\":\"1, 0\",\"width\":1.0},\"mode\":\"lines\",\"opacity\":1.0,\"x\":[105.0,105.0,115.0,115.0],\"y\":[0.0,0.6324555320336759,0.6324555320336759,0.0],\"type\":\"scatter\"},{\"hoverinfo\":\"text\",\"line\":{\"color\":\"#d62728\",\"dash\":\"1, 0\",\"width\":1.0},\"mode\":\"lines\",\"opacity\":1.0,\"x\":[90.0,90.0,110.0,110.0],\"y\":[0.3872983346207412,0.6480740698407862,0.6480740698407862,0.6324555320336759],\"type\":\"scatter\"},{\"hoverinfo\":\"text\",\"line\":{\"color\":\"#d62728\",\"dash\":\"1, 0\",\"width\":1.0},\"mode\":\"lines\",\"opacity\":1.0,\"x\":[75.0,75.0,100.0,100.0],\"y\":[0.0,0.7348469228349535,0.7348469228349535,0.6480740698407862],\"type\":\"scatter\"},{\"hoverinfo\":\"text\",\"line\":{\"color\":\"#1f77b4\",\"dash\":\"1, 0\",\"width\":1.0},\"mode\":\"lines\",\"opacity\":1.0,\"x\":[60.0,60.0,87.5,87.5],\"y\":[0.4123105625617661,0.818535277187245,0.818535277187245,0.7348469228349535],\"type\":\"scatter\"},{\"hoverinfo\":\"text\",\"line\":{\"color\":\"#1f77b4\",\"dash\":\"1, 0\",\"width\":1.0},\"mode\":\"lines\",\"opacity\":1.0,\"x\":[14.375,14.375,73.75,73.75],\"y\":[0.6244997998398398,1.6401219466856727,1.6401219466856727,0.818535277187245],\"type\":\"scatter\"},{\"hoverinfo\":\"text\",\"hovertext\":\"<b># of items</b> : 1<br><b>linkage id</b> : 41\",\"marker\":{\"color\":\"#ff7f0e\",\"line\":{\"color\":\"#ff7f0e\",\"width\":2},\"size\":8.0},\"mode\":\"markers+text\",\"opacity\":1.0,\"text\":\"\",\"x\":[5.0],\"y\":[0],\"type\":\"scatter\",\"textfont\":{\"size\":10.0,\"color\":\"#fff\"}},{\"hoverinfo\":\"text\",\"hovertext\":\"<b># of items</b> : 1<br><b>linkage id</b> : 22\",\"marker\":{\"color\":\"#ff7f0e\",\"line\":{\"color\":\"#ff7f0e\",\"width\":2},\"size\":8.0},\"mode\":\"markers+text\",\"opacity\":1.0,\"text\":\"\",\"x\":[15.0],\"y\":[0],\"type\":\"scatter\",\"textfont\":{\"size\":10.0,\"color\":\"#fff\"}},{\"hoverinfo\":\"text\",\"hovertext\":\"<b># of items</b> : 1<br><b>linkage id</b> : 14\",\"marker\":{\"color\":\"#ff7f0e\",\"line\":{\"color\":\"#ff7f0e\",\"width\":2},\"size\":8.0},\"mode\":\"markers+text\",\"opacity\":1.0,\"text\":\"\",\"x\":[25.0],\"y\":[0],\"type\":\"scatter\",\"textfont\":{\"size\":10.0,\"color\":\"#fff\"}},{\"hoverinfo\":\"text\",\"hovertext\":\"<b># of items</b> : 1<br><b>linkage id</b> : 15\",\"marker\":{\"color\":\"#ff7f0e\",\"line\":{\"color\":\"#ff7f0e\",\"width\":2},\"size\":8.0},\"mode\":\"markers+text\",\"opacity\":1.0,\"text\":\"\",\"x\":[35.0],\"y\":[0],\"type\":\"scatter\",\"textfont\":{\"size\":10.0,\"color\":\"#fff\"}},{\"hoverinfo\":\"text\",\"hovertext\":\"<b># of items</b> : 46<br><b>linkage id</b> : 263\",\"marker\":{\"color\":\"#ff7f0e\",\"line\":{\"color\":\"#ff7f0e\",\"width\":2},\"size\":8.0},\"mode\":\"markers+text\",\"opacity\":1.0,\"text\":\"\",\"x\":[45.0],\"y\":[0],\"type\":\"scatter\",\"textfont\":{\"size\":10.0,\"color\":\"#fff\"}},{\"hoverinfo\":\"text\",\"hovertext\":\"<b># of items</b> : 1<br><b>linkage id</b> : 117\",\"marker\":{\"color\":\"#2ca02c\",\"line\":{\"color\":\"#2ca02c\",\"width\":2},\"size\":8.0},\"mode\":\"markers+text\",\"opacity\":1.0,\"text\":\"\",\"x\":[55.0],\"y\":[0],\"type\":\"scatter\",\"textfont\":{\"size\":10.0,\"color\":\"#fff\"}},{\"hoverinfo\":\"text\",\"hovertext\":\"<b># of items</b> : 1<br><b>linkage id</b> : 131\",\"marker\":{\"color\":\"#2ca02c\",\"line\":{\"color\":\"#2ca02c\",\"width\":2},\"size\":8.0},\"mode\":\"markers+text\",\"opacity\":1.0,\"text\":\"\",\"x\":[65.0],\"y\":[0],\"type\":\"scatter\",\"textfont\":{\"size\":10.0,\"color\":\"#fff\"}},{\"hoverinfo\":\"text\",\"hovertext\":\"<b># of items</b> : 1<br><b>linkage id</b> : 106\",\"marker\":{\"color\":\"#d62728\",\"line\":{\"color\":\"#d62728\",\"width\":2},\"size\":8.0},\"mode\":\"markers+text\",\"opacity\":1.0,\"text\":\"\",\"x\":[75.0],\"y\":[0],\"type\":\"scatter\",\"textfont\":{\"size\":10.0,\"color\":\"#fff\"}},{\"hoverinfo\":\"text\",\"hovertext\":\"<b># of items</b> : 1<br><b>linkage id</b> : 98\",\"marker\":{\"color\":\"#d62728\",\"line\":{\"color\":\"#d62728\",\"width\":2},\"size\":8.0},\"mode\":\"markers+text\",\"opacity\":1.0,\"text\":\"\",\"x\":[85.0],\"y\":[0],\"type\":\"scatter\",\"textfont\":{\"size\":10.0,\"color\":\"#fff\"}},{\"hoverinfo\":\"text\",\"hovertext\":\"<b># of items</b> : 3<br><b>linkage id</b> : 265\",\"marker\":{\"color\":\"#d62728\",\"line\":{\"color\":\"#d62728\",\"width\":2},\"size\":8.0},\"mode\":\"markers+text\",\"opacity\":1.0,\"text\":\"\",\"x\":[95.0],\"y\":[0],\"type\":\"scatter\",\"textfont\":{\"size\":10.0,\"color\":\"#fff\"}},{\"hoverinfo\":\"text\",\"hovertext\":\"<b># of items</b> : 1<br><b>linkage id</b> : 109\",\"marker\":{\"color\":\"#d62728\",\"line\":{\"color\":\"#d62728\",\"width\":2},\"size\":8.0},\"mode\":\"markers+text\",\"opacity\":1.0,\"text\":\"\",\"x\":[105.0],\"y\":[0],\"type\":\"scatter\",\"textfont\":{\"size\":10.0,\"color\":\"#fff\"}},{\"hoverinfo\":\"text\",\"hovertext\":\"<b># of items</b> : 92<br><b>linkage id</b> : 292\",\"marker\":{\"color\":\"#d62728\",\"line\":{\"color\":\"#d62728\",\"width\":2},\"size\":8.0},\"mode\":\"markers+text\",\"opacity\":1.0,\"text\":\"\",\"x\":[115.0],\"y\":[0],\"type\":\"scatter\",\"textfont\":{\"size\":10.0,\"color\":\"#fff\"}},{\"hoverinfo\":\"text\",\"hovertext\":\"<b># of items</b> : 47<br><b>linkage id</b> : 269\",\"marker\":{\"color\":\"#fff\",\"line\":{\"color\":\"#ff7f0e\",\"width\":2},\"size\":14.0},\"mode\":\"markers+text\",\"opacity\":1.0,\"text\":\"\",\"x\":[40.0],\"y\":[0.3605551275463992],\"type\":\"scatter\",\"textfont\":{\"size\":10.0,\"color\":\"#fff\"}},{\"hoverinfo\":\"text\",\"hovertext\":\"<b># of items</b> : 48<br><b>linkage id</b> : 278\",\"marker\":{\"color\":\"#fff\",\"line\":{\"color\":\"#ff7f0e\",\"width\":2},\"size\":14.0},\"mode\":\"markers+text\",\"opacity\":1.0,\"text\":\"\",\"x\":[32.5],\"y\":[0.412310562561766],\"type\":\"scatter\",\"textfont\":{\"size\":10.0,\"color\":\"#fff\"}},{\"hoverinfo\":\"text\",\"hovertext\":\"<b># of items</b> : 49<br><b>linkage id</b> : 285\",\"marker\":{\"color\":\"#fff\",\"line\":{\"color\":\"#ff7f0e\",\"width\":2},\"size\":14.0},\"mode\":\"markers+text\",\"opacity\":1.0,\"text\":\"\",\"x\":[23.75],\"y\":[0.45825756949558394],\"type\":\"scatter\",\"textfont\":{\"size\":10.0,\"color\":\"#fff\"}},{\"hoverinfo\":\"text\",\"hovertext\":\"<b># of items</b> : 50<br><b>linkage id</b> : 293\",\"marker\":{\"color\":\"#ff7f0e\",\"line\":{\"color\":\"#ff7f0e\",\"width\":2},\"size\":14.0},\"mode\":\"markers+text\",\"opacity\":1.0,\"text\":\"1\",\"x\":[14.375],\"y\":[0.6244997998398398],\"type\":\"scatter\",\"textfont\":{\"size\":10.0,\"color\":\"#fff\"}},{\"hoverinfo\":\"text\",\"hovertext\":\"<b># of items</b> : 2<br><b>linkage id</b> : 279\",\"marker\":{\"color\":\"#2ca02c\",\"line\":{\"color\":\"#2ca02c\",\"width\":2},\"size\":14.0},\"mode\":\"markers+text\",\"opacity\":1.0,\"text\":\"2\",\"x\":[60.0],\"y\":[0.4123105625617661],\"type\":\"scatter\",\"textfont\":{\"size\":10.0,\"color\":\"#fff\"}},{\"hoverinfo\":\"text\",\"hovertext\":\"<b># of items</b> : 4<br><b>linkage id</b> : 273\",\"marker\":{\"color\":\"#fff\",\"line\":{\"color\":\"#d62728\",\"width\":2},\"size\":14.0},\"mode\":\"markers+text\",\"opacity\":1.0,\"text\":\"\",\"x\":[90.0],\"y\":[0.3872983346207412],\"type\":\"scatter\",\"textfont\":{\"size\":10.0,\"color\":\"#fff\"}},{\"hoverinfo\":\"text\",\"hovertext\":\"<b># of items</b> : 93<br><b>linkage id</b> : 294\",\"marker\":{\"color\":\"#fff\",\"line\":{\"color\":\"#d62728\",\"width\":2},\"size\":14.0},\"mode\":\"markers+text\",\"opacity\":1.0,\"text\":\"\",\"x\":[110.0],\"y\":[0.6324555320336759],\"type\":\"scatter\",\"textfont\":{\"size\":10.0,\"color\":\"#fff\"}},{\"hoverinfo\":\"text\",\"hovertext\":\"<b># of items</b> : 97<br><b>linkage id</b> : 295\",\"marker\":{\"color\":\"#fff\",\"line\":{\"color\":\"#d62728\",\"width\":2},\"size\":14.0},\"mode\":\"markers+text\",\"opacity\":1.0,\"text\":\"\",\"x\":[100.0],\"y\":[0.6480740698407862],\"type\":\"scatter\",\"textfont\":{\"size\":10.0,\"color\":\"#fff\"}},{\"hoverinfo\":\"text\",\"hovertext\":\"<b># of items</b> : 98<br><b>linkage id</b> : 296\",\"marker\":{\"color\":\"#d62728\",\"line\":{\"color\":\"#d62728\",\"width\":2},\"size\":14.0},\"mode\":\"markers+text\",\"opacity\":1.0,\"text\":\"3\",\"x\":[87.5],\"y\":[0.7348469228349535],\"type\":\"scatter\",\"textfont\":{\"size\":10.0,\"color\":\"#fff\"}},{\"hoverinfo\":\"text\",\"hovertext\":\"<b># of items</b> : 100<br><b>linkage id</b> : 297\",\"marker\":{\"color\":\"#1f77b4\",\"line\":{\"color\":\"#1f77b4\",\"width\":2},\"size\":14.0},\"mode\":\"markers+text\",\"opacity\":1.0,\"text\":\"\",\"x\":[73.75],\"y\":[0.818535277187245],\"type\":\"scatter\",\"textfont\":{\"size\":10.0,\"color\":\"#fff\"}},{\"hoverinfo\":\"text\",\"hovertext\":\"<b># of items</b> : 150<br><b>linkage id</b> : 298\",\"marker\":{\"color\":\"#1f77b4\",\"line\":{\"color\":\"#1f77b4\",\"width\":2},\"size\":14.0},\"mode\":\"markers+text\",\"opacity\":1.0,\"text\":\"\",\"x\":[44.0625],\"y\":[1.6401219466856727],\"type\":\"scatter\",\"textfont\":{\"size\":10.0,\"color\":\"#fff\"}}],                        {\"autosize\":false,\"height\":400,\"hovermode\":\"closest\",\"showlegend\":false,\"width\":700,\"xaxis\":{\"mirror\":false,\"range\":[-0.5,120.5],\"rangemode\":\"tozero\",\"showgrid\":false,\"showline\":true,\"showticklabels\":true,\"side\":\"bottom\",\"tickangle\":0,\"tickmode\":\"array\",\"ticks\":\"outside\",\"ticktext\":[\"1\",\"1\",\"1\",\"1\",\"46\",\"1\",\"1\",\"1\",\"1\",\"3\",\"1\",\"92\"],\"tickvals\":[5.0,15.0,25.0,35.0,45.0,55.0,65.0,75.0,85.0,95.0,105.0,115.0],\"type\":\"linear\",\"zeroline\":false},\"yaxis\":{\"mirror\":false,\"range\":[0.0,1.7221280440199562],\"rangemode\":\"tozero\",\"showgrid\":false,\"showline\":true,\"showticklabels\":true,\"tickangle\":0,\"ticks\":\"outside\",\"type\":\"linear\",\"zeroline\":false},\"template\":{\"data\":{\"histogram2dcontour\":[{\"type\":\"histogram2dcontour\",\"colorbar\":{\"outlinewidth\":0,\"ticks\":\"\"},\"colorscale\":[[0.0,\"#0d0887\"],[0.1111111111111111,\"#46039f\"],[0.2222222222222222,\"#7201a8\"],[0.3333333333333333,\"#9c179e\"],[0.4444444444444444,\"#bd3786\"],[0.5555555555555556,\"#d8576b\"],[0.6666666666666666,\"#ed7953\"],[0.7777777777777778,\"#fb9f3a\"],[0.8888888888888888,\"#fdca26\"],[1.0,\"#f0f921\"]]}],\"choropleth\":[{\"type\":\"choropleth\",\"colorbar\":{\"outlinewidth\":0,\"ticks\":\"\"}}],\"histogram2d\":[{\"type\":\"histogram2d\",\"colorbar\":{\"outlinewidth\":0,\"ticks\":\"\"},\"colorscale\":[[0.0,\"#0d0887\"],[0.1111111111111111,\"#46039f\"],[0.2222222222222222,\"#7201a8\"],[0.3333333333333333,\"#9c179e\"],[0.4444444444444444,\"#bd3786\"],[0.5555555555555556,\"#d8576b\"],[0.6666666666666666,\"#ed7953\"],[0.7777777777777778,\"#fb9f3a\"],[0.8888888888888888,\"#fdca26\"],[1.0,\"#f0f921\"]]}],\"heatmap\":[{\"type\":\"heatmap\",\"colorbar\":{\"outlinewidth\":0,\"ticks\":\"\"},\"colorscale\":[[0.0,\"#0d0887\"],[0.1111111111111111,\"#46039f\"],[0.2222222222222222,\"#7201a8\"],[0.3333333333333333,\"#9c179e\"],[0.4444444444444444,\"#bd3786\"],[0.5555555555555556,\"#d8576b\"],[0.6666666666666666,\"#ed7953\"],[0.7777777777777778,\"#fb9f3a\"],[0.8888888888888888,\"#fdca26\"],[1.0,\"#f0f921\"]]}],\"heatmapgl\":[{\"type\":\"heatmapgl\",\"colorbar\":{\"outlinewidth\":0,\"ticks\":\"\"},\"colorscale\":[[0.0,\"#0d0887\"],[0.1111111111111111,\"#46039f\"],[0.2222222222222222,\"#7201a8\"],[0.3333333333333333,\"#9c179e\"],[0.4444444444444444,\"#bd3786\"],[0.5555555555555556,\"#d8576b\"],[0.6666666666666666,\"#ed7953\"],[0.7777777777777778,\"#fb9f3a\"],[0.8888888888888888,\"#fdca26\"],[1.0,\"#f0f921\"]]}],\"contourcarpet\":[{\"type\":\"contourcarpet\",\"colorbar\":{\"outlinewidth\":0,\"ticks\":\"\"}}],\"contour\":[{\"type\":\"contour\",\"colorbar\":{\"outlinewidth\":0,\"ticks\":\"\"},\"colorscale\":[[0.0,\"#0d0887\"],[0.1111111111111111,\"#46039f\"],[0.2222222222222222,\"#7201a8\"],[0.3333333333333333,\"#9c179e\"],[0.4444444444444444,\"#bd3786\"],[0.5555555555555556,\"#d8576b\"],[0.6666666666666666,\"#ed7953\"],[0.7777777777777778,\"#fb9f3a\"],[0.8888888888888888,\"#fdca26\"],[1.0,\"#f0f921\"]]}],\"surface\":[{\"type\":\"surface\",\"colorbar\":{\"outlinewidth\":0,\"ticks\":\"\"},\"colorscale\":[[0.0,\"#0d0887\"],[0.1111111111111111,\"#46039f\"],[0.2222222222222222,\"#7201a8\"],[0.3333333333333333,\"#9c179e\"],[0.4444444444444444,\"#bd3786\"],[0.5555555555555556,\"#d8576b\"],[0.6666666666666666,\"#ed7953\"],[0.7777777777777778,\"#fb9f3a\"],[0.8888888888888888,\"#fdca26\"],[1.0,\"#f0f921\"]]}],\"mesh3d\":[{\"type\":\"mesh3d\",\"colorbar\":{\"outlinewidth\":0,\"ticks\":\"\"}}],\"scatter\":[{\"fillpattern\":{\"fillmode\":\"overlay\",\"size\":10,\"solidity\":0.2},\"type\":\"scatter\"}],\"parcoords\":[{\"type\":\"parcoords\",\"line\":{\"colorbar\":{\"outlinewidth\":0,\"ticks\":\"\"}}}],\"scatterpolargl\":[{\"type\":\"scatterpolargl\",\"marker\":{\"colorbar\":{\"outlinewidth\":0,\"ticks\":\"\"}}}],\"bar\":[{\"error_x\":{\"color\":\"#2a3f5f\"},\"error_y\":{\"color\":\"#2a3f5f\"},\"marker\":{\"line\":{\"color\":\"#E5ECF6\",\"width\":0.5},\"pattern\":{\"fillmode\":\"overlay\",\"size\":10,\"solidity\":0.2}},\"type\":\"bar\"}],\"scattergeo\":[{\"type\":\"scattergeo\",\"marker\":{\"colorbar\":{\"outlinewidth\":0,\"ticks\":\"\"}}}],\"scatterpolar\":[{\"type\":\"scatterpolar\",\"marker\":{\"colorbar\":{\"outlinewidth\":0,\"ticks\":\"\"}}}],\"histogram\":[{\"marker\":{\"pattern\":{\"fillmode\":\"overlay\",\"size\":10,\"solidity\":0.2}},\"type\":\"histogram\"}],\"scattergl\":[{\"type\":\"scattergl\",\"marker\":{\"colorbar\":{\"outlinewidth\":0,\"ticks\":\"\"}}}],\"scatter3d\":[{\"type\":\"scatter3d\",\"line\":{\"colorbar\":{\"outlinewidth\":0,\"ticks\":\"\"}},\"marker\":{\"colorbar\":{\"outlinewidth\":0,\"ticks\":\"\"}}}],\"scattermapbox\":[{\"type\":\"scattermapbox\",\"marker\":{\"colorbar\":{\"outlinewidth\":0,\"ticks\":\"\"}}}],\"scatterternary\":[{\"type\":\"scatterternary\",\"marker\":{\"colorbar\":{\"outlinewidth\":0,\"ticks\":\"\"}}}],\"scattercarpet\":[{\"type\":\"scattercarpet\",\"marker\":{\"colorbar\":{\"outlinewidth\":0,\"ticks\":\"\"}}}],\"carpet\":[{\"aaxis\":{\"endlinecolor\":\"#2a3f5f\",\"gridcolor\":\"white\",\"linecolor\":\"white\",\"minorgridcolor\":\"white\",\"startlinecolor\":\"#2a3f5f\"},\"baxis\":{\"endlinecolor\":\"#2a3f5f\",\"gridcolor\":\"white\",\"linecolor\":\"white\",\"minorgridcolor\":\"white\",\"startlinecolor\":\"#2a3f5f\"},\"type\":\"carpet\"}],\"table\":[{\"cells\":{\"fill\":{\"color\":\"#EBF0F8\"},\"line\":{\"color\":\"white\"}},\"header\":{\"fill\":{\"color\":\"#C8D4E3\"},\"line\":{\"color\":\"white\"}},\"type\":\"table\"}],\"barpolar\":[{\"marker\":{\"line\":{\"color\":\"#E5ECF6\",\"width\":0.5},\"pattern\":{\"fillmode\":\"overlay\",\"size\":10,\"solidity\":0.2}},\"type\":\"barpolar\"}],\"pie\":[{\"automargin\":true,\"type\":\"pie\"}]},\"layout\":{\"autotypenumbers\":\"strict\",\"colorway\":[\"#636efa\",\"#EF553B\",\"#00cc96\",\"#ab63fa\",\"#FFA15A\",\"#19d3f3\",\"#FF6692\",\"#B6E880\",\"#FF97FF\",\"#FECB52\"],\"font\":{\"color\":\"#2a3f5f\"},\"hovermode\":\"closest\",\"hoverlabel\":{\"align\":\"left\"},\"paper_bgcolor\":\"white\",\"plot_bgcolor\":\"#E5ECF6\",\"polar\":{\"bgcolor\":\"#E5ECF6\",\"angularaxis\":{\"gridcolor\":\"white\",\"linecolor\":\"white\",\"ticks\":\"\"},\"radialaxis\":{\"gridcolor\":\"white\",\"linecolor\":\"white\",\"ticks\":\"\"}},\"ternary\":{\"bgcolor\":\"#E5ECF6\",\"aaxis\":{\"gridcolor\":\"white\",\"linecolor\":\"white\",\"ticks\":\"\"},\"baxis\":{\"gridcolor\":\"white\",\"linecolor\":\"white\",\"ticks\":\"\"},\"caxis\":{\"gridcolor\":\"white\",\"linecolor\":\"white\",\"ticks\":\"\"}},\"coloraxis\":{\"colorbar\":{\"outlinewidth\":0,\"ticks\":\"\"}},\"colorscale\":{\"sequential\":[[0.0,\"#0d0887\"],[0.1111111111111111,\"#46039f\"],[0.2222222222222222,\"#7201a8\"],[0.3333333333333333,\"#9c179e\"],[0.4444444444444444,\"#bd3786\"],[0.5555555555555556,\"#d8576b\"],[0.6666666666666666,\"#ed7953\"],[0.7777777777777778,\"#fb9f3a\"],[0.8888888888888888,\"#fdca26\"],[1.0,\"#f0f921\"]],\"sequentialminus\":[[0.0,\"#0d0887\"],[0.1111111111111111,\"#46039f\"],[0.2222222222222222,\"#7201a8\"],[0.3333333333333333,\"#9c179e\"],[0.4444444444444444,\"#bd3786\"],[0.5555555555555556,\"#d8576b\"],[0.6666666666666666,\"#ed7953\"],[0.7777777777777778,\"#fb9f3a\"],[0.8888888888888888,\"#fdca26\"],[1.0,\"#f0f921\"]],\"diverging\":[[0,\"#8e0152\"],[0.1,\"#c51b7d\"],[0.2,\"#de77ae\"],[0.3,\"#f1b6da\"],[0.4,\"#fde0ef\"],[0.5,\"#f7f7f7\"],[0.6,\"#e6f5d0\"],[0.7,\"#b8e186\"],[0.8,\"#7fbc41\"],[0.9,\"#4d9221\"],[1,\"#276419\"]]},\"xaxis\":{\"gridcolor\":\"white\",\"linecolor\":\"white\",\"ticks\":\"\",\"title\":{\"standoff\":15},\"zerolinecolor\":\"white\",\"automargin\":true,\"zerolinewidth\":2},\"yaxis\":{\"gridcolor\":\"white\",\"linecolor\":\"white\",\"ticks\":\"\",\"title\":{\"standoff\":15},\"zerolinecolor\":\"white\",\"automargin\":true,\"zerolinewidth\":2},\"scene\":{\"xaxis\":{\"backgroundcolor\":\"#E5ECF6\",\"gridcolor\":\"white\",\"linecolor\":\"white\",\"showbackground\":true,\"ticks\":\"\",\"zerolinecolor\":\"white\",\"gridwidth\":2},\"yaxis\":{\"backgroundcolor\":\"#E5ECF6\",\"gridcolor\":\"white\",\"linecolor\":\"white\",\"showbackground\":true,\"ticks\":\"\",\"zerolinecolor\":\"white\",\"gridwidth\":2},\"zaxis\":{\"backgroundcolor\":\"#E5ECF6\",\"gridcolor\":\"white\",\"linecolor\":\"white\",\"showbackground\":true,\"ticks\":\"\",\"zerolinecolor\":\"white\",\"gridwidth\":2}},\"shapedefaults\":{\"line\":{\"color\":\"#2a3f5f\"}},\"annotationdefaults\":{\"arrowcolor\":\"#2a3f5f\",\"arrowhead\":0,\"arrowwidth\":1},\"geo\":{\"bgcolor\":\"white\",\"landcolor\":\"#E5ECF6\",\"subunitcolor\":\"white\",\"showland\":true,\"showlakes\":true,\"lakecolor\":\"white\"},\"title\":{\"x\":0.05},\"mapbox\":{\"style\":\"light\"}}}},                        {\"responsive\": true}                    ).then(function(){\n",
       "                            \n",
       "var gd = document.getElementById('e9541026-bafa-4bb6-be3e-406dfc93fa0b');\n",
       "var x = new MutationObserver(function (mutations, observer) {{\n",
       "        var display = window.getComputedStyle(gd).display;\n",
       "        if (!display || display === 'none') {{\n",
       "            console.log([gd, 'removed!']);\n",
       "            Plotly.purge(gd);\n",
       "            observer.disconnect();\n",
       "        }}\n",
       "}});\n",
       "\n",
       "// Listen for the removal of the full notebook cells\n",
       "var notebookContainer = gd.closest('#notebook-container');\n",
       "if (notebookContainer) {{\n",
       "    x.observe(notebookContainer, {childList: true});\n",
       "}}\n",
       "\n",
       "// Listen for the clearing of the current output cell\n",
       "var outputEl = gd.closest('.output');\n",
       "if (outputEl) {{\n",
       "    x.observe(outputEl, {childList: true});\n",
       "}}\n",
       "\n",
       "                        })                };                });            </script>        </div>"
      ]
     },
     "metadata": {},
     "output_type": "display_data"
    }
   ],
   "source": [
    "dendrogram.plot(\n",
    "    backend='plotly',\n",
    "    height=400, width=650,\n",
    ")"
   ]
  },
  {
   "attachments": {},
   "cell_type": "markdown",
   "metadata": {},
   "source": [
    "### Matplotlib"
   ]
  },
  {
   "cell_type": "code",
   "execution_count": null,
   "metadata": {},
   "outputs": [
    {
     "data": {
      "image/png": "[encoded data removed]",
      "text/plain": [
       "<Figure size 700x300 with 1 Axes>"
      ]
     },
     "metadata": {},
     "output_type": "display_data"
    }
   ],
   "source": [
    "dendrogram.plot(\n",
    "    backend='matplotlib',\n",
    "    height=300, width=750,\n",
    "    show_nodes=True\n",
    ")\n",
    "plt.show()"
   ]
  },
  {
   "attachments": {},
   "cell_type": "markdown",
   "metadata": {},
   "source": [
    "### Compatibility differences"
   ]
  },
  {
   "attachments": {},
   "cell_type": "markdown",
   "metadata": {},
   "source": [
    "IDendro aims to produce identical outputs no matter what the visualization frontend is used (visualization library defaults not withstanding). However, this is not always possible. Some caveats include:\n",
    "\n",
    " - `symlog` scale type is not supported by Plotly;\n",
    " - `ClusterLink.strokedash` property may need to be tweaked to achieve identically looking results among the libraries\n",
    " - Matplotlib functionality is limited to static charts; attempt is made to convert most size parameters to pixels (in line with Altair and Plotly), but some differences may remain.\n",
    "\n",
    "In case IDendro does not produce the required result out of the box, see [Customizing other attributes](/guides/custom-attributes) section for guidance on how to make further customizations that fit your needs."
   ]
  }
 ],
 "metadata": {
  "kernelspec": {
   "display_name": "idendro",
   "language": "python",
   "name": "python3"
  },
  "language_info": {
   "codemirror_mode": {
    "name": "ipython",
    "version": 3
   },
   "file_extension": ".py",
   "mimetype": "text/x-python",
   "name": "python",
   "nbconvert_exporter": "python",
   "pygments_lexer": "ipython3",
   "version": "3.10.6"
  },
  "orig_nbformat": 4
 },
 "nbformat": 4,
 "nbformat_minor": 2
}
