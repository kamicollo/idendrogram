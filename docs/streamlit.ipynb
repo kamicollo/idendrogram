{
 "cells": [
  {
   "cell_type": "code",
   "execution_count": 1,
   "metadata": {
    "tags": [
     "remove"
    ]
   },
   "outputs": [],
   "source": [
    "from sklearn.datasets import load_iris\n",
    "import altair as alt\n",
    "alt.renderers.set_embed_options(actions=False)\n",
    "data = load_iris(as_frame=True)"
   ]
  },
  {
   "attachments": {},
   "cell_type": "markdown",
   "metadata": {},
   "source": [
    "# Streamlit usage\n",
    "\n",
    "To use idendrogram in Streamlit, make sure you have installed the accompanying package `idendrogram-streamlit-component`. If you have not installed it together with idendrogram, get it:\n",
    "\n",
    "```pip install idendrogram-streamlit-component```\n",
    "\n",
    "The usage is identical to any other visualization backend. The key difference is that `to_streamlit()` function returns `ClusterNode` object if the user clicks on any of the nodes in the dendrogram. This allows creating interactive experiences where the user can get more information about a particular (sub/super) cluster in a dendrogram. \n",
    "\n",
    "For an example, see [TBD]."
   ]
  },
  {
   "cell_type": "code",
   "execution_count": 4,
   "metadata": {},
   "outputs": [],
   "source": [
    "import idendrogram\n",
    "import scipy.cluster.hierarchy as sch\n",
    "from idendrogram.targets.streamlit import to_streamlit\n",
    "\n",
    "#cluster the data\n",
    "linkage_matrix = sch.linkage(\n",
    "    data['data'], method='single', metric='euclidean'\n",
    ")\n",
    "threshold = 0.8\n",
    "flat_clusters = sch.fcluster(\n",
    "    linkage_matrix, t=threshold, criterion='distance'\n",
    ")\n",
    "\n",
    "#wrap clustering outputs / parameters into a container\n",
    "cl_data = idendrogram.ClusteringData(\n",
    "    linkage_matrix = linkage_matrix, \n",
    "    cluster_assignments = flat_clusters\n",
    ")\n",
    "\n",
    "#pass to idendrogram and create a dendrogram object\n",
    "idd = idendrogram.idendrogram()\n",
    "idd.set_cluster_info(cl_data)\n",
    "dendrogram = idd.create_dendrogram(truncate_mode='level', p=10)\n",
    "\n",
    "#visualize in streamlit and get the data object behind the selected node\n",
    "#selected_node = to_streamlit(dendrogram=dendrogram, height=200, width=629)"
   ]
  },
  {
   "attachments": {},
   "cell_type": "markdown",
   "metadata": {},
   "source": [
    "## Customizing Streamlit dendrograms\n",
    "\n",
    "Developers familiar with D3 may want to customize the dendrogram component further (e.g. create richer tooltips). The source of the streamlit component with some guidance on its structure is available at https://github.com/kamicollo/idendrogram-streamlit."
   ]
  }
 ],
 "metadata": {
  "kernelspec": {
   "display_name": "idendrogram",
   "language": "python",
   "name": "python3"
  },
  "language_info": {
   "codemirror_mode": {
    "name": "ipython",
    "version": 3
   },
   "file_extension": ".py",
   "mimetype": "text/x-python",
   "name": "python",
   "nbconvert_exporter": "python",
   "pygments_lexer": "ipython3",
   "version": "3.8.17"
  },
  "orig_nbformat": 4
 },
 "nbformat": 4,
 "nbformat_minor": 2
}
