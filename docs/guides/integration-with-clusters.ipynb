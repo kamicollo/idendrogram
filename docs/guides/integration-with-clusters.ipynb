{
 "cells": [
  {
   "attachments": {},
   "cell_type": "markdown",
   "metadata": {},
   "source": [
    "## scipy.hierarchy.cluster\n",
    "\n",
    "### using previously created scipy.dendrogram objects"
   ]
  },
  {
   "attachments": {},
   "cell_type": "markdown",
   "metadata": {},
   "source": [
    "## Scikit-learn Agglomerative Clustering\n",
    "\n",
    "@TODO - see https://scikit-learn.org/stable/auto_examples/cluster/plot_agglomerative_dendrogram.html\n",
    "\n",
    "## HBDSCAN \n",
    "\n",
    "@TODO - see https://hdbscan.readthedocs.io/en/latest/advanced_hdbscan.html"
   ]
  }
 ],
 "metadata": {
  "kernelspec": {
   "display_name": "idendro",
   "language": "python",
   "name": "python3"
  },
  "language_info": {
   "codemirror_mode": {
    "name": "ipython",
    "version": 3
   },
   "file_extension": ".py",
   "mimetype": "text/x-python",
   "name": "python",
   "nbconvert_exporter": "python",
   "pygments_lexer": "ipython3",
   "version": "3.10.6"
  },
  "orig_nbformat": 4
 },
 "nbformat": 4,
 "nbformat_minor": 2
}
