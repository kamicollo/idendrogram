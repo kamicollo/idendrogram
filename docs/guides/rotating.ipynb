{
 "cells": [
  {
   "cell_type": "code",
   "execution_count": 2,
   "metadata": {
    "tags": [
     "remove"
    ]
   },
   "outputs": [],
   "source": [
    "import os, sys\n",
    "sys.path.insert(1, os.path.join(sys.path[0], '../..'))\n",
    "from sklearn.datasets import load_iris\n",
    "import scipy.cluster.hierarchy as sch\n",
    "import idendro\n",
    "#plot in Altair\n",
    "from idendro.targets.altair import to_altair\n",
    "import altair as alt"
   ]
  },
  {
   "cell_type": "code",
   "execution_count": 3,
   "metadata": {
    "tags": [
     "remove"
    ]
   },
   "outputs": [],
   "source": [
    "alt.renderers.set_embed_options(actions=False)\n",
    "data = load_iris(as_frame=True)\n",
    "linkage_matrix = sch.linkage(data['data'], method='single', metric='euclidean')\n",
    "threshold = 0.8\n",
    "flat_clusters = sch.fcluster(linkage_matrix, t=threshold, criterion='distance')\n",
    "cl_data = idendro.ClusteringData(linkage_matrix = linkage_matrix, cluster_assignments = flat_clusters)\n",
    "#instantiate idendro object and pass clustering data\n",
    "idd = idendro.IDendro()\n",
    "idd.set_cluster_info(cl_data)\n",
    "\n",
    "#mapping from linkage_id to hex format color string \n",
    "# using an arbitrary id -> rbg mapping\n",
    "node_painter = lambda _, linkage_id: '#{:02x}{:02x}{:02x}'.format(\n",
    "    linkage_id % 255, \n",
    "    (linkage_id * linkage_id) % 255,  \n",
    "    linkage_id % 3 * linkage_id % 10\n",
    ")\n",
    "\n",
    "#create a dendrogram object"
   ]
  },
  {
   "attachments": {},
   "cell_type": "markdown",
   "metadata": {},
   "source": [
    "# Rotating dendrograms\n",
    "\n",
    "IDendro dendrograms can be rotated by simply passing `orientation` parameter when visualizing them."
   ]
  },
  {
   "cell_type": "code",
   "execution_count": null,
   "metadata": {},
   "outputs": [],
   "source": [
    "dendrogram = idd.create_dendrogram()\n",
    "to_altair(\n",
    "    dendrogram=dendrogram, height=200, width=629, \n",
    "    orientation=\"top\"\n",
    ")"
   ]
  },
  {
   "cell_type": "code",
   "execution_count": null,
   "metadata": {},
   "outputs": [],
   "source": [
    "to_altair(\n",
    "    dendrogram=dendrogram, height=200, width=629, \n",
    "    orientation=\"bottom\"\n",
    ")"
   ]
  },
  {
   "cell_type": "code",
   "execution_count": null,
   "metadata": {},
   "outputs": [],
   "source": [
    "to_altair(\n",
    "    dendrogram=dendrogram, height=200, width=629, \n",
    "    orientation=\"left\"\n",
    ")"
   ]
  },
  {
   "cell_type": "code",
   "execution_count": null,
   "metadata": {},
   "outputs": [],
   "source": [
    "to_altair(\n",
    "    dendrogram=dendrogram, height=200, width=629, \n",
    "    orientation=\"right\"\n",
    ")"
   ]
  }
 ],
 "metadata": {
  "kernelspec": {
   "display_name": "idendro",
   "language": "python",
   "name": "python3"
  },
  "language_info": {
   "codemirror_mode": {
    "name": "ipython",
    "version": 3
   },
   "file_extension": ".py",
   "mimetype": "text/x-python",
   "name": "python",
   "nbconvert_exporter": "python",
   "pygments_lexer": "ipython3",
   "version": "3.10.6"
  },
  "orig_nbformat": 4
 },
 "nbformat": 4,
 "nbformat_minor": 2
}
