{
 "cells": [
  {
   "cell_type": "code",
   "execution_count": 1,
   "metadata": {},
   "outputs": [],
   "source": [
    "import sys\n",
    "from pathlib import Path\n",
    "path = Path(\"./\").absolute().parent\n",
    "sys.path.insert(1, str(path))"
   ]
  },
  {
   "cell_type": "code",
   "execution_count": 2,
   "metadata": {},
   "outputs": [],
   "source": [
    "from demo_func import DemoData\n",
    "import numpy as np\n",
    "import scipy.cluster.hierarchy as sch\n",
    "\n",
    "signals_to_generate = 100\n",
    "network_cluster_count = 12\n",
    "x_plot_labels = np.linspace(1, 1000, 1000)\n",
    "\n",
    "demo = DemoData(no_signals=signals_to_generate, seed=833142, no_network_clusters = network_cluster_count)\n",
    "signals = demo.generate_raw_data()\n",
    "\n",
    "impairments = {\n",
    "            \"Suckout\" : (20, \"green\", np.arange(300,370), 0.5 * (np.abs(np.arange(-35, 35)) - 35)),\n",
    "            \"Wave\" : (12, \"orange\", np.arange(580,700), 3*np.sin(np.arange(120)/5)),\n",
    "        }\n",
    "\n",
    "tilt_x = np.arange(1000)\n",
    "tilt_y = np.zeros(1000,)\n",
    "tilt_y[demo.ideal_signal > 0] = -tilt_x[demo.ideal_signal > 0] * 0.02\n",
    "impairments[\"Tilt\"] = (19, \"red\", tilt_x, tilt_y)\n",
    "\n",
    "graph, impaired_signals, network_clusters = demo.generate_impaired_graph(impairments=impairments)\n",
    "sparse_matrix = demo.get_sparse_wavelet_matrix(impaired_signals)\n",
    "dists = demo.get_adjacency_matrix(sparse_matrix)"
   ]
  },
  {
   "cell_type": "code",
   "execution_count": 3,
   "metadata": {},
   "outputs": [
    {
     "data": {
      "text/plain": [
       "{1, 2, 3, 4, 5, 6, 7}"
      ]
     },
     "execution_count": 3,
     "metadata": {},
     "output_type": "execute_result"
    }
   ],
   "source": [
    "model = sch.linkage(dists, method='average')\n",
    "threshold = 70\n",
    "cluster_assignments = sch.fcluster(model, threshold, criterion='distance')\n",
    "set(cluster_assignments)"
   ]
  },
  {
   "cell_type": "code",
   "execution_count": 4,
   "metadata": {},
   "outputs": [
    {
     "data": {
      "text/plain": [
       "Dendrogram(axis_labels=[MyAxisLabel(x=5.0, label='1', labelAngle=90), MyAxisLabel(x=15.0, label='1', labelAngle=90), MyAxisLabel(x=25.0, label='1', labelAngle=90), MyAxisLabel(x=35.0, label='1', labelAngle=90), MyAxisLabel(x=45.0, label='4', labelAngle=90), MyAxisLabel(x=55.0, label='1', labelAngle=90), MyAxisLabel(x=65.0, label='1', labelAngle=90), MyAxisLabel(x=75.0, label='2', labelAngle=90), MyAxisLabel(x=85.0, label='11', labelAngle=90), MyAxisLabel(x=95.0, label='1', labelAngle=90), MyAxisLabel(x=105.0, label='1', labelAngle=90), MyAxisLabel(x=115.0, label='7', labelAngle=90), MyAxisLabel(x=125.0, label='1', labelAngle=90), MyAxisLabel(x=135.0, label='1', labelAngle=90), MyAxisLabel(x=145.0, label='4', labelAngle=90), MyAxisLabel(x=155.0, label='1', labelAngle=90), MyAxisLabel(x=165.0, label='2', labelAngle=90), MyAxisLabel(x=175.0, label='1', labelAngle=90), MyAxisLabel(x=185.0, label='2', labelAngle=90), MyAxisLabel(x=195.0, label='1', labelAngle=90), MyAxisLabel(x=205.0, label='2', labelAngle=90), MyAxisLabel(x=215.0, label='1', labelAngle=90), MyAxisLabel(x=225.0, label='15', labelAngle=90), MyAxisLabel(x=235.0, label='1', labelAngle=90), MyAxisLabel(x=245.0, label='1', labelAngle=90), MyAxisLabel(x=255.0, label='1', labelAngle=90), MyAxisLabel(x=265.0, label='34', labelAngle=90)], links=[MyLink(x=[5.0, 5.0, 15.0, 15.0], y=[0.0, 48.917474793394035, 48.917474793394035, 0.0], fillcolor='#ff7f0e', id=161, children_id=(66, 68), cluster_id=1, strokewidth=1, strokedash=[1, 5, 1], strokeopacity=0.5, _order_helper=[0, 1, 2, 3]), MyLink(x=[35.0, 35.0, 45.0, 45.0], y=[0.0, 48.80866682587825, 48.80866682587825, 0.0], fillcolor='#2ca02c', id=159, children_id=(71, 124), cluster_id=None, strokewidth=1, strokedash=[1, 5, 1], strokeopacity=0.5, _order_helper=[0, 1, 2, 3]), MyLink(x=[25.0, 25.0, 40.0, 40.0], y=[0.0, 53.299791833714245, 53.299791833714245, 48.80866682587825], fillcolor='#2ca02c', id=182, children_id=(20, 159), cluster_id=2, strokewidth=1, strokedash=[1, 5, 1], strokeopacity=0.5, _order_helper=[0, 1, 2, 3]), MyLink(x=[10.0, 10.0, 32.5, 32.5], y=[48.917474793394035, 77.35316507275142, 77.35316507275142, 53.299791833714245], fillcolor='#1f77b4', id=194, children_id=(161, 182), cluster_id=None, strokewidth=1, strokedash=[1, 5, 1], strokeopacity=0.5, _order_helper=[0, 1, 2, 3]), MyLink(x=[55.0, 55.0, 65.0, 65.0], y=[0.0, 52.41581927520318, 52.41581927520318, 0.0], fillcolor='#d62728', id=177, children_id=(3, 39), cluster_id=None, strokewidth=1, strokedash=[1, 5, 1], strokeopacity=0.5, _order_helper=[0, 1, 2, 3]), MyLink(x=[75.0, 75.0, 85.0, 85.0], y=[0.0, 52.97481103956573, 52.97481103956573, 0.0], fillcolor='#d62728', id=180, children_id=(157, 174), cluster_id=None, strokewidth=1, strokedash=[1, 5, 1], strokeopacity=0.5, _order_helper=[0, 1, 2, 3]), MyLink(x=[60.0, 60.0, 80.0, 80.0], y=[52.41581927520318, 53.759713706828, 53.759713706828, 52.97481103956573], fillcolor='#d62728', id=185, children_id=(177, 180), cluster_id=3, strokewidth=1, strokedash=[1, 5, 1], strokeopacity=0.5, _order_helper=[0, 1, 2, 3]), MyLink(x=[105.0, 105.0, 115.0, 115.0], y=[0.0, 53.83196893882111, 53.83196893882111, 0.0], fillcolor='#9467bd', id=186, children_id=(60, 171), cluster_id=None, strokewidth=1, strokedash=[1, 5, 1], strokeopacity=0.5, _order_helper=[0, 1, 2, 3]), MyLink(x=[95.0, 95.0, 110.0, 110.0], y=[0.0, 59.13407865049273, 59.13407865049273, 53.83196893882111], fillcolor='#9467bd', id=192, children_id=(77, 186), cluster_id=4, strokewidth=1, strokedash=[1, 5, 1], strokeopacity=0.5, _order_helper=[0, 1, 2, 3]), MyLink(x=[70.0, 70.0, 102.5, 102.5], y=[53.759713706828, 82.53370970584, 82.53370970584, 59.13407865049273], fillcolor='#1f77b4', id=195, children_id=(185, 192), cluster_id=None, strokewidth=1, strokedash=[1, 5, 1], strokeopacity=0.5, _order_helper=[0, 1, 2, 3]), MyLink(x=[21.25, 21.25, 86.25, 86.25], y=[77.35316507275142, 93.05467284204461, 93.05467284204461, 82.53370970584], fillcolor='#1f77b4', id=196, children_id=(194, 195), cluster_id=None, strokewidth=1, strokedash=[1, 5, 1], strokeopacity=0.5, _order_helper=[0, 1, 2, 3]), MyLink(x=[135.0, 135.0, 145.0, 145.0], y=[0.0, 48.752819203410326, 48.752819203410326, 0.0], fillcolor='#8c564b', id=158, children_id=(50, 150), cluster_id=None, strokewidth=1, strokedash=[1, 5, 1], strokeopacity=0.5, _order_helper=[0, 1, 2, 3]), MyLink(x=[125.0, 125.0, 140.0, 140.0], y=[0.0, 51.81033304869588, 51.81033304869588, 48.752819203410326], fillcolor='#8c564b', id=176, children_id=(58, 158), cluster_id=None, strokewidth=1, strokedash=[1, 5, 1], strokeopacity=0.5, _order_helper=[0, 1, 2, 3]), MyLink(x=[155.0, 155.0, 165.0, 165.0], y=[0.0, 49.02986650445658, 49.02986650445658, 0.0], fillcolor='#8c564b', id=164, children_id=(52, 145), cluster_id=None, strokewidth=1, strokedash=[1, 5, 1], strokeopacity=0.5, _order_helper=[0, 1, 2, 3]), MyLink(x=[175.0, 175.0, 185.0, 185.0], y=[0.0, 49.46360949137839, 49.46360949137839, 0.0], fillcolor='#8c564b', id=165, children_id=(90, 118), cluster_id=None, strokewidth=1, strokedash=[1, 5, 1], strokeopacity=0.5, _order_helper=[0, 1, 2, 3]), MyLink(x=[160.0, 160.0, 180.0, 180.0], y=[49.02986650445658, 53.34220906767658, 53.34220906767658, 49.46360949137839], fillcolor='#8c564b', id=183, children_id=(164, 165), cluster_id=None, strokewidth=1, strokedash=[1, 5, 1], strokeopacity=0.5, _order_helper=[0, 1, 2, 3]), MyLink(x=[132.5, 132.5, 170.0, 170.0], y=[51.81033304869588, 54.73273184728699, 54.73273184728699, 53.34220906767658], fillcolor='#8c564b', id=188, children_id=(176, 183), cluster_id=5, strokewidth=1, strokedash=[1, 5, 1], strokeopacity=0.5, _order_helper=[0, 1, 2, 3]), MyLink(x=[195.0, 195.0, 205.0, 205.0], y=[0.0, 48.928268781492136, 48.928268781492136, 0.0], fillcolor='#e377c2', id=162, children_id=(18, 113), cluster_id=None, strokewidth=1, strokedash=[1, 5, 1], strokeopacity=0.5, _order_helper=[0, 1, 2, 3]), MyLink(x=[215.0, 215.0, 225.0, 225.0], y=[0.0, 54.81711563263866, 54.81711563263866, 0.0], fillcolor='#e377c2', id=189, children_id=(67, 187), cluster_id=None, strokewidth=1, strokedash=[1, 5, 1], strokeopacity=0.5, _order_helper=[0, 1, 2, 3]), MyLink(x=[200.0, 200.0, 220.0, 220.0], y=[48.928268781492136, 55.588291766637255, 55.588291766637255, 54.81711563263866], fillcolor='#e377c2', id=190, children_id=(162, 189), cluster_id=6, strokewidth=1, strokedash=[1, 5, 1], strokeopacity=0.5, _order_helper=[0, 1, 2, 3]), MyLink(x=[235.0, 235.0, 245.0, 245.0], y=[0.0, 52.49993084742456, 52.49993084742456, 0.0], fillcolor='#7f7f7f', id=178, children_id=(9, 69), cluster_id=None, strokewidth=1, strokedash=[1, 5, 1], strokeopacity=0.5, _order_helper=[0, 1, 2, 3]), MyLink(x=[255.0, 255.0, 265.0, 265.0], y=[0.0, 53.430020184695934, 53.430020184695934, 0.0], fillcolor='#7f7f7f', id=184, children_id=(24, 181), cluster_id=None, strokewidth=1, strokedash=[1, 5, 1], strokeopacity=0.5, _order_helper=[0, 1, 2, 3]), MyLink(x=[240.0, 240.0, 260.0, 260.0], y=[52.49993084742456, 55.85024332736424, 55.85024332736424, 53.430020184695934], fillcolor='#7f7f7f', id=191, children_id=(178, 184), cluster_id=7, strokewidth=1, strokedash=[1, 5, 1], strokeopacity=0.5, _order_helper=[0, 1, 2, 3]), MyLink(x=[210.0, 210.0, 250.0, 250.0], y=[55.588291766637255, 73.64360090526921, 73.64360090526921, 55.85024332736424], fillcolor='#1f77b4', id=193, children_id=(190, 191), cluster_id=None, strokewidth=1, strokedash=[1, 5, 1], strokeopacity=0.5, _order_helper=[0, 1, 2, 3]), MyLink(x=[151.25, 151.25, 230.0, 230.0], y=[54.73273184728699, 189.91952617609135, 189.91952617609135, 73.64360090526921], fillcolor='#1f77b4', id=197, children_id=(188, 193), cluster_id=None, strokewidth=1, strokedash=[1, 5, 1], strokeopacity=0.5, _order_helper=[0, 1, 2, 3]), MyLink(x=[53.75, 53.75, 190.625, 190.625], y=[93.05467284204461, 1456.796403249361, 1456.796403249361, 189.91952617609135], fillcolor='#1f77b4', id=198, children_id=(196, 197), cluster_id=None, strokewidth=1, strokedash=[1, 5, 1], strokeopacity=0.5, _order_helper=[0, 1, 2, 3])], nodes=[MyNode(x=5.0, y=0, type='leaf', id=66, cluster_id=None, edgecolor='#ff7f0e', label='', hovertext={'# of items': '1', 'linkage id': 66}, fillcolor='#ff7f0e', radius=2, opacity=0.5, labelsize=10, labelcolor='#fff', _default_leaf_radius=2, _default_leaf_radius_if_cluster=7.0), MyNode(x=15.0, y=0, type='leaf', id=68, cluster_id=None, edgecolor='#ff7f0e', label='', hovertext={'# of items': '1', 'linkage id': 68}, fillcolor='#ff7f0e', radius=2, opacity=0.5, labelsize=10, labelcolor='#fff', _default_leaf_radius=2, _default_leaf_radius_if_cluster=7.0), MyNode(x=25.0, y=0, type='leaf', id=20, cluster_id=None, edgecolor='#2ca02c', label='', hovertext={'# of items': '1', 'linkage id': 20}, fillcolor='#2ca02c', radius=2, opacity=0.5, labelsize=10, labelcolor='#fff', _default_leaf_radius=2, _default_leaf_radius_if_cluster=7.0), MyNode(x=35.0, y=0, type='leaf', id=71, cluster_id=None, edgecolor='#2ca02c', label='', hovertext={'# of items': '1', 'linkage id': 71}, fillcolor='#2ca02c', radius=2, opacity=0.5, labelsize=10, labelcolor='#fff', _default_leaf_radius=2, _default_leaf_radius_if_cluster=7.0), MyNode(x=45.0, y=0, type='leaf', id=124, cluster_id=None, edgecolor='#2ca02c', label='', hovertext={'# of items': '4', 'linkage id': 124}, fillcolor='#2ca02c', radius=2, opacity=0.5, labelsize=10, labelcolor='#fff', _default_leaf_radius=2, _default_leaf_radius_if_cluster=7.0), MyNode(x=55.0, y=0, type='leaf', id=3, cluster_id=None, edgecolor='#d62728', label='', hovertext={'# of items': '1', 'linkage id': 3}, fillcolor='#d62728', radius=2, opacity=0.5, labelsize=10, labelcolor='#fff', _default_leaf_radius=2, _default_leaf_radius_if_cluster=7.0), MyNode(x=65.0, y=0, type='leaf', id=39, cluster_id=None, edgecolor='#d62728', label='', hovertext={'# of items': '1', 'linkage id': 39}, fillcolor='#d62728', radius=2, opacity=0.5, labelsize=10, labelcolor='#fff', _default_leaf_radius=2, _default_leaf_radius_if_cluster=7.0), MyNode(x=75.0, y=0, type='leaf', id=157, cluster_id=None, edgecolor='#d62728', label='', hovertext={'# of items': '2', 'linkage id': 157}, fillcolor='#d62728', radius=2, opacity=0.5, labelsize=10, labelcolor='#fff', _default_leaf_radius=2, _default_leaf_radius_if_cluster=7.0), MyNode(x=85.0, y=0, type='leaf', id=174, cluster_id=None, edgecolor='#d62728', label='', hovertext={'# of items': '11', 'linkage id': 174}, fillcolor='#d62728', radius=2, opacity=0.5, labelsize=10, labelcolor='#fff', _default_leaf_radius=2, _default_leaf_radius_if_cluster=7.0), MyNode(x=95.0, y=0, type='leaf', id=77, cluster_id=None, edgecolor='#9467bd', label='', hovertext={'# of items': '1', 'linkage id': 77}, fillcolor='#9467bd', radius=2, opacity=0.5, labelsize=10, labelcolor='#fff', _default_leaf_radius=2, _default_leaf_radius_if_cluster=7.0), MyNode(x=105.0, y=0, type='leaf', id=60, cluster_id=None, edgecolor='#9467bd', label='', hovertext={'# of items': '1', 'linkage id': 60}, fillcolor='#9467bd', radius=2, opacity=0.5, labelsize=10, labelcolor='#fff', _default_leaf_radius=2, _default_leaf_radius_if_cluster=7.0), MyNode(x=115.0, y=0, type='leaf', id=171, cluster_id=None, edgecolor='#9467bd', label='', hovertext={'# of items': '7', 'linkage id': 171}, fillcolor='#9467bd', radius=2, opacity=0.5, labelsize=10, labelcolor='#fff', _default_leaf_radius=2, _default_leaf_radius_if_cluster=7.0), MyNode(x=125.0, y=0, type='leaf', id=58, cluster_id=None, edgecolor='#8c564b', label='', hovertext={'# of items': '1', 'linkage id': 58}, fillcolor='#8c564b', radius=2, opacity=0.5, labelsize=10, labelcolor='#fff', _default_leaf_radius=2, _default_leaf_radius_if_cluster=7.0), MyNode(x=135.0, y=0, type='leaf', id=50, cluster_id=None, edgecolor='#8c564b', label='', hovertext={'# of items': '1', 'linkage id': 50}, fillcolor='#8c564b', radius=2, opacity=0.5, labelsize=10, labelcolor='#fff', _default_leaf_radius=2, _default_leaf_radius_if_cluster=7.0), MyNode(x=145.0, y=0, type='leaf', id=150, cluster_id=None, edgecolor='#8c564b', label='', hovertext={'# of items': '4', 'linkage id': 150}, fillcolor='#8c564b', radius=2, opacity=0.5, labelsize=10, labelcolor='#fff', _default_leaf_radius=2, _default_leaf_radius_if_cluster=7.0), MyNode(x=155.0, y=0, type='leaf', id=52, cluster_id=None, edgecolor='#8c564b', label='', hovertext={'# of items': '1', 'linkage id': 52}, fillcolor='#8c564b', radius=2, opacity=0.5, labelsize=10, labelcolor='#fff', _default_leaf_radius=2, _default_leaf_radius_if_cluster=7.0), MyNode(x=165.0, y=0, type='leaf', id=145, cluster_id=None, edgecolor='#8c564b', label='', hovertext={'# of items': '2', 'linkage id': 145}, fillcolor='#8c564b', radius=2, opacity=0.5, labelsize=10, labelcolor='#fff', _default_leaf_radius=2, _default_leaf_radius_if_cluster=7.0), MyNode(x=175.0, y=0, type='leaf', id=90, cluster_id=None, edgecolor='#8c564b', label='', hovertext={'# of items': '1', 'linkage id': 90}, fillcolor='#8c564b', radius=2, opacity=0.5, labelsize=10, labelcolor='#fff', _default_leaf_radius=2, _default_leaf_radius_if_cluster=7.0), MyNode(x=185.0, y=0, type='leaf', id=118, cluster_id=None, edgecolor='#8c564b', label='', hovertext={'# of items': '2', 'linkage id': 118}, fillcolor='#8c564b', radius=2, opacity=0.5, labelsize=10, labelcolor='#fff', _default_leaf_radius=2, _default_leaf_radius_if_cluster=7.0), MyNode(x=195.0, y=0, type='leaf', id=18, cluster_id=None, edgecolor='#e377c2', label='', hovertext={'# of items': '1', 'linkage id': 18}, fillcolor='#e377c2', radius=2, opacity=0.5, labelsize=10, labelcolor='#fff', _default_leaf_radius=2, _default_leaf_radius_if_cluster=7.0), MyNode(x=205.0, y=0, type='leaf', id=113, cluster_id=None, edgecolor='#e377c2', label='', hovertext={'# of items': '2', 'linkage id': 113}, fillcolor='#e377c2', radius=2, opacity=0.5, labelsize=10, labelcolor='#fff', _default_leaf_radius=2, _default_leaf_radius_if_cluster=7.0), MyNode(x=215.0, y=0, type='leaf', id=67, cluster_id=None, edgecolor='#e377c2', label='', hovertext={'# of items': '1', 'linkage id': 67}, fillcolor='#e377c2', radius=2, opacity=0.5, labelsize=10, labelcolor='#fff', _default_leaf_radius=2, _default_leaf_radius_if_cluster=7.0), MyNode(x=225.0, y=0, type='leaf', id=187, cluster_id=None, edgecolor='#e377c2', label='', hovertext={'# of items': '15', 'linkage id': 187}, fillcolor='#e377c2', radius=2, opacity=0.5, labelsize=10, labelcolor='#fff', _default_leaf_radius=2, _default_leaf_radius_if_cluster=7.0), MyNode(x=235.0, y=0, type='leaf', id=9, cluster_id=None, edgecolor='#7f7f7f', label='', hovertext={'# of items': '1', 'linkage id': 9}, fillcolor='#7f7f7f', radius=2, opacity=0.5, labelsize=10, labelcolor='#fff', _default_leaf_radius=2, _default_leaf_radius_if_cluster=7.0), MyNode(x=245.0, y=0, type='leaf', id=69, cluster_id=None, edgecolor='#7f7f7f', label='', hovertext={'# of items': '1', 'linkage id': 69}, fillcolor='#7f7f7f', radius=2, opacity=0.5, labelsize=10, labelcolor='#fff', _default_leaf_radius=2, _default_leaf_radius_if_cluster=7.0), MyNode(x=255.0, y=0, type='leaf', id=24, cluster_id=None, edgecolor='#7f7f7f', label='', hovertext={'# of items': '1', 'linkage id': 24}, fillcolor='#7f7f7f', radius=2, opacity=0.5, labelsize=10, labelcolor='#fff', _default_leaf_radius=2, _default_leaf_radius_if_cluster=7.0), MyNode(x=265.0, y=0, type='leaf', id=181, cluster_id=None, edgecolor='#7f7f7f', label='', hovertext={'# of items': '34', 'linkage id': 181}, fillcolor='#7f7f7f', radius=2, opacity=0.5, labelsize=10, labelcolor='#fff', _default_leaf_radius=2, _default_leaf_radius_if_cluster=7.0), MyNode(x=10.0, y=48.917474793394035, type='cluster', id=161, cluster_id=1, edgecolor='#ff7f0e', label='1', hovertext={'# of items': '2', 'linkage id': 161}, fillcolor='#ff7f0e', radius=4, opacity=0.5, labelsize=10, labelcolor='#fff', _default_leaf_radius=2, _default_leaf_radius_if_cluster=7.0), MyNode(x=40.0, y=48.80866682587825, type='subcluster', id=159, cluster_id=None, edgecolor='#2ca02c', label='', hovertext={'# of items': '5', 'linkage id': 159}, fillcolor='#fff', radius=4, opacity=0.5, labelsize=10, labelcolor='#fff', _default_leaf_radius=2, _default_leaf_radius_if_cluster=7.0), MyNode(x=32.5, y=53.299791833714245, type='cluster', id=182, cluster_id=2, edgecolor='#2ca02c', label='2', hovertext={'# of items': '6', 'linkage id': 182}, fillcolor='#2ca02c', radius=4, opacity=0.5, labelsize=10, labelcolor='#fff', _default_leaf_radius=2, _default_leaf_radius_if_cluster=7.0), MyNode(x=21.25, y=77.35316507275142, type='supercluster', id=194, cluster_id=None, edgecolor='#1f77b4', label='', hovertext={'# of items': '8', 'linkage id': 194}, fillcolor='#1f77b4', radius=4, opacity=0.5, labelsize=10, labelcolor='#fff', _default_leaf_radius=2, _default_leaf_radius_if_cluster=7.0), MyNode(x=60.0, y=52.41581927520318, type='subcluster', id=177, cluster_id=None, edgecolor='#d62728', label='', hovertext={'# of items': '2', 'linkage id': 177}, fillcolor='#fff', radius=4, opacity=0.5, labelsize=10, labelcolor='#fff', _default_leaf_radius=2, _default_leaf_radius_if_cluster=7.0), MyNode(x=80.0, y=52.97481103956573, type='subcluster', id=180, cluster_id=None, edgecolor='#d62728', label='', hovertext={'# of items': '13', 'linkage id': 180}, fillcolor='#fff', radius=4, opacity=0.5, labelsize=10, labelcolor='#fff', _default_leaf_radius=2, _default_leaf_radius_if_cluster=7.0), MyNode(x=70.0, y=53.759713706828, type='cluster', id=185, cluster_id=3, edgecolor='#d62728', label='3', hovertext={'# of items': '15', 'linkage id': 185}, fillcolor='#d62728', radius=4, opacity=0.5, labelsize=10, labelcolor='#fff', _default_leaf_radius=2, _default_leaf_radius_if_cluster=7.0), MyNode(x=110.0, y=53.83196893882111, type='subcluster', id=186, cluster_id=None, edgecolor='#9467bd', label='', hovertext={'# of items': '8', 'linkage id': 186}, fillcolor='#fff', radius=4, opacity=0.5, labelsize=10, labelcolor='#fff', _default_leaf_radius=2, _default_leaf_radius_if_cluster=7.0), MyNode(x=102.5, y=59.13407865049273, type='cluster', id=192, cluster_id=4, edgecolor='#9467bd', label='4', hovertext={'# of items': '9', 'linkage id': 192}, fillcolor='#9467bd', radius=4, opacity=0.5, labelsize=10, labelcolor='#fff', _default_leaf_radius=2, _default_leaf_radius_if_cluster=7.0), MyNode(x=86.25, y=82.53370970584, type='supercluster', id=195, cluster_id=None, edgecolor='#1f77b4', label='', hovertext={'# of items': '24', 'linkage id': 195}, fillcolor='#1f77b4', radius=4, opacity=0.5, labelsize=10, labelcolor='#fff', _default_leaf_radius=2, _default_leaf_radius_if_cluster=7.0), MyNode(x=53.75, y=93.05467284204461, type='supercluster', id=196, cluster_id=None, edgecolor='#1f77b4', label='', hovertext={'# of items': '32', 'linkage id': 196}, fillcolor='#1f77b4', radius=4, opacity=0.5, labelsize=10, labelcolor='#fff', _default_leaf_radius=2, _default_leaf_radius_if_cluster=7.0), MyNode(x=140.0, y=48.752819203410326, type='subcluster', id=158, cluster_id=None, edgecolor='#8c564b', label='', hovertext={'# of items': '5', 'linkage id': 158}, fillcolor='#fff', radius=4, opacity=0.5, labelsize=10, labelcolor='#fff', _default_leaf_radius=2, _default_leaf_radius_if_cluster=7.0), MyNode(x=132.5, y=51.81033304869588, type='subcluster', id=176, cluster_id=None, edgecolor='#8c564b', label='', hovertext={'# of items': '6', 'linkage id': 176}, fillcolor='#fff', radius=4, opacity=0.5, labelsize=10, labelcolor='#fff', _default_leaf_radius=2, _default_leaf_radius_if_cluster=7.0), MyNode(x=160.0, y=49.02986650445658, type='subcluster', id=164, cluster_id=None, edgecolor='#8c564b', label='', hovertext={'# of items': '3', 'linkage id': 164}, fillcolor='#fff', radius=4, opacity=0.5, labelsize=10, labelcolor='#fff', _default_leaf_radius=2, _default_leaf_radius_if_cluster=7.0), MyNode(x=180.0, y=49.46360949137839, type='subcluster', id=165, cluster_id=None, edgecolor='#8c564b', label='', hovertext={'# of items': '3', 'linkage id': 165}, fillcolor='#fff', radius=4, opacity=0.5, labelsize=10, labelcolor='#fff', _default_leaf_radius=2, _default_leaf_radius_if_cluster=7.0), MyNode(x=170.0, y=53.34220906767658, type='subcluster', id=183, cluster_id=None, edgecolor='#8c564b', label='', hovertext={'# of items': '6', 'linkage id': 183}, fillcolor='#fff', radius=4, opacity=0.5, labelsize=10, labelcolor='#fff', _default_leaf_radius=2, _default_leaf_radius_if_cluster=7.0), MyNode(x=151.25, y=54.73273184728699, type='cluster', id=188, cluster_id=5, edgecolor='#8c564b', label='5', hovertext={'# of items': '12', 'linkage id': 188}, fillcolor='#8c564b', radius=4, opacity=0.5, labelsize=10, labelcolor='#fff', _default_leaf_radius=2, _default_leaf_radius_if_cluster=7.0), MyNode(x=200.0, y=48.928268781492136, type='subcluster', id=162, cluster_id=None, edgecolor='#e377c2', label='', hovertext={'# of items': '3', 'linkage id': 162}, fillcolor='#fff', radius=4, opacity=0.5, labelsize=10, labelcolor='#fff', _default_leaf_radius=2, _default_leaf_radius_if_cluster=7.0), MyNode(x=220.0, y=54.81711563263866, type='subcluster', id=189, cluster_id=None, edgecolor='#e377c2', label='', hovertext={'# of items': '16', 'linkage id': 189}, fillcolor='#fff', radius=4, opacity=0.5, labelsize=10, labelcolor='#fff', _default_leaf_radius=2, _default_leaf_radius_if_cluster=7.0), MyNode(x=210.0, y=55.588291766637255, type='cluster', id=190, cluster_id=6, edgecolor='#e377c2', label='6', hovertext={'# of items': '19', 'linkage id': 190}, fillcolor='#e377c2', radius=4, opacity=0.5, labelsize=10, labelcolor='#fff', _default_leaf_radius=2, _default_leaf_radius_if_cluster=7.0), MyNode(x=240.0, y=52.49993084742456, type='subcluster', id=178, cluster_id=None, edgecolor='#7f7f7f', label='', hovertext={'# of items': '2', 'linkage id': 178}, fillcolor='#fff', radius=4, opacity=0.5, labelsize=10, labelcolor='#fff', _default_leaf_radius=2, _default_leaf_radius_if_cluster=7.0), MyNode(x=260.0, y=53.430020184695934, type='subcluster', id=184, cluster_id=None, edgecolor='#7f7f7f', label='', hovertext={'# of items': '35', 'linkage id': 184}, fillcolor='#fff', radius=4, opacity=0.5, labelsize=10, labelcolor='#fff', _default_leaf_radius=2, _default_leaf_radius_if_cluster=7.0), MyNode(x=250.0, y=55.85024332736424, type='cluster', id=191, cluster_id=7, edgecolor='#7f7f7f', label='7', hovertext={'# of items': '37', 'linkage id': 191}, fillcolor='#7f7f7f', radius=4, opacity=0.5, labelsize=10, labelcolor='#fff', _default_leaf_radius=2, _default_leaf_radius_if_cluster=7.0), MyNode(x=230.0, y=73.64360090526921, type='supercluster', id=193, cluster_id=None, edgecolor='#1f77b4', label='', hovertext={'# of items': '56', 'linkage id': 193}, fillcolor='#1f77b4', radius=4, opacity=0.5, labelsize=10, labelcolor='#fff', _default_leaf_radius=2, _default_leaf_radius_if_cluster=7.0), MyNode(x=190.625, y=189.91952617609135, type='supercluster', id=197, cluster_id=None, edgecolor='#1f77b4', label='', hovertext={'# of items': '68', 'linkage id': 197}, fillcolor='#1f77b4', radius=4, opacity=0.5, labelsize=10, labelcolor='#fff', _default_leaf_radius=2, _default_leaf_radius_if_cluster=7.0), MyNode(x=122.1875, y=1456.796403249361, type='supercluster', id=198, cluster_id=None, edgecolor='#1f77b4', label='', hovertext={'# of items': '100', 'linkage id': 198}, fillcolor='#1f77b4', radius=4, opacity=0.5, labelsize=10, labelcolor='#fff', _default_leaf_radius=2, _default_leaf_radius_if_cluster=7.0)], computed_nodes=True, x_domain=(5.0, 265.0), y_domain=(0.0, 1456.796403249361))"
      ]
     },
     "execution_count": 4,
     "metadata": {},
     "output_type": "execute_result"
    }
   ],
   "source": [
    "from dataclasses import dataclass, field\n",
    "from typing import List\n",
    "import idendro\n",
    "import importlib as imp\n",
    "\n",
    "from idendro.callbacks import cluster_labeller\n",
    "imp.reload(idendro)\n",
    "\n",
    "@dataclass\n",
    "class MyAxisLabel(idendro.AxisLabel):\n",
    "    labelAngle: float = 90\n",
    "\n",
    "@dataclass\n",
    "class MyLink(idendro.ClusterLink):\n",
    "    strokewidth: float = 1\n",
    "    strokedash: List = field(default_factory= lambda: [1, 5, 1])\n",
    "    strokeopacity: float = 0.5\n",
    "\n",
    "@dataclass\n",
    "class MyNode(idendro.ClusterNode):\n",
    "    radius: float = 4\n",
    "    _default_leaf_radius: float = 2\n",
    "    labelsize: float = 10\n",
    "    opacity: float = 0.5\n",
    "    pass\n",
    "\n",
    "\n",
    "cdata = idendro.ClusteringData(linkage_matrix=model, cluster_assignments=cluster_assignments, threshold=threshold)\n",
    "\n",
    "dd = idendro.IDendro(link_factory=lambda x: MyLink(**x), node_factory=lambda x: MyNode(**x), axis_label_factory=lambda x: MyAxisLabel(**x))\n",
    "dd.set_cluster_info(cdata)\n",
    "dendrogram = dd.create_dendrogram(\n",
    "    compute_nodes=True, \n",
    "    leaf_label_func= cluster_labeller()\n",
    ")\n",
    "\n",
    "dd.create_dendrogram()\n"
   ]
  },
  {
   "cell_type": "code",
   "execution_count": 6,
   "metadata": {},
   "outputs": [
    {
     "data": {
      "text/plain": [
       "<AxesSubplot:>"
      ]
     },
     "execution_count": 6,
     "metadata": {},
     "output_type": "execute_result"
    },
    {
     "data": {
      "image/png": "[encoded data removed]",
      "text/plain": [
       "<Figure size 600x600 with 1 Axes>"
      ]
     },
     "metadata": {},
     "output_type": "display_data"
    }
   ],
   "source": [
    "from idendro.targets.matplotlib import to_matplotlib\n",
    "to_matplotlib(dendrogram, orientation='top', height=6, width=6, show_nodes=True)\n",
    "#o.update_yaxes(type='log', range=(-1, 3.3))"
   ]
  },
  {
   "cell_type": "code",
   "execution_count": null,
   "metadata": {},
   "outputs": [
    {
     "ename": "NameError",
     "evalue": "name 'dendrogram' is not defined",
     "output_type": "error",
     "traceback": [
      "\u001b[0;31m---------------------------------------------------------------------------\u001b[0m",
      "\u001b[0;31mNameError\u001b[0m                                 Traceback (most recent call last)",
      "Cell \u001b[0;32mIn [4], line 1\u001b[0m\n\u001b[0;32m----> 1\u001b[0m dendrogram\u001b[39m.\u001b[39mto_plotly(orientation\u001b[39m=\u001b[39m\u001b[39m'\u001b[39m\u001b[39mtop\u001b[39m\u001b[39m'\u001b[39m, height\u001b[39m=\u001b[39m\u001b[39m650\u001b[39m, width\u001b[39m=\u001b[39m\u001b[39m900\u001b[39m, show_nodes\u001b[39m=\u001b[39m\u001b[39mTrue\u001b[39;00m)\n",
      "\u001b[0;31mNameError\u001b[0m: name 'dendrogram' is not defined"
     ]
    }
   ],
   "source": [
    "dendrogram.to_plotly(orientation='top', height=650, width=900, show_nodes=True)"
   ]
  },
  {
   "cell_type": "code",
   "execution_count": null,
   "metadata": {},
   "outputs": [
    {
     "data": {
      "text/plain": [
       "array([161, 182, 185, 192, 190, 191, 188], dtype=int32)"
      ]
     },
     "execution_count": 6,
     "metadata": {},
     "output_type": "execute_result"
    }
   ],
   "source": [
    "_, nd = cdata.get_tree()\n",
    "L, M = cdata.get_leaders()\n",
    "\n",
    "L"
   ]
  },
  {
   "cell_type": "code",
   "execution_count": null,
   "metadata": {},
   "outputs": [
    {
     "data": {
      "text/html": [
       "\n",
       "<div id=\"altair-viz-4feffcf12e3942fdb3e28ff1de9f8602\"></div>\n",
       "<script type=\"text/javascript\">\n",
       "  var VEGA_DEBUG = (typeof VEGA_DEBUG == \"undefined\") ? {} : VEGA_DEBUG;\n",
       "  (function(spec, embedOpt){\n",
       "    let outputDiv = document.currentScript.previousElementSibling;\n",
       "    if (outputDiv.id !== \"altair-viz-4feffcf12e3942fdb3e28ff1de9f8602\") {\n",
       "      outputDiv = document.getElementById(\"altair-viz-4feffcf12e3942fdb3e28ff1de9f8602\");\n",
       "    }\n",
       "    const paths = {\n",
       "      \"vega\": \"https://cdn.jsdelivr.net/npm//vega@5?noext\",\n",
       "      \"vega-lib\": \"https://cdn.jsdelivr.net/npm//vega-lib?noext\",\n",
       "      \"vega-lite\": \"https://cdn.jsdelivr.net/npm//vega-lite@4.17.0?noext\",\n",
       "      \"vega-embed\": \"https://cdn.jsdelivr.net/npm//vega-embed@6?noext\",\n",
       "    };\n",
       "\n",
       "    function maybeLoadScript(lib, version) {\n",
       "      var key = `${lib.replace(\"-\", \"\")}_version`;\n",
       "      return (VEGA_DEBUG[key] == version) ?\n",
       "        Promise.resolve(paths[lib]) :\n",
       "        new Promise(function(resolve, reject) {\n",
       "          var s = document.createElement('script');\n",
       "          document.getElementsByTagName(\"head\")[0].appendChild(s);\n",
       "          s.async = true;\n",
       "          s.onload = () => {\n",
       "            VEGA_DEBUG[key] = version;\n",
       "            return resolve(paths[lib]);\n",
       "          };\n",
       "          s.onerror = () => reject(`Error loading script: ${paths[lib]}`);\n",
       "          s.src = paths[lib];\n",
       "        });\n",
       "    }\n",
       "\n",
       "    function showError(err) {\n",
       "      outputDiv.innerHTML = `<div class=\"error\" style=\"color:red;\">${err}</div>`;\n",
       "      throw err;\n",
       "    }\n",
       "\n",
       "    function displayChart(vegaEmbed) {\n",
       "      vegaEmbed(outputDiv, spec, embedOpt)\n",
       "        .catch(err => showError(`Javascript Error: ${err.message}<br>This usually means there's a typo in your chart specification. See the javascript console for the full traceback.`));\n",
       "    }\n",
       "\n",
       "    if(typeof define === \"function\" && define.amd) {\n",
       "      requirejs.config({paths});\n",
       "      require([\"vega-embed\"], displayChart, err => showError(`Error loading script: ${err.message}`));\n",
       "    } else {\n",
       "      maybeLoadScript(\"vega\", \"5\")\n",
       "        .then(() => maybeLoadScript(\"vega-lite\", \"4.17.0\"))\n",
       "        .then(() => maybeLoadScript(\"vega-embed\", \"6\"))\n",
       "        .catch(showError)\n",
       "        .then(() => displayChart(vegaEmbed));\n",
       "    }\n",
       "  })({\"data\": {\"name\": \"data-c3ddd4e54a766cc566ed54aed3b61dfb\"}, \"mark\": \"line\", \"encoding\": {\"strokeDash\": {\"field\": \"dash\", \"scale\": null, \"type\": \"nominal\"}, \"x\": {\"field\": \"x\", \"type\": \"quantitative\"}, \"y\": {\"field\": \"y\", \"type\": \"quantitative\"}}, \"$schema\": \"https://vega.github.io/schema/vega-lite/v4.17.0.json\", \"datasets\": {\"data-c3ddd4e54a766cc566ed54aed3b61dfb\": [{\"x\": 0, \"y\": 0, \"dash\": [1, 0]}, {\"x\": 1, \"y\": 1, \"dash\": [1, 0]}]}}, {\"mode\": \"vega-lite\"});\n",
       "</script>"
      ],
      "text/plain": [
       "alt.Chart(...)"
      ]
     },
     "execution_count": 7,
     "metadata": {},
     "output_type": "execute_result"
    }
   ],
   "source": [
    "import pandas as pd\n",
    "import altair as alt\n",
    "\n",
    "dash = [1,0]\n",
    "alt.Chart(pd.DataFrame([{'x': 0, \"y\": 0, \"dash\": dash}, {'x': 1, \"y\": 1, \"dash\": dash}])).mark_line().encode(\n",
    "    alt.X('x'), alt.Y('y'), alt.StrokeDash('dash', scale=None)\n",
    ")\n"
   ]
  },
  {
   "cell_type": "code",
   "execution_count": null,
   "metadata": {},
   "outputs": [
    {
     "data": {
      "text/plain": [
       "MyNode(x=5.0, y=0, type='leaf', id=66, cluster_id=None, edgecolor='#ff7f0e', label='', hovertext={'# of items': '1', 'linkage_id': 66}, fillcolor='#ff7f0e', radius=2, opacity=0.5, labelsize=10, labelcolor='#fff', _default_leaf_radius=2)"
      ]
     },
     "execution_count": 8,
     "metadata": {},
     "output_type": "execute_result"
    }
   ],
   "source": [
    "import json\n",
    "from dataclasses import asdict\n",
    "dendrogram.nodes[0]"
   ]
  },
  {
   "cell_type": "code",
   "execution_count": null,
   "metadata": {},
   "outputs": [
    {
     "data": {
      "text/html": [
       "<div>\n",
       "<style scoped>\n",
       "    .dataframe tbody tr th:only-of-type {\n",
       "        vertical-align: middle;\n",
       "    }\n",
       "\n",
       "    .dataframe tbody tr th {\n",
       "        vertical-align: top;\n",
       "    }\n",
       "\n",
       "    .dataframe thead th {\n",
       "        text-align: right;\n",
       "    }\n",
       "</style>\n",
       "<table border=\"1\" class=\"dataframe\">\n",
       "  <thead>\n",
       "    <tr style=\"text-align: right;\">\n",
       "      <th></th>\n",
       "      <th>index</th>\n",
       "      <th>x</th>\n",
       "      <th>y</th>\n",
       "      <th>fillcolor</th>\n",
       "      <th>id</th>\n",
       "      <th>children_id</th>\n",
       "      <th>cluster_id</th>\n",
       "      <th>strokewidth</th>\n",
       "      <th>strokedash</th>\n",
       "      <th>strokeopacity</th>\n",
       "      <th>_order_helper</th>\n",
       "    </tr>\n",
       "  </thead>\n",
       "  <tbody>\n",
       "    <tr>\n",
       "      <th>0</th>\n",
       "      <td>0</td>\n",
       "      <td>5.0</td>\n",
       "      <td>0.0</td>\n",
       "      <td>#ff7f0e</td>\n",
       "      <td>161</td>\n",
       "      <td>(66, 68)</td>\n",
       "      <td>1.0</td>\n",
       "      <td>1</td>\n",
       "      <td>[1, 5, 1]</td>\n",
       "      <td>0.5</td>\n",
       "      <td>[0, 1, 2, 3]</td>\n",
       "    </tr>\n",
       "    <tr>\n",
       "      <th>1</th>\n",
       "      <td>0</td>\n",
       "      <td>5.0</td>\n",
       "      <td>48.917475</td>\n",
       "      <td>#ff7f0e</td>\n",
       "      <td>161</td>\n",
       "      <td>(66, 68)</td>\n",
       "      <td>1.0</td>\n",
       "      <td>1</td>\n",
       "      <td>[1, 5, 1]</td>\n",
       "      <td>0.5</td>\n",
       "      <td>[0, 1, 2, 3]</td>\n",
       "    </tr>\n",
       "    <tr>\n",
       "      <th>2</th>\n",
       "      <td>0</td>\n",
       "      <td>15.0</td>\n",
       "      <td>48.917475</td>\n",
       "      <td>#ff7f0e</td>\n",
       "      <td>161</td>\n",
       "      <td>(66, 68)</td>\n",
       "      <td>1.0</td>\n",
       "      <td>1</td>\n",
       "      <td>[1, 5, 1]</td>\n",
       "      <td>0.5</td>\n",
       "      <td>[0, 1, 2, 3]</td>\n",
       "    </tr>\n",
       "    <tr>\n",
       "      <th>3</th>\n",
       "      <td>0</td>\n",
       "      <td>15.0</td>\n",
       "      <td>0.0</td>\n",
       "      <td>#ff7f0e</td>\n",
       "      <td>161</td>\n",
       "      <td>(66, 68)</td>\n",
       "      <td>1.0</td>\n",
       "      <td>1</td>\n",
       "      <td>[1, 5, 1]</td>\n",
       "      <td>0.5</td>\n",
       "      <td>[0, 1, 2, 3]</td>\n",
       "    </tr>\n",
       "    <tr>\n",
       "      <th>4</th>\n",
       "      <td>1</td>\n",
       "      <td>35.0</td>\n",
       "      <td>0.0</td>\n",
       "      <td>#2ca02c</td>\n",
       "      <td>159</td>\n",
       "      <td>(71, 124)</td>\n",
       "      <td>NaN</td>\n",
       "      <td>1</td>\n",
       "      <td>[1, 5, 1]</td>\n",
       "      <td>0.5</td>\n",
       "      <td>[0, 1, 2, 3]</td>\n",
       "    </tr>\n",
       "    <tr>\n",
       "      <th>...</th>\n",
       "      <td>...</td>\n",
       "      <td>...</td>\n",
       "      <td>...</td>\n",
       "      <td>...</td>\n",
       "      <td>...</td>\n",
       "      <td>...</td>\n",
       "      <td>...</td>\n",
       "      <td>...</td>\n",
       "      <td>...</td>\n",
       "      <td>...</td>\n",
       "      <td>...</td>\n",
       "    </tr>\n",
       "    <tr>\n",
       "      <th>99</th>\n",
       "      <td>24</td>\n",
       "      <td>230.0</td>\n",
       "      <td>73.643601</td>\n",
       "      <td>#1f77b4</td>\n",
       "      <td>197</td>\n",
       "      <td>(188, 193)</td>\n",
       "      <td>NaN</td>\n",
       "      <td>1</td>\n",
       "      <td>[1, 5, 1]</td>\n",
       "      <td>0.5</td>\n",
       "      <td>[0, 1, 2, 3]</td>\n",
       "    </tr>\n",
       "    <tr>\n",
       "      <th>100</th>\n",
       "      <td>25</td>\n",
       "      <td>53.75</td>\n",
       "      <td>93.054673</td>\n",
       "      <td>#1f77b4</td>\n",
       "      <td>198</td>\n",
       "      <td>(196, 197)</td>\n",
       "      <td>NaN</td>\n",
       "      <td>1</td>\n",
       "      <td>[1, 5, 1]</td>\n",
       "      <td>0.5</td>\n",
       "      <td>[0, 1, 2, 3]</td>\n",
       "    </tr>\n",
       "    <tr>\n",
       "      <th>101</th>\n",
       "      <td>25</td>\n",
       "      <td>53.75</td>\n",
       "      <td>1456.796403</td>\n",
       "      <td>#1f77b4</td>\n",
       "      <td>198</td>\n",
       "      <td>(196, 197)</td>\n",
       "      <td>NaN</td>\n",
       "      <td>1</td>\n",
       "      <td>[1, 5, 1]</td>\n",
       "      <td>0.5</td>\n",
       "      <td>[0, 1, 2, 3]</td>\n",
       "    </tr>\n",
       "    <tr>\n",
       "      <th>102</th>\n",
       "      <td>25</td>\n",
       "      <td>190.625</td>\n",
       "      <td>1456.796403</td>\n",
       "      <td>#1f77b4</td>\n",
       "      <td>198</td>\n",
       "      <td>(196, 197)</td>\n",
       "      <td>NaN</td>\n",
       "      <td>1</td>\n",
       "      <td>[1, 5, 1]</td>\n",
       "      <td>0.5</td>\n",
       "      <td>[0, 1, 2, 3]</td>\n",
       "    </tr>\n",
       "    <tr>\n",
       "      <th>103</th>\n",
       "      <td>25</td>\n",
       "      <td>190.625</td>\n",
       "      <td>189.919526</td>\n",
       "      <td>#1f77b4</td>\n",
       "      <td>198</td>\n",
       "      <td>(196, 197)</td>\n",
       "      <td>NaN</td>\n",
       "      <td>1</td>\n",
       "      <td>[1, 5, 1]</td>\n",
       "      <td>0.5</td>\n",
       "      <td>[0, 1, 2, 3]</td>\n",
       "    </tr>\n",
       "  </tbody>\n",
       "</table>\n",
       "<p>104 rows × 11 columns</p>\n",
       "</div>"
      ],
      "text/plain": [
       "     index        x            y fillcolor   id children_id  cluster_id  \\\n",
       "0        0      5.0          0.0   #ff7f0e  161    (66, 68)         1.0   \n",
       "1        0      5.0    48.917475   #ff7f0e  161    (66, 68)         1.0   \n",
       "2        0     15.0    48.917475   #ff7f0e  161    (66, 68)         1.0   \n",
       "3        0     15.0          0.0   #ff7f0e  161    (66, 68)         1.0   \n",
       "4        1     35.0          0.0   #2ca02c  159   (71, 124)         NaN   \n",
       "..     ...      ...          ...       ...  ...         ...         ...   \n",
       "99      24    230.0    73.643601   #1f77b4  197  (188, 193)         NaN   \n",
       "100     25    53.75    93.054673   #1f77b4  198  (196, 197)         NaN   \n",
       "101     25    53.75  1456.796403   #1f77b4  198  (196, 197)         NaN   \n",
       "102     25  190.625  1456.796403   #1f77b4  198  (196, 197)         NaN   \n",
       "103     25  190.625   189.919526   #1f77b4  198  (196, 197)         NaN   \n",
       "\n",
       "     strokewidth strokedash  strokeopacity _order_helper  \n",
       "0              1  [1, 5, 1]            0.5  [0, 1, 2, 3]  \n",
       "1              1  [1, 5, 1]            0.5  [0, 1, 2, 3]  \n",
       "2              1  [1, 5, 1]            0.5  [0, 1, 2, 3]  \n",
       "3              1  [1, 5, 1]            0.5  [0, 1, 2, 3]  \n",
       "4              1  [1, 5, 1]            0.5  [0, 1, 2, 3]  \n",
       "..           ...        ...            ...           ...  \n",
       "99             1  [1, 5, 1]            0.5  [0, 1, 2, 3]  \n",
       "100            1  [1, 5, 1]            0.5  [0, 1, 2, 3]  \n",
       "101            1  [1, 5, 1]            0.5  [0, 1, 2, 3]  \n",
       "102            1  [1, 5, 1]            0.5  [0, 1, 2, 3]  \n",
       "103            1  [1, 5, 1]            0.5  [0, 1, 2, 3]  \n",
       "\n",
       "[104 rows x 11 columns]"
      ]
     },
     "execution_count": 9,
     "metadata": {},
     "output_type": "execute_result"
    }
   ],
   "source": [
    "import pandas as pd\n",
    "from dataclasses import asdict\n",
    "a = [asdict(x) for x in dendrogram.links]\n",
    "pd.DataFrame(a).explode([\"x\", \"y\"]).reset_index()"
   ]
  },
  {
   "cell_type": "code",
   "execution_count": null,
   "metadata": {},
   "outputs": [
    {
     "data": {
      "text/plain": [
       "1"
      ]
     },
     "execution_count": 10,
     "metadata": {},
     "output_type": "execute_result"
    },
    {
     "data": {
      "image/png": "[encoded data removed]",
      "text/plain": [
       "<Figure size 300x300 with 1 Axes>"
      ]
     },
     "metadata": {},
     "output_type": "display_data"
    }
   ],
   "source": [
    "from matplotlib import pyplot\n",
    "\n",
    "ax = pyplot.figure(figsize=(3,3)).subplots()\n",
    "\n",
    "ax.plot([0,1, 2, 2], [0,1, 1, 0])\n",
    "\n",
    "\n",
    "@dataclass\n",
    "class Foo:\n",
    "    x: float = 1\n",
    "    y: float = 2\n",
    "\n",
    "f = Foo()\n",
    "f.__getattribute__('x')"
   ]
  }
 ],
 "metadata": {
  "kernelspec": {
   "display_name": "Python 3.10.6 ('idendro')",
   "language": "python",
   "name": "python3"
  },
  "language_info": {
   "codemirror_mode": {
    "name": "ipython",
    "version": 3
   },
   "file_extension": ".py",
   "mimetype": "text/x-python",
   "name": "python",
   "nbconvert_exporter": "python",
   "pygments_lexer": "ipython3",
   "version": "3.10.6"
  },
  "orig_nbformat": 4,
  "vscode": {
   "interpreter": {
    "hash": "c65e684e66d07d621a56d60ea18d00083a3aa685fb3125bee996e4f969a9bef8"
   }
  }
 },
 "nbformat": 4,
 "nbformat_minor": 2
}
